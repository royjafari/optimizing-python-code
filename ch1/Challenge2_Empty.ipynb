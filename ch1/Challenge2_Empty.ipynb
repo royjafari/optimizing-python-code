{
 "cells": [
  {
   "cell_type": "markdown",
   "id": "8413c310",
   "metadata": {},
   "source": [
    "# Zero To Hero Big Data Prepration\n",
    "Taking Advantage of Cloud Technologies to Create Big Data Solutions\n",
    "    \n",
    "    AUTHOR: Dr. Roy Jafari \n",
    "\n",
    "## Chapter 6: Effectively employing computational and memory resources "
   ]
  },
  {
   "cell_type": "markdown",
   "id": "87a15ea0",
   "metadata": {},
   "source": [
    "### Challenge 2: Iterative or Recursive?\n",
    "In this challenge, we will consider two different algorithms to sort a list of numbers. The first approach is iterative, and the second one will be recursive.\n",
    "\n",
    "Let us first talk a bit about recursion in Python. In case you are already familiar with this concept you may want to skip ahead.\n"
   ]
  },
  {
   "cell_type": "markdown",
   "id": "3298973f",
   "metadata": {},
   "source": [
    "### Recursion in Python\n",
    "\n",
    "In Python or any other language that allows recursion, recursive functions are just like any other function except for the fact that they call themselves inside the function.\n",
    "\n",
    "The following function is a recursive definition of the function multiply() that takes two numbers and calculates their multiplication. Two aspects are unique about this function. First, the function is only allowed to use addition or subtraction. Second, the function is recursive. You can validate that by checking how inside the definition of the function, the function itself is used. \n",
    "\n",
    "```\n",
    "def multiply(a,b):\n",
    "    if b==1: return a\n",
    "    return a + multiply(a,b-1)\n",
    "```\n",
    "\n",
    "To help you understand, how recursive function work, use the following code to define the function instead. Pay attention, `print(f'multiply({a},{b})')` has been added to the definition of the function `multiply()`. This will help you to be able to track how many times the function was used. \n",
    "```\n",
    "def multiply(a,b):\n",
    "    print(f'multiply({a},{b})')\n",
    "    if b==1: return a\n",
    "    return a + multiply(a,b-1)\n",
    "```\n",
    "\n",
    "Now, try to use the function to run `multiply(100,4)`.  The function will return 400, which is the correct answer for the multiplication of 100*4. The function also prints the following four lines with the following values: multiply(100,4), multiply(100,3), multiply(100,2), multiply(100,1). "
   ]
  },
  {
   "cell_type": "code",
   "execution_count": 9,
   "id": "40eba6be",
   "metadata": {},
   "outputs": [],
   "source": [
    "def multiply(a,b):\n",
    "    print(f'multiply({a},{b})')\n",
    "    if b==1: return a\n",
    "    return a + multiply(a,b-1)"
   ]
  },
  {
   "cell_type": "code",
   "execution_count": 10,
   "id": "467e1538",
   "metadata": {},
   "outputs": [
    {
     "name": "stdout",
     "output_type": "stream",
     "text": [
      "multiply(100,4)\n",
      "multiply(100,3)\n",
      "multiply(100,2)\n",
      "multiply(100,1)\n"
     ]
    },
    {
     "data": {
      "text/plain": [
       "400"
      ]
     },
     "execution_count": 10,
     "metadata": {},
     "output_type": "execute_result"
    }
   ],
   "source": [
    "multiply(100,4)"
   ]
  },
  {
   "cell_type": "markdown",
   "id": "e8c4e7da",
   "metadata": {},
   "source": [
    "These printouts can help us understand what happened when we hit run on `multiply(100,4)`. We can understand to calculate multiply(100,4) we need to first calculate multiply(100,3) and to calculate that we need to first calculate multiply(100,2) finally to calculate that we need the answer to multiply(100,1). The answer to multiply(100,1) is returned as 100 because of b==1. Now that we have the answer to multiply(100,1) we can calculate multiply(100,2), and with the answer to that one we can calculate multiply(100,3), and ultimately with the answer to that one, we can calculate and return multiply(100,4). \n",
    "Now let’s practice writing a recursive function together, to understand this important programming tool even deeper. "
   ]
  },
  {
   "cell_type": "markdown",
   "id": "88505b74",
   "metadata": {},
   "source": [
    "### Practice writing a recursive function\n",
    "\n",
    "This is very important that you try doing this practice yourself first before moving on. Unless you experience the issues and challenges of writing a recursion function you might never be able to fully appreciate what’s going to come after. \n",
    "Try to create the following functions. The two functions are supposed to respond similarly, however, one will use iterative and the other uses a recursive approach.\n",
    "\n",
    "- `factorial_iterative()`: the function takes in a number and calculates the factorial of the number iteratively and returns it.\n",
    "- `factorial_recursive()`: the function takes in a number and calculates the factorial of the number recursively and returns it."
   ]
  },
  {
   "cell_type": "markdown",
   "id": "511d34ec",
   "metadata": {},
   "source": [
    "    ######################################################################\n",
    "    What is the factorial of a number?\n",
    "    In math, the factorial of the whole number n is shown using the exclamation mark and is defined by the multiplication of all the numbers from one to n. The following shows this definition mathematically.\n",
    "\n",
    "    *n!=1×2×3×…×(n-1)×n*\n",
    "\n",
    "\n",
    "    For instance, *5!* Is calculated by *1×2×3×4×5* and is equal to *120*. \n",
    "    ######################################################################\n",
    "\n"
   ]
  },
  {
   "cell_type": "markdown",
   "id": "83a524da",
   "metadata": {},
   "source": [
    "Try creating, and testing these functions yourself first, before reading on.\n",
    "The toughest part of writing is recursive function is to make sure the function will not get the CPU in an endless loop. When trying to come up with a recursive function for the first time, it is so typical your first attempt ends up trapping the CPU in a loop. Don’t get discouraged.\n",
    "\n",
    "When we are about to come up with a recursive function the first matter we need to take care of is to provide the CPU a way out of the loop that the recursive function is going to be using. The way-out for the function multiply() was given in the first lines of its definition: `if b==1: return a`. \n",
    "\n",
    "If this was the challenge you faced in creating `factorial_recursive()` get back at it and try to engineer the way out and come up with your first recursive function. It is a great feeling when you managed to come up with a recursive function that works well.\n",
    "\n",
    "The following two pieces of code show the correct definitions of these two functions. \n",
    "First,t let's look at `factorial_iterative()`."
   ]
  },
  {
   "cell_type": "code",
   "execution_count": 11,
   "id": "0a46de30",
   "metadata": {},
   "outputs": [],
   "source": [
    "def factorial_iterative(n):\n",
    "    output = 1\n",
    "    for i in range(n):\n",
    "        output *= (i+1)\n",
    "    return output "
   ]
  },
  {
   "cell_type": "markdown",
   "id": "6a5e69b4",
   "metadata": {},
   "source": [
    "And now the definition of `factorial_recursive()`.\n"
   ]
  },
  {
   "cell_type": "code",
   "execution_count": 12,
   "id": "b8d5dfba",
   "metadata": {},
   "outputs": [],
   "source": []
  },
  {
   "cell_type": "markdown",
   "id": "a0a49da0",
   "metadata": {},
   "source": [
    "Experiment with the two functions and validate that they behave similarly and correctly. \n",
    "\n",
    "The way-out for the `factorial_recursive()` is engineering in the first line of its definition `if n==1: return 1`. Typically, the definition of recursive functions starts with their mechanism for the way out; this is not a universal rule, of course.\n",
    "\n",
    "As you saw in the preceding practice, we can normally implement a function both recursively and iteratively. However, there are cases that the optimum orchestration of CPU, RAM, and ROM can only happen under the recursive approach. If the only programming approach we know is iterative, we are forced to only have to use that approach, and we won’t be able to use our computer resources optimally. The good news is that now, you are in a position where you can pivot between the two when needed. \n",
    "One of the cases in which the optimum orchestration of CPU, RAM, and ROM can be formulated under recursion better than interaction is sorting. That is the case we are going to use to understand why recursion works better than iteration.  \n"
   ]
  },
  {
   "cell_type": "markdown",
   "id": "547cf3d6",
   "metadata": {},
   "source": [
    "### The case study: coming up with a sorting algorithm\n",
    "\n",
    "Your challenge in this part is to perform the following tasks:\n",
    " - Understand the two functions sort_iterative(), and sort_recursive(). \n",
    "- Sketch the orchestration of CPU, RAM, and ROM that each function.\n",
    "- Run, time, and compare the performance of the two functions.\n",
    "- Which function performs faster? Does the sketch explain why that is the case?\n",
    "\n",
    "The `sort_iterative()` is the following.\n",
    "\n",
    "```\n",
    "def sort_iterative(num_list):\n",
    "    sorted_array = [num_list.pop()]\n",
    "    while num_list:\n",
    "        num = num_list.pop()\n",
    "        i = 0\n",
    "        while len(sorted_array)>i and sorted_array[i]<=num:\n",
    "            i+=1\n",
    "        sorted_array.insert(i,num)\n",
    "    return sorted_array\n",
    "```\n",
    "\n",
    "The following code shows the definition of `sort_recursive()`.\n",
    "\n",
    "```\n",
    "def sort_recursive(num_list):\n",
    "    if not num_list: return num_list\n",
    "    pivot = num_list.pop()\n",
    "    left = [n for n in num_list if n<= pivot]\n",
    "    right = [n for n in num_list if n> pivot]\n",
    "    return (sort_recursive(left)+\n",
    "            [pivot] +\n",
    "            sort_recursive(right))\n",
    "```\n",
    "\n",
    "After having tried solving this challenge, you may take a look at my answer in the file `Challenge2_Solution.ipynb` in the book GitHub Repository.\n"
   ]
  },
  {
   "cell_type": "markdown",
   "id": "364a7639",
   "metadata": {},
   "source": [
    "## answers\n"
   ]
  },
  {
   "cell_type": "code",
   "execution_count": null,
   "id": "e8e1da8b",
   "metadata": {},
   "outputs": [],
   "source": []
  }
 ],
 "metadata": {
  "kernelspec": {
   "display_name": "Python 3 (ipykernel)",
   "language": "python",
   "name": "python3"
  },
  "language_info": {
   "codemirror_mode": {
    "name": "ipython",
    "version": 3
   },
   "file_extension": ".py",
   "mimetype": "text/x-python",
   "name": "python",
   "nbconvert_exporter": "python",
   "pygments_lexer": "ipython3",
   "version": "3.9.13"
  }
 },
 "nbformat": 4,
 "nbformat_minor": 5
}
