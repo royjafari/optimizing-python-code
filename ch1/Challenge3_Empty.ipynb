{
 "cells": [
  {
   "cell_type": "markdown",
   "id": "8413c310",
   "metadata": {},
   "source": [
    "# Optimizing the Python Code for Big Data \n",
    "Balancing Coding Complexity against Computational Complexity \n",
    "    \n",
    "    AUTHOR: Dr. Roy Jafari \n",
    "\n",
    "## Chapter 1: Effectively employing computational and memory resources "
   ]
  },
  {
   "cell_type": "markdown",
   "id": "87a15ea0",
   "metadata": {},
   "source": [
    "### Challenge 3: Patterns or Invention?\n",
    "In this challenge, we are going to understand and learn which of the following strategies is going to be more advantageous.\n",
    "\n",
    "    - Strategy 1: Learning the famous coding patterns, and trying to mix and match these patterns to every programming challenge\n",
    "    - Strategy 2: Using our invention to come up with a code that solves the programming\n",
    "    - Strategy 3: Spending little on the coding part, just coming up with any logically correct code, and using advanced technology to run the code\n",
    "\n",
    "You may not be familiar with coding patterns. These are strategies for solving programming challenges. For instance, in the following example, we will use a pattern called sliding window to solve the problem."
   ]
  },
  {
   "cell_type": "markdown",
   "id": "04dc6aa6",
   "metadata": {},
   "source": [
    "#### Example of Sliding Window pattern\n",
    "In this example, we would like to come up with a function that calculates the moving averages of a given time series.\n",
    "\n",
    "Moving average is a forecasting method that uses the average of the last K values of the time series as the forecast for the next value in the time series. If K = 1, then then the last value of the series will be the forecast value. If K=2, then the mean of the last two values will be the forecast value.\n",
    "\n",
    "The following two functions will get a K and a series and output the moving averages. The name of these functions are `moving_average_brute_force()`, and `moving_average_sliding_window()`.\n",
    "\n",
    "The following code shows the definition of `moving_average_brute_force()`.\n",
    "\n",
    "```\n",
    "def moving_average_brute_force(K,series):\n",
    "    result = []\n",
    "    n= len(series)\n",
    "    for i in range(n-K+1):\n",
    "        result.append(sum(series[i:i+K])/K)\n",
    "    return(result)\n",
    "```\n",
    "\n",
    "The following code shows the definition of `moving_average_sliding_window()`.\n",
    "\n",
    "```\n",
    "def moving_average_sliding_window(K,series):\n",
    "    result=[]\n",
    "    n = len(series)\n",
    "    _sum = sum(series[:K])\n",
    "    result.append(_sum/K)\n",
    "    for i in range(n-K):\n",
    "        _sum -=series[i]\n",
    "        _sum +=series[i+K]\n",
    "        result.append(_sum/K)\n",
    "    return (result)\n",
    "```\n",
    "\n",
    "The function `moving_average_brute_force()` gets the CPU to go over all the n-K+1 subsets of the series. Also, on each iteration, the CPU must go over the K values in the subsets to add them and calculate the mean. All in all, the CPU must perform something (n-K+1)*K times, and after simplification, the CPU usage that the function will have can be shown by O(n*K).\n",
    "\n",
    "On the other hand, during the function `moving_average_sliding_window()` the CPU will have to similarly go over the n-1+K subsets, on each iteration it only needs to remove the first value from the subset and add a new value to the subset. All in all, the CPU must perform smoothing (n-K+1)*2 times; when simplified the computational complexity of this function can be represented by O(n). \n",
    "\n",
    "The sliding window is the name of a coding strategy in that the code that will keep a window of data across its processing, and by sliding it will get the task done. In this example, you experienced how using this codding pattern we were able to decrease the computational complexity from O(n*K) to only O(n). For instance, when I use my computer to calculate the moving averages with K=100 for a series with a million values, it takes `moving_average_brute_force()` 2.6 seconds while it takes `moving_average_sliding_window()` only 420 milliseconds.\n"
   ]
  },
  {
   "cell_type": "markdown",
   "id": "bf35ce08",
   "metadata": {},
   "source": [
    "    ######################################################################\n",
    "    Codding patterns\n",
    "    \n",
    "    The sliding window is only one of many coding patterns that you may invest in learning. The fourteen most famous patterns are introduced with examples at  https://hackernoon.com/14-patterns-to-ace-any-coding-interview-question-c5bb3357f6ed. \n",
    "    ######################################################################"
   ]
  },
  {
   "cell_type": "markdown",
   "id": "db3219b3",
   "metadata": {},
   "source": [
    "Now that we have a better understanding of coding patterns, let us review the prompts for this challenge."
   ]
  },
  {
   "cell_type": "markdown",
   "id": "66c1e3cf",
   "metadata": {},
   "source": [
    "#### Challenge Prompts\n",
    "In this challenge, our mission is to create a function that removes duplicates from a list. For example, if we input the list [1,2,2,4,10,3,3,3], the function must return [1,2,4,10,3]. \n",
    "\n",
    "This is a famous programming challenge, and If you Google it the chances are you are going to find many different solutions to the tasks, however, avoid doing that. Because while our mission is to solve this challenge, our ultimate goal is to understand the difference between the three strategies that we saw at the beginning of this challenge.\n",
    "\n",
    "Regarding this programming task, answer the following questions. \n",
    "\n",
    "1. What is the most straightforward function that solves this task? Imagine that you don’t have any limitations on computation, time, or memory. Implement the solution in form of a function and call it `remove_duplicates_naive()`.\n",
    "2. What is the computational complexity, and memory complexity of `remove_duplicates_naive()`?\n",
    "3. Try to come up with a function that has less computational complexity than `remove_duplicates_naive()`, and call it `remove_duplicates_inventive_CPU()`.\n",
    "4. What is the computational complexity, and memory complexity of `remove_duplicates_inventive_CPU()`?\n",
    "5. Try to come up with a function that has less memory complexity than `remove_duplicates_naive()`, and call it `remove_duplicates_inventive_RAM()`.\n",
    "6. What is the computational complexity, and memory complexity of `remove_duplicates_inventive_RAM()`?\n",
    "7. Try to come up with a function that has less memory and computational complexity than `remove_duplicates_naive()`, and call it `remove_duplicates_inventive_CPU_RAM()`.\n",
    "8. What is the computational complexity, and memory complexity of `remove_duplicates_inventive_CPU_RAM()`?\n",
    "9. Study, and learn the coding pattern Two Pointers from the following subchapter. Can this pattern be used to solve this programming task?\n",
    "10. Use the two-pointers pattern to solve this task, and call the ensuing function `remove_duplicates_two_pointers()`.\n",
    "11.\tWhat is the computational complexity, and memory complexity of `remove_duplicates_two_pointers()`?\n",
    "12.\tIn this challenge, we created 5 different functions to solve the task. In creating each of these functions we used one of the three strategies that were introduced at the beginning of the chapter. Specify under what strategy each function was created. \n",
    "13.\tFrom what you experienced in this challenge, use one of the following three labels to summarize and remember these three strategies: **High-Thinking-Low-Computation**, **Low-Thinking-Learning-High-Computation**, and **High-Learning-Low-Computation**.\n",
    "14.\tFrom what you experienced in this challenge, decide which of these three strategies is more advantageous when dealing with big data every day. What is your reasoning?\n",
    "\n",
    "Give solving this challenge a real try, and then check if your answers were correct. The solution to the challenge can be found in the file *Challenge3_Solution.ipynb* in the book GitHub Repository."
   ]
  },
  {
   "cell_type": "markdown",
   "id": "463dba8a",
   "metadata": {},
   "source": [
    "#### Two Pointers Coding Pattern\n",
    "When we come up with a programming solution using a loop, we normally assume under each loop we can keep track of only one index, or pointer. That assumption is not true, and the two-pointers coding pattern is the antithesis of the assumption. By learning this codding pattern you will be able to put that assumption aside when it is advantageous.\n",
    "\n",
    "For instance, let us discuss the function `find_doubles_brute()` that we came up with in his chapter under Understanding Big O Notation, Learning the common Big O Complexities, Example of decreasing computational complexity at the expense of memory complexity. The function’s definition is the following.\n",
    "\n",
    "```\n",
    "def find_doubles_brute(num_list,val):\n",
    "    output = []\n",
    "    n = len(num_list)\n",
    "    for i in range(n):\n",
    "        for j in range(i+1,n):\n",
    "            if (num_list[i] +\n",
    "                num_list[j]) == val:\n",
    "                    output.append([\n",
    "                        num_list[i],\n",
    "                        num_list[j]])        \n",
    "    return output\n",
    " ```\n",
    "The function takes in the list of sorted numbers `num_list` and another number val, and finds the pairs of number from `num_list` that sums up to `val`. Because the function is written under the assumption that under each loop we can only keep track of one index, the function had to use two loops to get the task done, and because of the two loops, the computational complexity of the function is O(n2). \n",
    "\n",
    "However, the function `find_doubles_two_pointers()` disrupts that assumption and uses two pointers in one loop to get the task done. The following is the definition of said function.\n",
    "\n",
    "```\n",
    "def find_doubles_two_pointers(num_list,val):\n",
    "    output = [] \n",
    "    p1,p2 = 0, len(num_list)-1\n",
    "    while p1!=p2:\n",
    "        _sum_val = num_list[p1] + num_list[p2]\n",
    "        if _sum_val < val:\n",
    "            p1 +=1\n",
    "        elif _sum_val > val:\n",
    "            p2 -=1\n",
    "        else:\n",
    "            output.append([num_list[p1], num_list[p2]])\n",
    "            p1 +=1\n",
    "    return output\n",
    "    \n",
    "```\n",
    "\n",
    "The function `find_doubles_two_pointers()` keeps track of the two pointers, `p1`, and `p2`, in one loop. Before the loop begins, the first pointer `p1` points to the beginning of `num_list`, and the second pointer `p2` points to the end of `num_list`. During the loop, If the sum of the value that the two pointers point to, which is `_sum_val`, is smaller than val, `p1` moves forward one index; if `_sum_val` is larger than `val`, `p2` moves backward one index; if `_sum_val` is equal to `val`, the pair that `p1`, and `p2` points to are appended to the output. When `p1` and `p2` point to the same index, the loop terminates and output is returned.\n",
    "\n",
    "Using the two pointers codding pattern the function `find_doubles_two_pointers()` is capable of solving the programming task only in one loop and that improves the computational complexity to O(n).\n",
    "\n",
    "As a side note, the function `find_doubles_two_pointers()` is better than `find_triplets_hashtable()` as well; we came up with this function in this chapter under Understanding Big O Notation, Learning the common Big O Complexities, Example of decreasing computational complexity at the expense of memory complexity. While both functions’ computational complexities are O(n), the function `find_doubles_two_pointers()` is advantageous in terms of memory complexity as it does not use any extra space; the function `find_triplets_hashtable()` has to use O(n) extra space due to the hash table. "
   ]
  },
  {
   "cell_type": "markdown",
   "id": "364a7639",
   "metadata": {},
   "source": [
    "#### answers\n"
   ]
  },
  {
   "cell_type": "code",
   "execution_count": null,
   "id": "e8e1da8b",
   "metadata": {},
   "outputs": [],
   "source": []
  }
 ],
 "metadata": {
  "kernelspec": {
   "display_name": "Python 3 (ipykernel)",
   "language": "python",
   "name": "python3"
  },
  "language_info": {
   "codemirror_mode": {
    "name": "ipython",
    "version": 3
   },
   "file_extension": ".py",
   "mimetype": "text/x-python",
   "name": "python",
   "nbconvert_exporter": "python",
   "pygments_lexer": "ipython3",
   "version": "3.9.13"
  }
 },
 "nbformat": 4,
 "nbformat_minor": 5
}
