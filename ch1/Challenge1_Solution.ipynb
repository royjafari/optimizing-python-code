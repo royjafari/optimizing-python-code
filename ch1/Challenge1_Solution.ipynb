{
 "cells": [
  {
   "cell_type": "markdown",
   "id": "c4a92558",
   "metadata": {},
   "source": [
    "# Zero To Hero Big Data Prepration\n",
    "Taking Advantage of Cloud Technologies to Create Big Data Solutions\n",
    "    \n",
    "    AUTHOR: Dr. Roy Jafari \n",
    "\n",
    "## Chapter 6: Effectively employing computational and memory resources "
   ]
  },
  {
   "cell_type": "markdown",
   "id": "09de36f1",
   "metadata": {},
   "source": [
    "### Challenge 1: Loop or Map?"
   ]
  },
  {
   "cell_type": "markdown",
   "id": "60d21c2c",
   "metadata": {},
   "source": [
    "In this challenge, we will use *person_df.csv* which is randomly created. The code that has randomly generated the data is given below. The data has 30,000 rows representing imaginary individuals with their Height, Weight, BMI, and their Gender. "
   ]
  },
  {
   "cell_type": "code",
   "execution_count": 8,
   "id": "7834d712",
   "metadata": {},
   "outputs": [],
   "source": [
    "import pandas as pd\n",
    "import numpy as np\n",
    "\n",
    "n = 30000\n",
    "person_df = pd.DataFrame(index=range(n), columns=['Height','Weight'])\n",
    "person_df.Height = np.random.normal(178,10,n)\n",
    "person_df.Weight = np.random.normal(83,7,n)\n",
    "person_df['BMI'] = person_df.Weight / ((person_df.Height/100)**2) \n",
    "person_df['Gender'] = np.random.binomial(1,0.4988,n)\n",
    "person_df = person_df.replace({0:'M',1:'F'})\n",
    "person_df.to_csv('person_df.csv', index=False)"
   ]
  },
  {
   "cell_type": "markdown",
   "id": "1a7812a5",
   "metadata": {},
   "source": [
    "The task we want to perform is to specify the health status of each individual. If a male individual has a `BMI` between 20 and 25 is considered healthy, a `BMI` smaller than 20 is considered Underweight, and a `BMI` higher than 25 is considered Overweight. Likewise, a female individual that has a `BMI` between 19 and 24 is considered healthy; underweight when `BMI` is below 19 and overweight when `BMI` is above 24.\n",
    "\n",
    "Both of the following two pieces of code add the fifth column, Status, to the data which indicates if the person is healthy, underweight, or overweight.\n",
    "\n",
    "Your challenge is to figure out which one is a more efficient approach in getting the task done without running the code?"
   ]
  },
  {
   "cell_type": "markdown",
   "id": "a70ccd6b",
   "metadata": {},
   "source": [
    "The first piece of code is the following,\n",
    "```\n",
    "import pandas as pd\n",
    "person_df = pd.read_csv('person_df.csv')\n",
    "for i,row in person_df.iterrows():\n",
    "    if(row.Gender == 'M'):\n",
    "        if(row.BMI<20):\n",
    "            person_df.loc[i,'Status'] = 'Underweight'\n",
    "        elif(row.BMI<=25):\n",
    "            person_df.loc[i,'Status'] = 'Healthy'\n",
    "        else:\n",
    "            person_df.loc[i,'Status'] = 'Overweight'\n",
    "    else:\n",
    "        if(row.BMI<19):\n",
    "            person_df.loc[i,'Status'] = 'Underweight'\n",
    "        elif(row.BMI<=24):\n",
    "            person_df.loc[i,'Status'] = 'Healthy'\n",
    "        else:\n",
    "            person_df.loc[i,'Status'] = 'Overweight'\n",
    "```\n",
    "\n",
    "The second piece of the code is the following. \n",
    "\n",
    "```\n",
    "import pandas as pd\n",
    "person_df = pd.read_csv('person_df.csv')\n",
    "def specifyStatus(gender,bmi):\n",
    "    if(gender == 'M'):\n",
    "        if(bmi<20):\n",
    "            return 'Underweight'\n",
    "        elif(bmi<=25):\n",
    "            return 'Healthy'\n",
    "        else:\n",
    "            return 'Overweight'\n",
    "    else:\n",
    "        if(bmi<19):\n",
    "            return 'Underweight'\n",
    "        elif(bmi<=24):\n",
    "            return 'Healthy'\n",
    "        else:\n",
    "            return 'Overweight'\n",
    "person_df['Status'] = list(\n",
    "    map(specifyStatus,person_df.Gender,person_df.BMI)\n",
    "    )\n",
    "```"
   ]
  },
  {
   "cell_type": "markdown",
   "id": "d4be76c0",
   "metadata": {},
   "source": [
    "**Answer**:\n",
    "\n",
    "The first piece of code will have the CPU get some piece of data from the person_df and process it over and over again, and that's not an optimum orchestration. However, the second piece of code, gives what needs to be done to the CPU in form of a function and the CPU only needs to go to the data once, and this will save the CPU a lot of unnecessary moving around of data, and therefore the second piece of code will run faster. \n",
    "\n",
    "The following code uses the Jupyter Notebook `%%time` widget to measure how long it will take."
   ]
  },
  {
   "cell_type": "code",
   "execution_count": 6,
   "id": "fe1ffd6d",
   "metadata": {},
   "outputs": [
    {
     "name": "stdout",
     "output_type": "stream",
     "text": [
      "Wall time: 3.68 s\n"
     ]
    }
   ],
   "source": [
    "%%time\n",
    "import pandas as pd\n",
    "\n",
    "person_df = pd.read_csv('person_df.csv')\n",
    "\n",
    "for i,row in person_df.iterrows():\n",
    "\n",
    "    if(row.Gender == 'M'):\n",
    "        if(row.BMI<20):\n",
    "            person_df.loc[i,'Status'] = 'Underweight'\n",
    "        elif(row.BMI<=25):\n",
    "            person_df.loc[i,'Status'] = 'Healthy'\n",
    "        else:\n",
    "            person_df.loc[i,'Status'] = 'Overweight'\n",
    "            \n",
    "    else:\n",
    "        if(row.BMI<19):\n",
    "            person_df.loc[i,'Status'] = 'Underweight'\n",
    "        elif(row.BMI<=24):\n",
    "            person_df.loc[i,'Status'] = 'Healthy'\n",
    "        else:\n",
    "            person_df.loc[i,'Status'] = 'Overweight'"
   ]
  },
  {
   "cell_type": "code",
   "execution_count": 7,
   "id": "377b6cda",
   "metadata": {},
   "outputs": [
    {
     "name": "stdout",
     "output_type": "stream",
     "text": [
      "Wall time: 34.4 ms\n"
     ]
    }
   ],
   "source": [
    "%%time\n",
    "import pandas as pd\n",
    "\n",
    "person_df = pd.read_csv('person_df.csv')\n",
    "\n",
    "def specifyStatus(gender,bmi):\n",
    "    if(gender == 'M'):\n",
    "        if(bmi<20):\n",
    "            return 'Underweight'\n",
    "        elif(bmi<=25):\n",
    "            return 'Healthy'\n",
    "        else:\n",
    "            return 'Overweight'\n",
    "    else:\n",
    "        if(bmi<19):\n",
    "            return 'Underweight'\n",
    "        elif(bmi<=24):\n",
    "            return 'Healthy'\n",
    "        else:\n",
    "            return 'Overweight'\n",
    "\n",
    "person_df['Status'] = list(\n",
    "    map(specifyStatus,person_df.Gender,person_df.BMI)\n",
    "    )"
   ]
  }
 ],
 "metadata": {
  "kernelspec": {
   "display_name": "Python 3 (ipykernel)",
   "language": "python",
   "name": "python3"
  },
  "language_info": {
   "codemirror_mode": {
    "name": "ipython",
    "version": 3
   },
   "file_extension": ".py",
   "mimetype": "text/x-python",
   "name": "python",
   "nbconvert_exporter": "python",
   "pygments_lexer": "ipython3",
   "version": "3.9.13"
  }
 },
 "nbformat": 4,
 "nbformat_minor": 5
}
