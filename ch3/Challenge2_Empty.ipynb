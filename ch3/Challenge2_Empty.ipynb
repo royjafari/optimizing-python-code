{
 "cells": [
  {
   "cell_type": "markdown",
   "id": "c6b7baf7",
   "metadata": {},
   "source": [
    "# Zero To Hero Big Data Prepration\n",
    "Taking Advantage of Cloud Technologies to Create Big Data Solutions\n",
    "    \n",
    "    AUTHOR: Dr. Roy Jafari \n",
    "\n",
    "# Chapter 3: Using the right data strucutres \n",
    "\n",
    "## Challenge 2 - lits or linked list?"
   ]
  },
  {
   "cell_type": "markdown",
   "id": "9f90eb72",
   "metadata": {},
   "source": [
    "Linked lists do not have a lot of big data applications, however, they can have magical effects on the situations in which we want to apply in-place changes to a collection of items. In this challenge, we will consider the run time of in-place changes to a typical python list and to its identical linked list. Answer the following questions and perform the following steps."
   ]
  },
  {
   "cell_type": "markdown",
   "id": "e1110b87",
   "metadata": {},
   "source": [
    "1.\tThe following code uses `np.random.randint()` function to create a list with 100,000 random numbers between 0, and 99. Run the code to create a_list. "
   ]
  },
  {
   "cell_type": "code",
   "execution_count": null,
   "id": "ecec1d8c",
   "metadata": {},
   "outputs": [],
   "source": [
    "import numpy as np\n",
    "a_list = np.random.randint(0,100,100000).tolist()"
   ]
  },
  {
   "cell_type": "markdown",
   "id": "093207d7",
   "metadata": {},
   "source": [
    "2.\tNow we want to create the identical linked list version of `a_list`. First, we need to create the class of objects NodeList. The following code defines this class."
   ]
  },
  {
   "cell_type": "code",
   "execution_count": null,
   "id": "975ecabc",
   "metadata": {},
   "outputs": [],
   "source": [
    "class ListNode(object):\n",
    "    def __init__(self, val=None, next=None):\n",
    "        self.val = val\n",
    "        self.next = next"
   ]
  },
  {
   "cell_type": "markdown",
   "id": "ce7d7f74",
   "metadata": {},
   "source": [
    "Now, we can use this class to create the linked list version of `a_list`. Run the following code to do this.\n"
   ]
  },
  {
   "cell_type": "code",
   "execution_count": null,
   "id": "ae4a5f1d",
   "metadata": {},
   "outputs": [],
   "source": [
    "node = ListNode()\n",
    "dummy = node\n",
    "for n in a_list:\n",
    "    node.next = ListNode(n)\n",
    "    node = node.next  \n",
    "head_linked_list = dummy.next"
   ]
  },
  {
   "cell_type": "markdown",
   "id": "fc69aed6",
   "metadata": {},
   "source": [
    "Before moving to the next step, let us make sure we also have defined the function `print_linked_list_by_head()` that we introduced earlier in this chapter. Run the following code which is the definition of the said function."
   ]
  },
  {
   "cell_type": "code",
   "execution_count": null,
   "id": "f4de77ab",
   "metadata": {},
   "outputs": [],
   "source": [
    "def print_linked_list_by_head(head):\n",
    "    printout = ''\n",
    "    node = head\n",
    "    while node is not None:\n",
    "        printout += f'{node.val} -> '\n",
    "        node = node.next\n",
    "    print(printout)"
   ]
  },
  {
   "cell_type": "markdown",
   "id": "1bc3981c",
   "metadata": {},
   "source": [
    "3.\tWe want to print both `a_list` and its identical linked list using its head `head_linked_list`. First, run `print(a_list)` and in another chunk run `print_linked_list_by_head(head_linked_list)`. Study the printouts to confirm that `a_list` and its identical linked list do indeed have the same random numbers. "
   ]
  },
  {
   "cell_type": "code",
   "execution_count": null,
   "id": "0f191298-7419-4d66-b064-01fe97a8cdc7",
   "metadata": {},
   "outputs": [],
   "source": []
  },
  {
   "cell_type": "markdown",
   "id": "931db9fa",
   "metadata": {},
   "source": [
    "**Answer**: "
   ]
  },
  {
   "cell_type": "markdown",
   "id": "4bc05c3c",
   "metadata": {},
   "source": [
    "4.\tThe following code performs in-place drops of all the even numbers in `a_list`. The code uses the module `time` to record how long it takes for the code to complete. Run the code and note its run time."
   ]
  },
  {
   "cell_type": "code",
   "execution_count": null,
   "id": "3e025279",
   "metadata": {},
   "outputs": [],
   "source": [
    "import time\n",
    "t0 = time.time()\n",
    "i=0\n",
    "while i<len(a_list):\n",
    "    if a_list[i] % 2 ==0:\n",
    "        a_list.pop(i)\n",
    "    else:\n",
    "        i+=1        \n",
    "print(time.time()-t0,'s')"
   ]
  },
  {
   "cell_type": "markdown",
   "id": "3f3c0cb2",
   "metadata": {},
   "source": [
    "**Answer**:"
   ]
  },
  {
   "cell_type": "markdown",
   "id": "7277ea57",
   "metadata": {},
   "source": [
    "5. The following code does the same as we did for `a_list` for its identical linked list. The code is significantly different because the data structures are significantly different. Similar to the previous step, the following code uses the module `time` to record how long it takes for the code to conclude. First, study the code and explain how it drops all the even numbers from the linked list, then run it and note its run time.\n",
    "\n",
    "``\n",
    "t0 = time.time()\n",
    "dummy = ListNode(1)\n",
    "dummy.next = head_linked_list\n",
    "node = dummy\n",
    "previous = node\n",
    "node = node.next\n",
    "while node is not None:  \n",
    "    if node.val %2 ==0:\n",
    "        previous.next = node.next\n",
    "    else:\n",
    "        previous = node\n",
    "    node = node.next\n",
    "head_linked_list = dummy.next\n",
    "print(time.time()-t0,'s')\n",
    "``"
   ]
  },
  {
   "cell_type": "markdown",
   "id": "23a6ac3e",
   "metadata": {},
   "source": [
    "**Answer**: "
   ]
  },
  {
   "cell_type": "code",
   "execution_count": null,
   "id": "5f248a42",
   "metadata": {},
   "outputs": [],
   "source": [
    "t0 = time.time()\n",
    "dummy = ListNode(1)\n",
    "dummy.next = head_linked_list\n",
    "node = dummy\n",
    "previous = node\n",
    "node = node.next\n",
    "while node is not None:  \n",
    "    if node.val %2 ==0:\n",
    "        previous.next = node.next\n",
    "    else:\n",
    "        previous = node\n",
    "    node = node.next\n",
    "head_linked_list = dummy.next\n",
    "print(time.time()-t0,'s')"
   ]
  },
  {
   "cell_type": "markdown",
   "id": "2313c28e",
   "metadata": {},
   "source": [
    "**Answer**:"
   ]
  },
  {
   "cell_type": "markdown",
   "id": "f1d373b7",
   "metadata": {},
   "source": [
    "6.\tRedo step 3 to make sure that even numbers are indeed dropped from `a_list` and its identical linked_list. "
   ]
  },
  {
   "cell_type": "code",
   "execution_count": null,
   "id": "0f6f7738",
   "metadata": {},
   "outputs": [],
   "source": [
    "print(a_list)"
   ]
  },
  {
   "cell_type": "code",
   "execution_count": null,
   "id": "d7ab78f0",
   "metadata": {},
   "outputs": [],
   "source": [
    "print_linked_list_by_head(head_linked_list)"
   ]
  },
  {
   "cell_type": "markdown",
   "id": "1b057bc6",
   "metadata": {},
   "source": [
    "**Answer**: "
   ]
  },
  {
   "cell_type": "markdown",
   "id": "c6e97ebd",
   "metadata": {},
   "source": [
    "7.\tCompare the runtimes that you recorded for steps 4 and 5. Is there a significant difference? If yes, how can we explain it?"
   ]
  },
  {
   "cell_type": "code",
   "execution_count": null,
   "id": "fdfed54b",
   "metadata": {},
   "outputs": [],
   "source": [
    "7.483157396316528 / 0.019675016403198242"
   ]
  },
  {
   "cell_type": "markdown",
   "id": "f08d1191",
   "metadata": {},
   "source": [
    "**Answer**: "
   ]
  },
  {
   "cell_type": "markdown",
   "id": "57b61494",
   "metadata": {},
   "source": [
    "8.\tSummarize your experience from this challenge into one sentence that starts with **“Linked list can be advantageous to big data situations that …”**"
   ]
  },
  {
   "cell_type": "markdown",
   "id": "35629045",
   "metadata": {},
   "source": [
    "**Answer**: "
   ]
  },
  {
   "cell_type": "code",
   "execution_count": null,
   "id": "2dc4b5df-89ae-403f-aa01-ac38fc1e7a46",
   "metadata": {},
   "outputs": [],
   "source": []
  }
 ],
 "metadata": {
  "kernelspec": {
   "display_name": "Python 3 (ipykernel)",
   "language": "python",
   "name": "python3"
  },
  "language_info": {
   "codemirror_mode": {
    "name": "ipython",
    "version": 3
   },
   "file_extension": ".py",
   "mimetype": "text/x-python",
   "name": "python",
   "nbconvert_exporter": "python",
   "pygments_lexer": "ipython3",
   "version": "3.12.4"
  }
 },
 "nbformat": 4,
 "nbformat_minor": 5
}
