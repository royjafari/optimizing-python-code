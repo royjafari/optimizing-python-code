{
 "cells": [
  {
   "cell_type": "markdown",
   "id": "1fefc347",
   "metadata": {},
   "source": [
    "# Zero To Hero Big Data Prepration\n",
    "Taking Advantage of Cloud Technologies to Create Big Data Solutions\n",
    "    \n",
    "    AUTHOR: Dr. Roy Jafari \n",
    "\n",
    "# Chapter 3: Using the right data strucutres \n",
    "\n",
    "## Challenge 3 - tables or trees?"
   ]
  },
  {
   "cell_type": "markdown",
   "id": "64fdf2e9",
   "metadata": {},
   "source": [
    "In this challenge, we will get to experience the benefits of using a binary tree data structure to hold the data instead of a table. At the end of this challenge, you will be able to make an intelligible decision between the two data structures based on the parameters of the situation. "
   ]
  },
  {
   "cell_type": "markdown",
   "id": "79cc847b",
   "metadata": {},
   "source": [
    "Answer the following questions and perform the following steps.\n",
    "1.\tRun the following code. The code uses `numpy` and `names` module to randomly create two lists with one million values. The first list, `fullnames`, has one million full names, and the second, `ages`, has one million numbers between 18 and 75.\n",
    "\n",
    "**Install names module**\n",
    "*If you have never used the module names, you may have to install it. You can run pip install names on your computer's Command Line Interface (CLI).*\n"
   ]
  },
  {
   "cell_type": "code",
   "execution_count": 21,
   "id": "155e81fe",
   "metadata": {},
   "outputs": [],
   "source": [
    "import names\n",
    "import numpy as np\n",
    "f_names = [names.get_first_name() for i in range(1000)]\n",
    "l_names = [names.get_last_name() for i in range(1000)]\n",
    "fullnames = [f'{fn} {ln}' for ln in l_names for fn in f_names]\n",
    "np.random.shuffle(fullnames)\n",
    "ages = np.random.randint(18,75,1000000).tolist()"
   ]
  },
  {
   "cell_type": "markdown",
   "id": "8cc6996e",
   "metadata": {},
   "source": [
    "2.\tThe following code prints the first 10 values in `fullnames` and `ages`. Run the code and study its printouts. "
   ]
  },
  {
   "cell_type": "code",
   "execution_count": 10,
   "id": "50db8ff6",
   "metadata": {},
   "outputs": [
    {
     "name": "stdout",
     "output_type": "stream",
     "text": [
      "['Charles Margerum', 'Mary Feldman', 'Christopher Zerhusen', 'Lillie Moore', 'Ashley Evans', 'Tammy Martin', 'Cary Mathwich', 'Margaret Caccavale', 'Charles Bennett', 'Magdalena Mahon']\n",
      "[70, 49, 46, 18, 19, 44, 74, 50, 52, 37]\n"
     ]
    }
   ],
   "source": [
    "print(fullnames[:10])\n",
    "print(ages[:10])"
   ]
  },
  {
   "cell_type": "markdown",
   "id": "42084ec2",
   "metadata": {},
   "source": [
    "3.\tThe following code adds my name and my age to these two lists. You might want to change that to your name if you wish. Run the code to add the new values. "
   ]
  },
  {
   "cell_type": "code",
   "execution_count": 22,
   "id": "dc5a12a3",
   "metadata": {},
   "outputs": [],
   "source": [
    "fullnames.append('Roy Jafari')\n",
    "ages.append(35)"
   ]
  },
  {
   "cell_type": "markdown",
   "id": "c5854af0",
   "metadata": {},
   "source": [
    "4.\tThe following code uses the two lists, `fullnames`, and `ages`, to transform the data into the DataFrame `person_df`. The code also records how long it takes for pandas to transform the lists into a table. Run the following code and note the time it reports."
   ]
  },
  {
   "cell_type": "code",
   "execution_count": 12,
   "id": "0bb9d18d",
   "metadata": {},
   "outputs": [
    {
     "name": "stdout",
     "output_type": "stream",
     "text": [
      "0.6038010120391846\n",
      "                         Name  Age\n",
      "0            Charles Margerum   70\n",
      "1                Mary Feldman   49\n",
      "2        Christopher Zerhusen   46\n",
      "3                Lillie Moore   18\n",
      "4                Ashley Evans   19\n",
      "...                       ...  ...\n",
      "999996        Paul Vermillion   58\n",
      "999997          Jason Hickman   71\n",
      "999998            Helen Combs   30\n",
      "999999         Rossana Gibson   37\n",
      "1000000            Roy Jafari   35\n",
      "\n",
      "[1000001 rows x 2 columns]\n"
     ]
    }
   ],
   "source": [
    "import pandas as pd\n",
    "import time\n",
    "t0=time.time()\n",
    "person_df = pd.DataFrame(\n",
    "    {'Name':fullnames, 'Age':ages}\n",
    ")\n",
    "print(time.time()-t0)\n",
    "print(person_df)"
   ]
  },
  {
   "cell_type": "markdown",
   "id": "cbf3cd5b",
   "metadata": {},
   "source": [
    "**Answer**: It took my computer about half a second to complete this task."
   ]
  },
  {
   "cell_type": "markdown",
   "id": "58a03cbc",
   "metadata": {},
   "source": [
    "5.\tThe following code uses boolean masking to search through the table and find the row in the table with my name and my age. Run the code to see how it works. "
   ]
  },
  {
   "cell_type": "code",
   "execution_count": 13,
   "id": "f5794534",
   "metadata": {},
   "outputs": [
    {
     "data": {
      "text/html": [
       "<div>\n",
       "<style scoped>\n",
       "    .dataframe tbody tr th:only-of-type {\n",
       "        vertical-align: middle;\n",
       "    }\n",
       "\n",
       "    .dataframe tbody tr th {\n",
       "        vertical-align: top;\n",
       "    }\n",
       "\n",
       "    .dataframe thead th {\n",
       "        text-align: right;\n",
       "    }\n",
       "</style>\n",
       "<table border=\"1\" class=\"dataframe\">\n",
       "  <thead>\n",
       "    <tr style=\"text-align: right;\">\n",
       "      <th></th>\n",
       "      <th>Name</th>\n",
       "      <th>Age</th>\n",
       "    </tr>\n",
       "  </thead>\n",
       "  <tbody>\n",
       "    <tr>\n",
       "      <th>1000000</th>\n",
       "      <td>Roy Jafari</td>\n",
       "      <td>35</td>\n",
       "    </tr>\n",
       "  </tbody>\n",
       "</table>\n",
       "</div>"
      ],
      "text/plain": [
       "               Name  Age\n",
       "1000000  Roy Jafari   35"
      ]
     },
     "execution_count": 13,
     "metadata": {},
     "output_type": "execute_result"
    }
   ],
   "source": [
    "person_df[person_df.Name == 'Roy Jafari']"
   ]
  },
  {
   "cell_type": "markdown",
   "id": "905a991c",
   "metadata": {},
   "source": [
    "6.\tThe following code run the same code in the previous step but uses the module `time` to time it. Run the code and note how long it took for your computer to do an item lookup from the table. "
   ]
  },
  {
   "cell_type": "code",
   "execution_count": 15,
   "id": "4030bf45",
   "metadata": {},
   "outputs": [
    {
     "name": "stdout",
     "output_type": "stream",
     "text": [
      "0.2012953758239746 (s)\n"
     ]
    }
   ],
   "source": [
    "t0=time.time()\n",
    "person_df[person_df.Name == 'Roy Jafari']\n",
    "print(time.time()-t0,'(s)')"
   ]
  },
  {
   "cell_type": "markdown",
   "id": "d6b81365",
   "metadata": {},
   "source": [
    "**Answer**: My computer took about a quarter of a second to look up the row based on the value of the name."
   ]
  },
  {
   "cell_type": "markdown",
   "id": "c13f79d8",
   "metadata": {},
   "source": [
    "7.\tNow that we experienced the table as the data structure, now we will experience the same data when using the data structure tree. The following code defines the class of objects `TreeNode`.  Run the code."
   ]
  },
  {
   "cell_type": "code",
   "execution_count": 17,
   "id": "9476204c",
   "metadata": {},
   "outputs": [],
   "source": [
    "class TreeNode(object):\n",
    "    def __init__(self,name=None,age=None):\n",
    "        self.left = None\n",
    "        self.right = None\n",
    "        self.name = name\n",
    "        self.age = age\n"
   ]
  },
  {
   "cell_type": "markdown",
   "id": "6bd4aafb",
   "metadata": {},
   "source": [
    "8.\tNext, we need a function that adds every row of data to the tree data structure. The following code defines the new function `insert()` that gets the root of the tree and the new information and adds them to the tree. The insertion follows a binary search tree pattern based on the value of the name. Stuy the code, and then run it to define the function. Pay attention that the function is recursive. "
   ]
  },
  {
   "cell_type": "code",
   "execution_count": 18,
   "id": "50fc0a2d",
   "metadata": {},
   "outputs": [],
   "source": [
    "def insert(root,new_name,new_age):\n",
    "    if root is None:\n",
    "        root=TreeNode(new_name,new_age)\n",
    "        return root\n",
    "    if new_name<root.name:\n",
    "        root.left=insert(root.left,new_name,new_age)\n",
    "    else:\n",
    "        root.right=insert(root.right,new_name,new_age)\n",
    "    return root"
   ]
  },
  {
   "cell_type": "markdown",
   "id": "2c992f6f",
   "metadata": {},
   "source": [
    "9.\tThe following code uses the function `insert()` on million times to add the one million data into a tree data structure. The code also records and prints out the time it takes for the binary search tree to be filled with the one million rows. Run the code and study how long it takes to run. "
   ]
  },
  {
   "cell_type": "code",
   "execution_count": 23,
   "id": "cc068dab",
   "metadata": {},
   "outputs": [
    {
     "name": "stdout",
     "output_type": "stream",
     "text": [
      "22.74576187133789 (s)\n"
     ]
    }
   ],
   "source": [
    "t0=time.time()\n",
    "root = None\n",
    "for name,age in zip(fullnames,ages):\n",
    "    root = insert(root,name,age)\n",
    "print(time.time()-t0,'(s)')"
   ]
  },
  {
   "cell_type": "markdown",
   "id": "1fceaba4",
   "metadata": {},
   "source": [
    "**Answer**: It took my computer 22 seconds to complete the task. "
   ]
  },
  {
   "cell_type": "markdown",
   "id": "2f0b6bf0",
   "metadata": {},
   "source": [
    "10.\tThe following code prints out the first three levels of the tree data structure that we are using to hold the one million rows of the data. Run the code, study its output explain the pattern you see in the values. Why do you think those 7 values have gotten to be the roots of the tree with one million nodes? "
   ]
  },
  {
   "cell_type": "code",
   "execution_count": 26,
   "id": "891044a4",
   "metadata": {},
   "outputs": [
    {
     "name": "stdout",
     "output_type": "stream",
     "text": [
      "\t\t Tia Seltzer 21\n",
      "\t Sara Bowden 68\n",
      "\t\t Robert Smith 41\n",
      "Jeffery Hepfer 46\n",
      "\t\t Gabriel Gatewood 54\n",
      "\t Brian Warner 35\n",
      "\t\t Anne Edgington 29\n"
     ]
    }
   ],
   "source": [
    "print('\\t\\t',root.right.right.name,root.right.right.age)\n",
    "print('\\t',root.right.name,root.right.age)\n",
    "print('\\t\\t',root.right.left.name,root.right.left.age)\n",
    "print(root.name,root.age)\n",
    "print('\\t\\t',root.left.right.name,root.left.right.age)\n",
    "print('\\t',root.left.name,root.left.age)\n",
    "print('\\t\\t',root.left.left.name,root.left.left.age)"
   ]
  },
  {
   "cell_type": "markdown",
   "id": "9ffffacf",
   "metadata": {},
   "source": [
    "**Answer**: Where each row ends up on the table depends on the order in which the values were introduced to the table. If you want to experience this, run the codes in steps 1, 3, 9, and 10 to see that you would get a completely different pattern. \n",
    "\n",
    "Regardless of what exactly 7 rows have ended up as the roots of the tree, we can see the same pattern on these values. The pattern has to do with the names of the rows and it is because the function `insert()` uses the value of the name to insert the row into a specific location on the table. We can see that the names on the left side of each node are smaller in alphabetical order.\n"
   ]
  },
  {
   "cell_type": "markdown",
   "id": "7fd44ebb",
   "metadata": {},
   "source": [
    "11.\tThe following code defines the function `find()` that takes in the root of the tree and finds the row of data that matches name. The function uses the same logic that was used to insert the rows into the data structure to find the values. Run the code to define the function. "
   ]
  },
  {
   "cell_type": "code",
   "execution_count": null,
   "id": "e05769a0",
   "metadata": {},
   "outputs": [],
   "source": [
    "def find(root,name):\n",
    "    if root is None:\n",
    "        return 'Does not Exist'\n",
    "    #print(root.name)\n",
    "    if root.name == name:\n",
    "        return root\n",
    "    if name<root.name:\n",
    "        return find(root.left,name)\n",
    "    else:\n",
    "        return find(root.right,name)"
   ]
  },
  {
   "cell_type": "markdown",
   "id": "913b45a7",
   "metadata": {},
   "source": [
    "12.\tThe following code uses the function we defined in the previous step to find the information that is attached to my name. If you added your name in step 3, you need to look for your own name here too. "
   ]
  },
  {
   "cell_type": "code",
   "execution_count": 28,
   "id": "65917067",
   "metadata": {},
   "outputs": [
    {
     "name": "stdout",
     "output_type": "stream",
     "text": [
      "Roy Jafari\n",
      "35\n"
     ]
    }
   ],
   "source": [
    "node = find(root,'Roy Jafari')\n",
    "print(node.name)\n",
    "print(node.age)"
   ]
  },
  {
   "cell_type": "markdown",
   "id": "af371d0f",
   "metadata": {},
   "source": [
    "13.\tThe following code rerun the search that we performed in the previous step but time how long it takes? Run the code and note its run time. "
   ]
  },
  {
   "cell_type": "code",
   "execution_count": 35,
   "id": "d0201143",
   "metadata": {},
   "outputs": [
    {
     "name": "stdout",
     "output_type": "stream",
     "text": [
      "0.0\n"
     ]
    }
   ],
   "source": [
    "t0=time.time()\n",
    "find(root,'Roy Jafari')\n",
    "print(time.time()-t0)"
   ]
  },
  {
   "cell_type": "code",
   "execution_count": 36,
   "id": "e4687a20",
   "metadata": {},
   "outputs": [
    {
     "name": "stdout",
     "output_type": "stream",
     "text": [
      "Wall time: 0 ns\n"
     ]
    },
    {
     "data": {
      "text/plain": [
       "<__main__.TreeNode at 0x18cf3b88400>"
      ]
     },
     "execution_count": 36,
     "metadata": {},
     "output_type": "execute_result"
    }
   ],
   "source": [
    "%%time\n",
    "find(root,'Roy Jafari')"
   ]
  },
  {
   "cell_type": "markdown",
   "id": "160932e3",
   "metadata": {},
   "source": [
    "**Answer**: The code runs so fast that the function cannot measure it, this means it is faster than a nano second (0.0000001 (s)) "
   ]
  },
  {
   "cell_type": "markdown",
   "id": "8eca729a",
   "metadata": {},
   "source": [
    "14.\tWas the search through the tree data structure significantly faster than through the table data structure? If yes, what is the reason?"
   ]
  },
  {
   "cell_type": "markdown",
   "id": "ced4be24",
   "metadata": {},
   "source": [
    "**Answer**: Yes, it is significantly faster. The reason is that we only need to check a handful of rows to find the row we are looking for due to the way we have strcutured the tree. "
   ]
  },
  {
   "cell_type": "markdown",
   "id": "696ee908",
   "metadata": {},
   "source": [
    "15.\tIf you are having trouble answering the question in the previous step, the following code gives you a hint. The code makes a small change to the definition of the function `find()` and reruns it. "
   ]
  },
  {
   "cell_type": "code",
   "execution_count": 37,
   "id": "799feb87",
   "metadata": {},
   "outputs": [
    {
     "name": "stdout",
     "output_type": "stream",
     "text": [
      "Jeffery Hepfer\n",
      "Sara Bowden\n",
      "Robert Smith\n",
      "Russell Clyatt\n",
      "Roseline Reed\n",
      "Ruby Hilliard\n",
      "Roseline Thompson\n",
      "Rosemary Truelove\n",
      "Royal Ebert\n",
      "Roy Snodgrass\n",
      "Roy Jenkins\n",
      "Roy Hoffman\n",
      "Roy Horne\n",
      "Roy Hsieh\n",
      "Roy Humphrey\n",
      "Roy James\n",
      "Roy Hurt\n",
      "Roy Ingalls\n",
      "Roy Jackson\n",
      "Roy Jacobs\n",
      "Roy Jaeger\n",
      "Roy Jafari\n"
     ]
    },
    {
     "data": {
      "text/plain": [
       "<__main__.TreeNode at 0x18cf3b88400>"
      ]
     },
     "execution_count": 37,
     "metadata": {},
     "output_type": "execute_result"
    }
   ],
   "source": [
    "def find(root,name):\n",
    "    if root is None:\n",
    "        return 'Does not Exist'\n",
    "    print(root.name)\n",
    "    if root.name == name:\n",
    "        return root\n",
    "    if name<root.name:\n",
    "        return find(root.left,name)\n",
    "    else:\n",
    "        return find(root.right,name)\n",
    "find(root,'Roy Jafari')"
   ]
  },
  {
   "cell_type": "markdown",
   "id": "bf0ab304",
   "metadata": {},
   "source": [
    "**Answer**: As you can see the function find only had to check 21 rows to find the row we were looking for, however, when we searched through the table, we had to check all the million rows. That's the reason that the binary search tree structure is much faster for look-up purposes."
   ]
  },
  {
   "cell_type": "markdown",
   "id": "0cb51de4",
   "metadata": {},
   "source": [
    "16.\tIn this example, the data structure table had an advantage and a disadvantage to the data structure tree. Identify those. Then use the advantages to come up with a list of situations that it would be best to use trees instead of tables."
   ]
  },
  {
   "cell_type": "markdown",
   "id": "c7a12a70",
   "metadata": {},
   "source": [
    "**Answer**: \n",
    "\n",
    "**Table's Advantage**: Much faster to load big data initially. In our example for one million rows of data, the pandas dataframe was about 37 times faster.\n",
    "\n",
    "**Table's Disadvantage**: Much slower to look up values. the Tree structure is so fast that we cannot even calculate how much the table's slower. \n",
    "\n",
    "**Tree's Advantage**: Much faster to look up values. the Tree structure is so fast that we cannot even calculate how much the table's slower. \n",
    "\n",
    "**Tree's Disadvantage**: Much slower to load big data initially. In our example for one million rows of data, the pandas dataframe was about 37 times faster than the tree.\n",
    "\n",
    "\n",
    "If and when we can take advantage of a meaningful tree-like structure among the rows of data, the tree can become better than a table. In this example, the meaningful structure had to the with the order of the names based on their alphabetical order and we were able to use that for faster look-up. The binary search tree is indeed used in indexing tables of databases.  "
   ]
  }
 ],
 "metadata": {
  "kernelspec": {
   "display_name": "Python 3 (ipykernel)",
   "language": "python",
   "name": "python3"
  },
  "language_info": {
   "codemirror_mode": {
    "name": "ipython",
    "version": 3
   },
   "file_extension": ".py",
   "mimetype": "text/x-python",
   "name": "python",
   "nbconvert_exporter": "python",
   "pygments_lexer": "ipython3",
   "version": "3.12.4"
  }
 },
 "nbformat": 4,
 "nbformat_minor": 5
}
