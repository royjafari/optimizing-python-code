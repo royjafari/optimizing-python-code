{
 "cells": [
  {
   "cell_type": "markdown",
   "id": "da35ffec",
   "metadata": {},
   "source": [
    "# Zero To Hero Big Data Prepration\n",
    "Taking Advantage of Cloud Technologies to Create Big Data Solutions\n",
    "    \n",
    "    AUTHOR: Dr. Roy Jafari \n",
    "\n",
    "# Chapter 3: Using the right data strucutres \n",
    "\n",
    "## Challenge 4 - tables, matrices or graphs?"
   ]
  },
  {
   "cell_type": "markdown",
   "id": "e919f1dc",
   "metadata": {},
   "source": [
    "In this challenge, we will be using the shortest path problem and Dijkstra’s algorithm that can find the optimal solution to the problem in O(m) complexity, m being the number of edges of the graph in the shortest path problem. What is the graph of the shortest path problem or its number of edges that’s a great question? We will understand those soon. Answer the questions and perform the tasks given in the following.\n",
    "\n",
    "1.\tConsider the weighted directional graph in *Figure 8.5*. Assume we are standing in the node ③ and we wish to go to node ④. The number on the edges is the cost we have to pay to use the edge to travel to the other node. What is the minimum cost we can pay to go from node ③ to node ④? What is the path that takes us from node ③ to node ④ with the minimum cost? I have put the graph on a single page that you can download that print out for your convenience. You may download the file using this link: https://packt-data-prep-workshop.s3.eu-west-1.amazonaws.com/Figure8_5_d.pdf.\n"
   ]
  },
  {
   "cell_type": "markdown",
   "id": "6625af7f",
   "metadata": {},
   "source": [
    "**Answer**: The point here is not the correct final answer but having tried to solve the problem by yourself once. "
   ]
  },
  {
   "cell_type": "markdown",
   "id": "ea4fc488",
   "metadata": {},
   "source": [
    "2.\tYou just solved the shortest path problem. What is the number of edges on the graph you just solved? What is the number of nodes? "
   ]
  },
  {
   "cell_type": "markdown",
   "id": "56da767f",
   "metadata": {},
   "source": [
    "**Answer**: The number of edges are 11, and the number of nodes are 7."
   ]
  },
  {
   "cell_type": "markdown",
   "id": "349783a5",
   "metadata": {},
   "source": [
    "3.\tIn this step, you will watch a YouTube video. The video is a visual introduction to Dijkstra’s algorithm. The link to the YouTube video is https://youtu.be/iK5fNRWxucA. After you watched the video, in words, explain how Dijkstra’s algorithm work. Specifically, mention what is the task that the algorithm iteratively repeats. What is the maximum number of times that the iteration has to happen? What is the computational complexity of Dijkstra’s Algorithm?"
   ]
  },
  {
   "cell_type": "markdown",
   "id": "e8661d85",
   "metadata": {},
   "source": [
    "**Answer**: The algorithm starts from the source and once travels to each node from the source and updates the distance it takes to get to the note if it is smaller that the ones we had seen before. What happens iteratively is considering the possible move from the current node to one of its adjacent nodes to see if that travel should be part of the shortest path. The computational complexity of the algorithm will be *O(m)*, *m* being the number of edges."
   ]
  },
  {
   "cell_type": "markdown",
   "id": "ad99d92d",
   "metadata": {},
   "source": [
    "4.\tNow, we will implement *Dijkstra’s algorithm* in python and do some experimentation with it. First, we will have to define a graph class so we can introduce the graph to our computer. Earlier in the chapter, we discussed three different data structures we could encode graphs with: a table, a matrix, and a list. We implemented those under the names `GraphLE`, `GraphAM`, and `GraphAL`. We will experiment with all of those in this challenge. So please go ahead, and redefine those classes, we will be using all of them in this challenge."
   ]
  },
  {
   "cell_type": "code",
   "execution_count": 4,
   "id": "e2700a01",
   "metadata": {},
   "outputs": [],
   "source": [
    "import numpy as np\n",
    "import pandas as pd\n",
    "\n",
    "class GraphLE(object):\n",
    "    def __init__(self,n_nodes=None):\n",
    "        self.edge_df = pd.DataFrame(\n",
    "            columns = ['n1','n2','w']\n",
    "        )\n",
    "        self.n_nodes = n_nodes\n",
    "    def add_edge(self,n1,n2,w=1):\n",
    "        add_df = pd.DataFrame(\n",
    "            {'n1': n1, 'n2': n2, 'w': w},\n",
    "            index=[len(self.edge_df)]\n",
    "        )\n",
    "        self.edge_df = pd.concat([self.edge_df,add_df])\n",
    "    def print_all_adj_list(self):\n",
    "        print(self.edge_df)\n",
    "    def get_edge_from(self,node):\n",
    "        BM = self.edge_df.n1 == node\n",
    "        return [(r.n1,r.n2,r.w) for i,r in \n",
    "               self.edge_df[BM].iterrows()]"
   ]
  },
  {
   "cell_type": "code",
   "execution_count": 5,
   "id": "e7f72bc8",
   "metadata": {},
   "outputs": [],
   "source": [
    "class GraphAM(object):\n",
    "    def __init__(self,n_nodes):\n",
    "        self.n_nodes = n_nodes\n",
    "        self.adj_matrix = (\n",
    "            np.zeros([n_nodes,n_nodes])\n",
    "            .astype(int)\n",
    "        )\n",
    "    def add_edge(self,n1,n2,w=1):\n",
    "        self.adj_matrix[n1,n2] = w\n",
    "    def print_adj_matrix(self):\n",
    "        print(self.adj_matrix)\n",
    "    def get_edge_from(self,n1):\n",
    "        return [(n1,n2,w) for n2,w in\n",
    "                enumerate(self.adj_matrix[n1,:]) if w>0]"
   ]
  },
  {
   "cell_type": "code",
   "execution_count": 6,
   "id": "92d79ec5",
   "metadata": {},
   "outputs": [],
   "source": [
    "class GraphAL(object):\n",
    "    def __init__(self,n_nodes):\n",
    "        self.n_nodes = n_nodes\n",
    "        self.adj_list = {\n",
    "            node: list() for node in range(self.n_nodes)\n",
    "        }\n",
    "    def add_edge(self,n1,n2,w=1):\n",
    "        (self\n",
    "         .adj_list[n1]\n",
    "         .append((n2,w))\n",
    "        )\n",
    "    def print_all_adj_list(self):\n",
    "        for key in self.adj_list.keys():\n",
    "            print(key,self.adj_list[key])\n",
    "    def get_edge_from(self,n1):\n",
    "        return [(n1,n2,w) for n2,w in self.adj_list[n1]]"
   ]
  },
  {
   "cell_type": "markdown",
   "id": "4a13841f",
   "metadata": {},
   "source": [
    "5.\tThe following code uses `GraphLE` to hold the weighted directional graph in *Figure 8.5*. Run the code so the graph is encoded on your computer. We will use the encoded graph to test our implementation of *Dijkstra’s algorithm*. After you’ve run the following code, run `le_graph.print_all_adj_list()` to see how GraphLe has encoded the graph. "
   ]
  },
  {
   "cell_type": "code",
   "execution_count": 7,
   "id": "112e243a",
   "metadata": {},
   "outputs": [],
   "source": [
    "edge_list = [(3,0,5),(3,1,2),(1,0,7),(0,2,1),(2,5,9),(6,2,3),(5,6,3),(5,1,2),(5,4,9),(4,1,3),(4,5,8)]\n",
    "n_nodes = 7\n",
    "le_graph = GraphLE(n_nodes)\n",
    "for n1,n2,w in edge_list:\n",
    "    le_graph.add_edge(n1, n2, w)"
   ]
  },
  {
   "cell_type": "code",
   "execution_count": 8,
   "id": "2d2520eb",
   "metadata": {},
   "outputs": [
    {
     "name": "stdout",
     "output_type": "stream",
     "text": [
      "   n1 n2  w\n",
      "0   3  0  5\n",
      "1   3  1  2\n",
      "2   1  0  7\n",
      "3   0  2  1\n",
      "4   2  5  9\n",
      "5   6  2  3\n",
      "6   5  6  3\n",
      "7   5  1  2\n",
      "8   5  4  9\n",
      "9   4  1  3\n",
      "10  4  5  8\n"
     ]
    }
   ],
   "source": [
    "le_graph.print_all_adj_list()"
   ]
  },
  {
   "cell_type": "markdown",
   "id": "1d0ae47d",
   "metadata": {},
   "source": [
    "6.\tFrom the file *Chapter8.ipynb* under folder ch8 in the GitHub Repository of the book find the chunk of code that defines the function `dijkstra()`, and run the code to define the function. The reason that the code is not provided here is that it is too long. Before moving on to the next step, I highly recommend that you also study the code to figure out how the code has implemented the algorithm. Please pay attention that the internal variables used in the code, naming `min_dist`, `finalized`, and `final_path`, use the same wordings as the ones that you saw in the YouTube video of step 2. This is intentional to help you understand the implementation easier."
   ]
  },
  {
   "cell_type": "code",
   "execution_count": 9,
   "id": "ce062550",
   "metadata": {},
   "outputs": [],
   "source": [
    "import pandas as pd\n",
    "import numpy as np\n",
    "\n",
    "def dijkstra(graph,source):\n",
    "    n_nodes = graph.n_nodes\n",
    "    \n",
    "    min_dist = pd.Series(float('inf'),index=range(n_nodes))\n",
    "    min_dist[source] = 0\n",
    "    \n",
    "    finalized = pd.Series(False,index=range(n_nodes))\n",
    "    final_path = {node:None for node in range(n_nodes)}\n",
    "    \n",
    "    while sum(finalized) <n_nodes:\n",
    "        node = min_dist[finalized==False].idxmin()\n",
    "        for n1,n2,w in graph.get_edge_from(node):\n",
    "            \n",
    "            new_w = min_dist.iloc[n1] + w \n",
    "            \n",
    "            if(new_w< min_dist.iloc[n2]):\n",
    "                min_dist.iloc[n2] = new_w\n",
    "                final_path[n2] = n1\n",
    "        \n",
    "        finalized[node] = True\n",
    "        \n",
    "    shortest_paths = {}\n",
    "    \n",
    "    for i in range(n_nodes):\n",
    "        path = []\n",
    "        dest = i\n",
    "\n",
    "        path.append(dest)\n",
    "\n",
    "        while final_path[dest] != None:\n",
    "            path.append(final_path[dest])\n",
    "            dest = final_path[dest]\n",
    "        \n",
    "        shortest_paths[i] = path[::-1]\n",
    "\n",
    "    return min_dist, shortest_paths"
   ]
  },
  {
   "cell_type": "markdown",
   "id": "455a8673",
   "metadata": {},
   "source": [
    "7.\tThe following code uses the function `dijkstra()` to solve the shortest path problem given the graph `le_graph` and from the source node ③. Run the code, and study its printouts. Are the printouts consistent with the solutions that were found for the same graph in the YouTube video in step 2?"
   ]
  },
  {
   "cell_type": "code",
   "execution_count": 10,
   "id": "3256a4ec",
   "metadata": {},
   "outputs": [
    {
     "name": "stdout",
     "output_type": "stream",
     "text": [
      "0     5.0\n",
      "1     2.0\n",
      "2     6.0\n",
      "3     0.0\n",
      "4    24.0\n",
      "5    15.0\n",
      "6    18.0\n",
      "dtype: float64\n",
      "{0: [3, 0], 1: [3, 1], 2: [3, 0, 2], 3: [3], 4: [3, 0, 2, 5, 4], 5: [3, 0, 2, 5], 6: [3, 0, 2, 5, 6]}\n"
     ]
    }
   ],
   "source": [
    "source=3\n",
    "min_path, shortest_path =  dijkstra(le_graph,source)\n",
    "print(min_path)\n",
    "print(shortest_path)"
   ]
  },
  {
   "cell_type": "markdown",
   "id": "729c86ad",
   "metadata": {},
   "source": [
    "**Answer**: The answers are exactly the same."
   ]
  },
  {
   "cell_type": "markdown",
   "id": "6038c0f9",
   "metadata": {},
   "source": [
    "8.\tSo far in this challenge, we only developed what we need to perform experiments that could tell us which data structure is superior to encode graphs.  The following code will randomly generate a big graph. Run the following code to create the big graph."
   ]
  },
  {
   "cell_type": "code",
   "execution_count": 14,
   "id": "0745b16d",
   "metadata": {},
   "outputs": [],
   "source": [
    "import numpy as np\n",
    "n_nodes = 10000\n",
    "n_edges = 50000\n",
    "edges = np.random.randint(0,n_nodes,[n_edges,2])\n",
    "weights = np.random.randint(1,25,n_edges)\n",
    "edge_list = [(edges[i,0],edges[i,1],weights[i]) for i in range(n_edges)]\n"
   ]
  },
  {
   "cell_type": "markdown",
   "id": "8e6983d3",
   "metadata": {},
   "source": [
    "9.\t We will be experimenting with the three types of data structures that we can use to hold a graph in a computer’s RAM and compare them based on two criteria 1) `FillingTime`: how long it takes for us to fill up the data structure, 2) `RunTime`: how long it takes for us to solve the shortest path problem using Dijkstra’s algorithm. The following code creates a DataFrame that we will use to record these metrics. Run the following code to create the DataFrame and then study it."
   ]
  },
  {
   "cell_type": "code",
   "execution_count": 15,
   "id": "1bee3bc9",
   "metadata": {},
   "outputs": [
    {
     "name": "stdout",
     "output_type": "stream",
     "text": [
      "       FillingTime RunTime\n",
      "table          NaN     NaN\n",
      "matrix         NaN     NaN\n",
      "graph          NaN     NaN\n"
     ]
    }
   ],
   "source": [
    "datastrcutre_options = {'table': GraphLE,\n",
    "                       'matrix': GraphAM,\n",
    "                       'graph': GraphAL}\n",
    "\n",
    "result_df = pd.DataFrame(\n",
    "    index = datastrcutre_options,\n",
    "    columns = ['FillingTime','RunTime']\n",
    ")\n",
    "print(result_df)"
   ]
  },
  {
   "cell_type": "markdown",
   "id": "4ec1050f",
   "metadata": {},
   "source": [
    "10.\t The following code creates three different graphs using the three classes `GraphLE`, `GraphAM`, and `GraphAL`. For each encoded graph, first, it records the time it takes for your computer’s CPU to fill up the big graph that was created in step 9, after that, it records the time your CPU takes to solve the shortest path problem from node ④. You may ask, why node ④? It’s an arbitrary choice, you may choose any other node of the randomly generated graph. Running the following code may take a few minutes to complete, once it is done study its recorded times on `result_df`. "
   ]
  },
  {
   "cell_type": "code",
   "execution_count": 16,
   "id": "75b7b447",
   "metadata": {},
   "outputs": [
    {
     "name": "stdout",
     "output_type": "stream",
     "text": [
      "       FillingTime     RunTime\n",
      "table    47.109389  101.564448\n",
      "matrix    0.315183   24.215499\n",
      "graph     0.104828    8.725793\n"
     ]
    }
   ],
   "source": [
    "import time\n",
    "for ds_name, ds_class in datastrcutre_options.items():\n",
    "    t0 = time.time()\n",
    "    graph = ds_class(n_nodes)\n",
    "    for s,d,w in edge_list:\n",
    "        graph.add_edge(s, d, w)\n",
    "    \n",
    "    result_df.at[ds_name,'FillingTime'] = time.time() - t0\n",
    "    \n",
    "    t0 = time.time()\n",
    "    min_dist, shortest_path =  dijkstra(graph,4)\n",
    "    result_df.at[ds_name,'RunTime'] = time.time() - t0\n",
    "print(result_df)"
   ]
  },
  {
   "cell_type": "markdown",
   "id": "aeedf01e",
   "metadata": {},
   "source": [
    "11. Looking at the result of the experimentations in `result_df`, which data structure led to the fastest filling up of the graph? Which one led to the fastest solution performance of *Dijkstra’s algorithm*? Looking at the code to create classes of `GraphLE`, `GraphAM`, and `GraphAL` explains why each data structure leads to faster or slower performance."
   ]
  },
  {
   "cell_type": "markdown",
   "id": "0377429e",
   "metadata": {},
   "source": [
    "**Answer**: For both `FillingTime` and `RunTime`, *graph* is the fastest and *table* is the slowest.\n",
    "\n",
    "**Why table is slow for `FillingTime`?** The reason is that every time a new edge is introduced to the graph (`.add_edge()`), the graph must update the table(dataframe)'s structure and that is expensive for the CPU.\n",
    "\n",
    "**Why graph is fast for `FillingTime`?** The reason is that the `.add_edge()` function in GraphAL will find the list of adjacent nodes from the `adj_list` dictionary and append the new adjacent nodes to the list. Because the dictionary is indexed efficiently and appending is a cheap CPU action, the `FillingTime` for the graph is fasters.\n",
    "\n",
    "**Why matrix is not as fast as the graph in `FillingTime`?**: The matrix implementation is slower than the graph because every `.add_edge()` run for GraphAM CPU must find the correct cell to update from 100,000,000 cells and that's expensive for the CPU.\n",
    "\n",
    "**Why table is slow for `RunTime`?** *Dijkstra’s algorithm* only uses the function `.get_edge_from()` and that function in `GraphLE` involves using a Boolean mask to find the edges that start with a node. For a DataFrame of 50000 rows, this is not CPU cheap.\n",
    "\n",
    "**Why graph is fast for `RunTime`?** *Dijkstra’s algorithm* only uses the function `.get_edge_from()` and that function in `GraphAL` only needs to find the list of adjacent nodes from the `adj_list` dictionary, and that's very easy for CPU. \n",
    "\n",
    "**Why matrix is not as fast as the graph in `RunTime`?**: Dijkstra’s algorithm* only uses the function `.get_edge_from()` and that function in `GraphAM` needs to search 100,000,000 cells to find a handful of hits, and that's not cheap for the CPU.\n"
   ]
  },
  {
   "cell_type": "markdown",
   "id": "954f80b2",
   "metadata": {},
   "source": [
    "12.\t All in all, which data structure is superior when we have to work with graphs?"
   ]
  },
  {
   "cell_type": "markdown",
   "id": "292e3b16",
   "metadata": {},
   "source": [
    "**Answer**: \n",
    "When we work with graph data, the information that is used in runtime is to know the adjacent list to a node, and `GraphAL` provides that access to the information much easier as we experienced in this challenge. Therefore, the absolute superior not just in terms of `RunTime` but the time it took to introduce the data RAM (`FillingTime`) is `GraphAL`.\n"
   ]
  },
  {
   "cell_type": "markdown",
   "id": "2c6be14c",
   "metadata": {},
   "source": [
    "13.\tCome up with two real-life cases in which we can use GraphAL to keep the case’s information more efficiently. "
   ]
  },
  {
   "cell_type": "markdown",
   "id": "c4c7721c",
   "metadata": {},
   "source": [
    "**Answer**:\n",
    "\n",
    "The real-life cases are many. Here are two:\n",
    "\n",
    "- **Social Media**: The nodes are people, and the edges are the relationships between the people. The edges can be directional to model \"following\" and could be non-directional to model \"connection\" or being \"friends\". The edges could be weighted on not based on the use case, for instance, the weight could be the number of messages people send to each other.\n",
    "\n",
    "- **Policing Online Financial Transactions**: The nodes are bank accounts, the edges are transactions between the bank accounts, and the weights are the amount of money in the transaction. These graphs can be used to detect circles in financial transactions that are used for money laundering."
   ]
  },
  {
   "cell_type": "code",
   "execution_count": null,
   "id": "326b7482",
   "metadata": {},
   "outputs": [],
   "source": []
  }
 ],
 "metadata": {
  "kernelspec": {
   "display_name": "Python 3 (ipykernel)",
   "language": "python",
   "name": "python3"
  },
  "language_info": {
   "codemirror_mode": {
    "name": "ipython",
    "version": 3
   },
   "file_extension": ".py",
   "mimetype": "text/x-python",
   "name": "python",
   "nbconvert_exporter": "python",
   "pygments_lexer": "ipython3",
   "version": "3.12.4"
  }
 },
 "nbformat": 4,
 "nbformat_minor": 5
}
