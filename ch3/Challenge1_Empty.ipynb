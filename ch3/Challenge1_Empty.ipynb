{
 "cells": [
  {
   "cell_type": "markdown",
   "id": "637d998f",
   "metadata": {},
   "source": [
    "# Zero To Hero Big Data Prepration\n",
    "Taking Advantage of Cloud Technologies to Create Big Data Solutions\n",
    "    \n",
    "    AUTHOR: Dr. Roy Jafari \n",
    "\n",
    "# Chapter 3: Using the right data strucutres \n",
    "\n",
    "## Challenge 1 - tables or dictionaries?"
   ]
  },
  {
   "cell_type": "markdown",
   "id": "f02e2ec5",
   "metadata": {},
   "source": [
    "The regular choice of data structure is a table. While that is a good choice very often, it is not always the best choice. In this challenge, we will see a use case in that table is not the best choice, and a dictionary would do much better. The use case is having a lookup data structure.\n",
    "\n",
    "In this challenge, we will first experience the different performances of the two data structures, and then we will see how there is an easy fix to be able to use the advantages of both data structures.\n",
    "\n",
    "Answer the following questions and perform the following steps.\n",
    "\n",
    "1.\tThe following code creates some random data. The values in `fullnames` are made sure to be unique. Run the following code to load the random data into your computer’s RAM. The code might take a few seconds to complete. "
   ]
  },
  {
   "cell_type": "code",
   "execution_count": null,
   "id": "c7f00e2a",
   "metadata": {},
   "outputs": [],
   "source": [
    "import names\n",
    "import numpy as np\n",
    "f_names = [names.get_first_name() for i in range(5000)]\n",
    "l_names = [names.get_last_name() for i in range(5000)]\n",
    "fullnames = list(set([f'{fn} {ln}' for fn in f_names for ln in l_names]))\n",
    "ages = np.random.randint(18,75,len(fullnames)).tolist()\n",
    "married = np.random.choice(\n",
    "    [True,False], len(fullnames)\n",
    ").tolist()"
   ]
  },
  {
   "cell_type": "markdown",
   "id": "51d28474",
   "metadata": {},
   "source": [
    "2.\tThe following code adds my name, my age, and my marital status to these three lists. You might want to change that to your name if you wish. Run the code to add the new values. "
   ]
  },
  {
   "cell_type": "code",
   "execution_count": null,
   "id": "1877d764",
   "metadata": {},
   "outputs": [],
   "source": [
    "fullnames.append('Roy Jafari')\n",
    "ages.append(35)\n",
    "married.append(True)"
   ]
  },
  {
   "cell_type": "markdown",
   "id": "6496b40c",
   "metadata": {},
   "source": [
    "3.\tThe following code loads the random data into the pandas DataFrame `person_df`. Run the code to get this done."
   ]
  },
  {
   "cell_type": "code",
   "execution_count": null,
   "id": "0f577a86",
   "metadata": {},
   "outputs": [],
   "source": [
    "import pandas as pd\n",
    "person_df = pd.DataFrame(\n",
    "    {'Name':fullnames, 'Age':ages, 'Married':married}\n",
    ")\n",
    "print(person_df)"
   ]
  },
  {
   "cell_type": "markdown",
   "id": "12a2d741",
   "metadata": {},
   "source": [
    "4.\tThe following code loads the random data into the dictionary `person_dict`. Run the code to get this done."
   ]
  },
  {
   "cell_type": "code",
   "execution_count": null,
   "id": "d74561ee",
   "metadata": {
    "scrolled": true
   },
   "outputs": [],
   "source": [
    "person_dict = {fullnames[i]:(ages[i],married[i]) for i in range(len(ages))}\n",
    "person_dict"
   ]
  },
  {
   "cell_type": "markdown",
   "id": "24f5692e",
   "metadata": {},
   "source": [
    "5.\tThe following code capture how long it takes for your computer’s CPU to find a row of the data in `person_df` based on its unique identifier `Name`."
   ]
  },
  {
   "cell_type": "code",
   "execution_count": null,
   "id": "67380031",
   "metadata": {},
   "outputs": [],
   "source": [
    "import time\n",
    "t0=time.time()\n",
    "result = person_df[person_df.Name == 'Roy Jafari']\n",
    "print(time.time()-t0,'(s)')\n",
    "print(result)"
   ]
  },
  {
   "cell_type": "markdown",
   "id": "fbdaa490",
   "metadata": {},
   "source": [
    "**Answer**:\n",
    "\n"
   ]
  },
  {
   "cell_type": "markdown",
   "id": "174807c0",
   "metadata": {},
   "source": [
    "6.\tThe following code capture how long it takes for your computer’s CPU to find a row of the data in `person_dict` based on its unique identifier Name."
   ]
  },
  {
   "cell_type": "code",
   "execution_count": null,
   "id": "f577516c",
   "metadata": {},
   "outputs": [],
   "source": [
    "t0=time.time()\n",
    "result = person_dict['Roy Jafari']\n",
    "print(time.time()-t0,'(s)')\n",
    "print(result)"
   ]
  },
  {
   "cell_type": "markdown",
   "id": "3d3ddde7",
   "metadata": {},
   "source": [
    "**Answer**: "
   ]
  },
  {
   "cell_type": "markdown",
   "id": "b25851d2",
   "metadata": {},
   "source": [
    "7.\tCompare the printouts in steps 5 and 6 based on two criteria: lookup time, and decoration. Lookup time is how long the CPU takes to retrieve a row based on its unique identifier, and decoration is how easy it is to see the row’s columns' titles."
   ]
  },
  {
   "cell_type": "markdown",
   "id": "5a31976b",
   "metadata": {},
   "source": [
    "**Answer**: "
   ]
  },
  {
   "cell_type": "markdown",
   "id": "e634b8ff",
   "metadata": {},
   "source": [
    "8.\tThe following code simply transforms `person_df` so it is both a dictionary and a table, so we can take advantage of both data structures. Run the following code and move to the next step."
   ]
  },
  {
   "cell_type": "code",
   "execution_count": null,
   "id": "47cde13a",
   "metadata": {},
   "outputs": [],
   "source": [
    "person_df = person_df.set_index('Name')\n",
    "print(person_df)"
   ]
  },
  {
   "cell_type": "markdown",
   "id": "712df50e",
   "metadata": {},
   "source": [
    "9.\tThe following code captures how long it takes for your computer’s CPU to find a row of the data in transformed `person_df`. Pay attention that the first time you run the code, pandas will restructure the DataFrame so it is used for looking-up purposes. Essentially pandas will be using a dictionary behind the seen. After running the following code more than once you will see its improved performance."
   ]
  },
  {
   "cell_type": "code",
   "execution_count": null,
   "id": "cd0490c8",
   "metadata": {},
   "outputs": [],
   "source": [
    "t0=time.time()\n",
    "result = person_df.loc['Roy Jafari']\n",
    "print(time.time()-t0,'(s)')\n",
    "print(result)"
   ]
  },
  {
   "cell_type": "code",
   "execution_count": null,
   "id": "f8a91337",
   "metadata": {},
   "outputs": [],
   "source": [
    "t0=time.time()\n",
    "result = person_df.loc['Roy Jafari']\n",
    "print(time.time()-t0,'(s)')\n",
    "print(result)"
   ]
  },
  {
   "cell_type": "code",
   "execution_count": null,
   "id": "3a980f35",
   "metadata": {},
   "outputs": [],
   "source": [
    "t0=time.time()\n",
    "result = person_df.loc['Roy Jafari']\n",
    "print(time.time()-t0,'(s)')\n",
    "print(result)"
   ]
  },
  {
   "cell_type": "code",
   "execution_count": null,
   "id": "54faefdd",
   "metadata": {},
   "outputs": [],
   "source": [
    "t0=time.time()\n",
    "result = person_df.loc['Roy Jafari']\n",
    "print(time.time()-t0,'(s)')\n",
    "print(result)"
   ]
  },
  {
   "cell_type": "markdown",
   "id": "b943df3a",
   "metadata": {},
   "source": [
    "10.\tSummarize what you learned from this experience into 2 to 3 bullet points for your future self."
   ]
  },
  {
   "cell_type": "markdown",
   "id": "a0ea0389",
   "metadata": {},
   "source": [
    "**Answer**:"
   ]
  },
  {
   "cell_type": "code",
   "execution_count": null,
   "id": "1645c857",
   "metadata": {},
   "outputs": [],
   "source": []
  }
 ],
 "metadata": {
  "kernelspec": {
   "display_name": "Python 3 (ipykernel)",
   "language": "python",
   "name": "python3"
  },
  "language_info": {
   "codemirror_mode": {
    "name": "ipython",
    "version": 3
   },
   "file_extension": ".py",
   "mimetype": "text/x-python",
   "name": "python",
   "nbconvert_exporter": "python",
   "pygments_lexer": "ipython3",
   "version": "3.12.4"
  }
 },
 "nbformat": 4,
 "nbformat_minor": 5
}
