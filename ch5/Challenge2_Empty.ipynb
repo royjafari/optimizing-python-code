{
 "cells": [
  {
   "cell_type": "markdown",
   "id": "637d998f",
   "metadata": {},
   "source": [
    "# Optimizing the Python Code for Big Data \n",
    "Balancing Coding Complexity against Computational Complexity \n",
    "\n",
    "    \n",
    "    AUTHOR: Dr. Roy Jafari \n",
    "\n",
    "# Chapter 5: Picking up the right tool \n",
    "\n",
    "## Challenge 2: Restructuring and Reformulating Data "
   ]
  },
  {
   "attachments": {},
   "cell_type": "markdown",
   "id": "3a7f57ca",
   "metadata": {},
   "source": [
    "In this challenge, we will use a large dataset, `US_Shops_simulated.csv`, which contains about 5 million rows. Due to the size of this data, selecting the wrong tool can make simple restructuring and reformulating tasks take significantly longer. Use the following steps to complete this task.\n",
    "\n",
    "1. The following code uses `pd.read_csv()` to read `US_Shops_simulated.csv` into `order_df`. Run the code and study the dataset. Specify columns that are providing an index versus the columns that are presenting values.\n",
    "\n",
    "```\n",
    "import pandas as pd\n",
    "order_df = pd.read_csv('US_Shops_simulated.csv')\n",
    "order_df\n",
    "```"
   ]
  },
  {
   "cell_type": "code",
   "execution_count": null,
   "id": "08cf79ff-4c32-436a-a6dc-eb9cc3ae98a4",
   "metadata": {},
   "outputs": [],
   "source": []
  },
  {
   "cell_type": "markdown",
   "id": "cf420057-053c-4395-be7f-f7aeb61187d9",
   "metadata": {},
   "source": [
    "**Answer**: "
   ]
  },
  {
   "cell_type": "markdown",
   "id": "b2f8ce3a-ca31-4293-9f34-54bc7cf6489b",
   "metadata": {},
   "source": [
    "2. The following code uses the `.groupby()` and `.size()` functions to get all the indices for all the shops in this dataset. Run the following code and study its output.\n",
    "\n",
    "```\n",
    "shop_index = order_df.groupby(['State', 'Location']).size().index\n",
    "print(shop_index)\n",
    "```"
   ]
  },
  {
   "cell_type": "code",
   "execution_count": null,
   "id": "06b76158-9119-41a4-98fd-05e6241cc2fa",
   "metadata": {},
   "outputs": [],
   "source": []
  },
  {
   "cell_type": "markdown",
   "id": "750ee184-40c6-44e4-8129-f99b023ebc77",
   "metadata": {},
   "source": [
    "3. Similar to step 2, the following code uses the `.groupby()` and `.size()` functions to get all the indices for all the dates in this dataset. Run the following code and study its output.\n",
    "\n",
    "```\n",
    "date_index = order_df.groupby(['Date']).size().index\n",
    "print(date_index)\n",
    "```\n"
   ]
  },
  {
   "cell_type": "code",
   "execution_count": null,
   "id": "2f02fee7-6776-4c56-87e8-e5540b62be90",
   "metadata": {},
   "outputs": [],
   "source": []
  },
  {
   "cell_type": "markdown",
   "id": "e9e81f98-b664-4dda-bfb0-6113aab2f875",
   "metadata": {},
   "source": [
    "4. The following code uses `shop_index` and `date_index` to create the new table, `rev_shop_df`, to contain the daily revenue of all the shops for all the dates from `order_df`. In this table, each row represents a shop and the columns represent the dates.\n",
    "\n",
    "```\n",
    "rev_shop_df = pd.DataFrame(index=shop_index, columns=date_index)\n",
    "rev_shop_df\n",
    "```"
   ]
  },
  {
   "cell_type": "code",
   "execution_count": null,
   "id": "e8458977-c4bf-40e1-9aa0-b4ea6494ea20",
   "metadata": {},
   "outputs": [],
   "source": []
  },
  {
   "cell_type": "markdown",
   "id": "00e9575a-3a8b-4771-8581-dc976d53319a",
   "metadata": {},
   "source": [
    "5. The following code uses a for loop and the `.query()` function to wrangle `order_df` into `rev_shop_df`. Note that `%%time` is used to record how long the code will take to run. Run the following code and note its outputs.\n",
    "\n",
    "```\n",
    "%%time\n",
    "for state,location in shop_index:\n",
    "    wdf = (order_df\n",
    "           .query(f'State == \"{state}\"')\n",
    "           .query(f'Location == \"{location}\"')\n",
    "           .copy()\n",
    "    )\n",
    "    rev_shop_df.loc[state,location] = (\n",
    "        wdf.set_index('Date').number_of_customer_visits)\n",
    "rev_shop_df\n",
    "```"
   ]
  },
  {
   "cell_type": "code",
   "execution_count": null,
   "id": "dccfab66-ac81-4ca1-b278-85031748f175",
   "metadata": {},
   "outputs": [],
   "source": []
  },
  {
   "cell_type": "markdown",
   "id": "c36aad05-c48b-486b-ba3b-1d845d8931c8",
   "metadata": {},
   "source": [
    "**Answer:**  "
   ]
  },
  {
   "cell_type": "code",
   "execution_count": null,
   "id": "e36401e4-1647-475d-9301-01fc8ebcdad5",
   "metadata": {},
   "outputs": [],
   "source": []
  },
  {
   "cell_type": "markdown",
   "id": "738ac5d8-fc40-4bbf-986a-d0903a227676",
   "metadata": {},
   "source": [
    "6. The following code performs an even bigger task than the one done in steps 4 and 5, but with more appropriate tools. While the task in steps 4 and 5 was to wrangle the revenue data, this step also wrangles the `profit` and `number_of_customer_visits` data. In this code, the functions `.drop()`, `.set_index()`, and `.unstack()` are employed. Note that the critical function enabling this restructuring is `.unstack()`.\n",
    "\n",
    "```\n",
    "%%time\n",
    "shop_df = (\n",
    "    order_df\n",
    "    .drop(columns=['Month', 'Year'])\n",
    "    .set_index(['State', 'Location', 'Date'])\n",
    "    .unstack()\n",
    ")\n",
    "shop_df\n",
    "```\n",
    "Run `shop_df['revenue']` to see what we created in steps 4 and 5."
   ]
  },
  {
   "cell_type": "code",
   "execution_count": null,
   "id": "11a036bc-e184-4576-be4a-7baff3a82613",
   "metadata": {},
   "outputs": [],
   "source": []
  },
  {
   "cell_type": "markdown",
   "id": "a5e4f0ab-60b6-489b-98ba-7c83e534093e",
   "metadata": {},
   "source": [
    "**Answer:** "
   ]
  },
  {
   "cell_type": "code",
   "execution_count": null,
   "id": "94b716df-f7ce-483c-87d2-c18a822f1577",
   "metadata": {},
   "outputs": [],
   "source": []
  },
  {
   "cell_type": "markdown",
   "id": "015eb2e8-1226-489a-9037-b63a215d6545",
   "metadata": {},
   "source": [
    "7. Calculate roughly how much faster the application of `.unstack()` was compared to using the for loop and `.query()`. What is the reason that `.unstack()` is much faster?"
   ]
  },
  {
   "cell_type": "markdown",
   "id": "31f36a2e-f769-45a4-a246-a25819527be2",
   "metadata": {},
   "source": [
    "**Answer:** "
   ]
  },
  {
   "cell_type": "code",
   "execution_count": null,
   "id": "fc471152-c48e-4efe-a372-ea6071913039",
   "metadata": {},
   "outputs": [],
   "source": []
  },
  {
   "cell_type": "markdown",
   "id": "93e7ea59-326d-403b-b0f9-6c714fb36cba",
   "metadata": {},
   "source": [
    "8. The function `.unstack()` has a peer function, `.stack()`. For practice, use `.stack()` to revert `shop_df` back to `order_df`."
   ]
  },
  {
   "cell_type": "markdown",
   "id": "8cd81f55-df19-47d8-ad52-57fc2b962469",
   "metadata": {},
   "source": [
    "**Answer:**"
   ]
  },
  {
   "cell_type": "code",
   "execution_count": null,
   "id": "2a99d063-7ed0-4b1d-b1e4-818a597c4579",
   "metadata": {},
   "outputs": [],
   "source": []
  },
  {
   "cell_type": "markdown",
   "id": "fea448bd-4c9e-45f7-ab14-ba15f86763f2",
   "metadata": {},
   "source": [
    "9. The set of functions `.stack()` and `.unstack()` are powerful. However, the same tasks can be done using `.melt()` and `.pivot()` functions. To practice, first create `shop_df` using one of these two functions, and revert it back to `order_df` using the other. Pay attention—doing it with `.melt()` might be tricky due to the fact that this function cannot deal with multi-level columns."
   ]
  },
  {
   "cell_type": "markdown",
   "id": "73a6286d-a2e8-406b-a42c-5056a9825e02",
   "metadata": {},
   "source": [
    "**Answer:**"
   ]
  },
  {
   "cell_type": "code",
   "execution_count": null,
   "id": "972c9192-e8d4-423f-a8fb-3d58a624e135",
   "metadata": {},
   "outputs": [],
   "source": []
  },
  {
   "cell_type": "markdown",
   "id": "cd93c5f0-133d-423b-9c78-8a7fd05d5224",
   "metadata": {},
   "source": [
    "10. Compare the sets of `.stack()` and `.unstack()` with the set of `.melt()` and `.pivot()` from two perspectives: runtime and ease of use."
   ]
  },
  {
   "cell_type": "markdown",
   "id": "ef34dbb3-a4d9-40c4-923b-bad1330dad87",
   "metadata": {},
   "source": [
    "**Answer:** "
   ]
  },
  {
   "cell_type": "code",
   "execution_count": null,
   "id": "82656469-7cac-4a2c-a711-b3aceb9264b6",
   "metadata": {},
   "outputs": [],
   "source": []
  }
 ],
 "metadata": {
  "kernelspec": {
   "display_name": "Python 3 (ipykernel)",
   "language": "python",
   "name": "python3"
  },
  "language_info": {
   "codemirror_mode": {
    "name": "ipython",
    "version": 3
   },
   "file_extension": ".py",
   "mimetype": "text/x-python",
   "name": "python",
   "nbconvert_exporter": "python",
   "pygments_lexer": "ipython3",
   "version": "3.12.4"
  }
 },
 "nbformat": 4,
 "nbformat_minor": 5
}
