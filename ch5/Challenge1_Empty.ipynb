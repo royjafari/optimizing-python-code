{
 "cells": [
  {
   "cell_type": "markdown",
   "id": "637d998f",
   "metadata": {},
   "source": [
    "# Optimizing the Python Code for Big Data \n",
    "Balancing Coding Complexity against Computational Complexity \n",
    "\n",
    "    \n",
    "    AUTHOR: Dr. Roy Jafari \n",
    "\n",
    "# Chapter 5: Picking up the right tool \n",
    "\n",
    "## Challenge 1: Image pre-processing "
   ]
  },
  {
   "attachments": {},
   "cell_type": "markdown",
   "id": "3a7f57ca",
   "metadata": {},
   "source": [
    "An image is essentially a dataset that contains a set of numbers for each pixel. While the dataset of an image is organized in a rectangular pixel structure, most data science algorithms are designed to work with datasets organized as tables of rows and columns. In this challenge, we will explore two approaches to transforming an image from its rectangular pixel structure into a tabular data structure. Naturally, one of these approaches demonstrates a failure to select the right tool. Let’s dive in, shall we?\n",
    "\n",
    "1. In this challenge, we will build on an example from the first book in this series, *Optimizing the Big Data Problem Statement*, specifically from Chapter 4, *Example of Data Wrangling – Computer Vision Case Study*. If you don’t have the first book, no worries—you’ll find everything you need to understand and complete this challenge right here. First, review the example, then use the following code to load `train_d`, `train_l`, `test_d`, and `test_l` into your local Python environment.\n",
    "\n",
    "```\n",
    "from tensorflow.keras.datasets import mnist\n",
    "(train_d, train_l), (test_d, test_l) = mnist.load_data()\n",
    "```"
   ]
  },
  {
   "cell_type": "code",
   "execution_count": null,
   "id": "3da2fe41-baa5-4c6c-bfad-5d2122dae54f",
   "metadata": {},
   "outputs": [],
   "source": []
  },
  {
   "cell_type": "markdown",
   "id": "cfb40b85-72b9-4b28-bc19-b8041326977a",
   "metadata": {},
   "source": [
    "2. Run the following code and study its output to understand the shape of these datasets. With the provided context, explain the data structures of these four matrices.\n",
    "\n",
    "```\n",
    "print(train_d.shape)\n",
    "print(train_l.shape)\n",
    "print(test_d.shape)\n",
    "print(test_l.shape)\n",
    "```"
   ]
  },
  {
   "cell_type": "code",
   "execution_count": null,
   "id": "47ee2a96-c4f1-41c3-ae3c-55534d1ab04b",
   "metadata": {},
   "outputs": [],
   "source": []
  },
  {
   "cell_type": "markdown",
   "id": "eef31b98-cca6-4a3e-bb15-97a7837ffd5f",
   "metadata": {},
   "source": [
    "**Answer:** "
   ]
  },
  {
   "cell_type": "code",
   "execution_count": null,
   "id": "e1066aff-cdd8-4285-b8ff-2885cbe389a3",
   "metadata": {},
   "outputs": [],
   "source": []
  },
  {
   "cell_type": "markdown",
   "id": "aa1f8a01-24a5-4290-bb85-681a3ce74076",
   "metadata": {},
   "source": [
    "3. If you are having trouble answering the question in the previous step, run the following code for a hint.\n",
    "\n",
    "```\n",
    "print(train_d[0, :, :])\n",
    "```"
   ]
  },
  {
   "cell_type": "code",
   "execution_count": null,
   "id": "520333b4-d748-45d5-90b0-b20299c9f3c4",
   "metadata": {},
   "outputs": [],
   "source": []
  },
  {
   "attachments": {},
   "cell_type": "markdown",
   "id": "0feeb4ed-536d-486d-84f5-5337f10c7ca1",
   "metadata": {},
   "source": [
    "4. If you are still having trouble answering the question in step 2, try running the following code and study its output. This code uses the `plt.imshow()` function to visualize what we saw in step 3.\n",
    "\n",
    "```\n",
    "import matplotlib.pyplot as plt\n",
    "import matplotlib.image as mpimg\n",
    "\n",
    "plt.imshow(train_d[0, :, :], cmap='gray')\n",
    "plt.xticks([])\n",
    "plt.yticks([])\n",
    "plt.show()\n",
    "```"
   ]
  },
  {
   "cell_type": "code",
   "execution_count": null,
   "id": "8d7590e4-f123-449b-8d6f-cf6c1d8895b7",
   "metadata": {},
   "outputs": [],
   "source": []
  },
  {
   "cell_type": "markdown",
   "id": "5cd6ae0e-c98f-404f-bec4-48b3c1d28185",
   "metadata": {},
   "source": [
    "5. The following code creates the pandas DataFrame, `feature_df`. We want to restructure `train_d` and `train_l` into this table. The values from columns `P0` to `P783` will come from `train_d` and the column `lable` will come from `train_l`.\n",
    "\n",
    "```\n",
    "import pandas as pd\n",
    "columns = [f'P{i}' for i in range(28*28)]\n",
    "columns.extend(['lable'])\n",
    "\n",
    "feature_df = pd.DataFrame(index=range(60000), columns=columns)\n",
    "feature_df\n",
    "```"
   ]
  },
  {
   "cell_type": "code",
   "execution_count": null,
   "id": "40966c09-e641-4c53-a655-c6fcc07ec7d5",
   "metadata": {},
   "outputs": [],
   "source": []
  },
  {
   "cell_type": "markdown",
   "id": "efb6610f-fd5e-41a4-b0b0-d3011b33ef11",
   "metadata": {},
   "source": [
    "6. The following code defines `reshape_image_ourselve()` which takes one image with 28x28 pixels and flattens the pixelated structure into a single line of numbers. Run the following code and then test it with `train_d[0, :, :]`.\n",
    "\n",
    "```\n",
    "def reshape_image_ourselve(image):\n",
    "    output_sr = pd.Series(index=range(28*28))\n",
    "    for i in range(28):\n",
    "        output_sr.iloc[28*i:28*(i+1)] = image[i, :]\n",
    "    return output_sr.values\n",
    "```"
   ]
  },
  {
   "cell_type": "code",
   "execution_count": null,
   "id": "3977dc2b-310e-41fc-9229-9ada8d6e09f3",
   "metadata": {},
   "outputs": [],
   "source": []
  },
  {
   "cell_type": "markdown",
   "id": "f9c6f585-d5fc-4602-a57c-eb2368f5f28a",
   "metadata": {},
   "source": [
    "7. The following code uses the function defined in the previous step, `reshape_image_ourselve()`, to fill `feature_df`. Note that `%%time` is used to time how long it takes for your computer to run the task. Run the code and note how long it took.\n",
    "\n",
    "```\n",
    "%%time\n",
    "feature_df = pd.DataFrame(index=range(60000), columns=[f'P{i}' for i in range(28*28)])\n",
    "\n",
    "for i in range(60000):\n",
    "    feature_df.loc[i] = reshape_image_ourselve(train_d[i, :, :])\n",
    "\n",
    "feature_df['lable'] = train_l\n",
    "feature_df\n",
    "```"
   ]
  },
  {
   "cell_type": "code",
   "execution_count": null,
   "id": "9ecafc10-489b-402c-acef-5a618aa583f8",
   "metadata": {},
   "outputs": [],
   "source": []
  },
  {
   "cell_type": "markdown",
   "id": "91d96eef-c88f-4c61-9e6d-545835cc0d13",
   "metadata": {},
   "source": [
    "**Answer**: \n"
   ]
  },
  {
   "cell_type": "code",
   "execution_count": null,
   "id": "e498efaa-01f4-4a3b-935f-cd1ad3ea77ae",
   "metadata": {},
   "outputs": [],
   "source": []
  },
  {
   "cell_type": "markdown",
   "id": "da24013a-a303-4cd0-9d36-6aba56aac02e",
   "metadata": {},
   "source": [
    "8. The following code accomplishes the same task as the previous step but uses a much better tool, `np.reshape()`. Run the following code and note how long it takes to execute.\n",
    "\n",
    "```\n",
    "%%time\n",
    "feature_df = pd.DataFrame(train_d.reshape(60000, -1), columns=[f'P{i}' for i in range(28*28)])\n",
    "feature_df['lable'] = train_l\n",
    "feature_df\n",
    "```"
   ]
  },
  {
   "cell_type": "code",
   "execution_count": null,
   "id": "09dd3158-2aa6-482b-a9ae-0bb51eed2fe2",
   "metadata": {},
   "outputs": [],
   "source": []
  },
  {
   "cell_type": "markdown",
   "id": "3149b104-2297-4faa-9ad8-99872252fcda",
   "metadata": {},
   "source": [
    "**Answer:** \n"
   ]
  },
  {
   "cell_type": "code",
   "execution_count": null,
   "id": "8fe47f15-4e35-43da-8e6d-815f0fa09456",
   "metadata": {},
   "outputs": [],
   "source": []
  },
  {
   "cell_type": "markdown",
   "id": "041444c5-0e02-432a-bb9b-f433c677c5c1",
   "metadata": {},
   "source": [
    "9. Compare the runtime of your computer from step 7 and step 8. Do you see a large difference? What do you think is the reason?"
   ]
  },
  {
   "cell_type": "markdown",
   "id": "91b24164-225e-4b2c-ac95-2712076b6e2d",
   "metadata": {},
   "source": [
    "**Answer:** "
   ]
  },
  {
   "cell_type": "code",
   "execution_count": null,
   "id": "a2df9f62-8fff-4242-8341-afdb00c809d2",
   "metadata": {},
   "outputs": [],
   "source": []
  }
 ],
 "metadata": {
  "kernelspec": {
   "display_name": "Python 3 (ipykernel)",
   "language": "python",
   "name": "python3"
  },
  "language_info": {
   "codemirror_mode": {
    "name": "ipython",
    "version": 3
   },
   "file_extension": ".py",
   "mimetype": "text/x-python",
   "name": "python",
   "nbconvert_exporter": "python",
   "pygments_lexer": "ipython3",
   "version": "3.12.4"
  }
 },
 "nbformat": 4,
 "nbformat_minor": 5
}
