{
 "cells": [
  {
   "attachments": {},
   "cell_type": "markdown",
   "id": "637d998f",
   "metadata": {},
   "source": [
    "# Optimizing the Python Code for Big Data \n",
    "Balancing Coding Complexity against Computational Complexity \n",
    "\n",
    "    \n",
    "    AUTHOR: Dr. Roy Jafari \n",
    "\n",
    "# Chapter 5: Picking up the right tool "
   ]
  },
  {
   "attachments": {},
   "cell_type": "markdown",
   "id": "3a7f57ca",
   "metadata": {},
   "source": [
    "## Challenge 4: What is Gradient Descent, and how it can be useful?\n",
    "In this challenge, we will explore the Gradient Descent algorithm and acquire the tools necessary to use this algorithm efficiently.\n",
    "\n",
    "1. The code snippet below defines a function `system()`, which simulates a system whose optimum performance we aim to find. This function helps illustrate the concept of Gradient Descent.\n",
    "\n",
    "```\n",
    "import time\n",
    "def system(x):\n",
    "    time.sleep(0.1)\n",
    "    return 2*x**2 - 100*x + 15000\n",
    "```\n",
    "\n",
    "The `time.sleep(0.1)` call in the function simulates the delay that might occur in a real-world system, such as waiting for a response from a sensor or processing a complex calculation. This addition helps to create a more realistic scenario where each function evaluation takes time, similar to what might happen in practical applications. This function models a quadratic equation, allowing us to practice finding the minimum value using Gradient Descent."
   ]
  },
  {
   "cell_type": "code",
   "execution_count": null,
   "id": "2dda51cd-65fa-47ab-b0b6-0e7f1cb10a56",
   "metadata": {},
   "outputs": [],
   "source": []
  },
  {
   "cell_type": "markdown",
   "id": "3adb879c-7793-44f9-b272-a5539efd2e2e",
   "metadata": {},
   "source": [
    "2. Use the derivative to find the optimum of the quadratic function defined in `system()`."
   ]
  },
  {
   "cell_type": "markdown",
   "id": "239777ec-1d94-4795-9362-af0bcb20bcf1",
   "metadata": {},
   "source": [
    "**Answer**: "
   ]
  },
  {
   "cell_type": "code",
   "execution_count": null,
   "id": "a0301e88-d352-4885-ab0c-837d0aa89aa8",
   "metadata": {},
   "outputs": [],
   "source": []
  },
  {
   "cell_type": "markdown",
   "id": "404821c1-474a-4b38-8a8f-536a88cf6ed0",
   "metadata": {},
   "source": [
    "3. The following code defines `drawSysPoint()`, a function that takes in a mathematical function, a range of x-values, and a specific x-value (point). It then plots the function and projects the given point onto the function. Define this function and run `drawSysPoint(system, (0, 50), 10)` to use it.\n",
    "\n",
    "```\n",
    "import numpy as np\n",
    "import matplotlib.pyplot as plt\n",
    "\n",
    "def drawSysPoint(func, xlim, p):\n",
    "    x = np.linspace(xlim[0], xlim[1], 50)\n",
    "    y = func(x)\n",
    "    \n",
    "    fig, ax = plt.subplots()\n",
    "    ax.plot(x, y, label='Function')\n",
    "    ax.scatter(p, func(p), marker='*', \n",
    "           color='C1', s=75, label=f'Point (x={p:.2f})')\n",
    "    ax.axvline(p, linestyle=':', linewidth=1, color='gray')\n",
    "    ax.annotate(text=f'x={p:.2f}',xy=(p,func(1)))\n",
    "    \n",
    "    ax.set_xlabel('x')\n",
    "    ax.set_ylabel('f(x)')\n",
    "    \n",
    "    plt.show()\n",
    "\n",
    "# Example usage\n",
    "drawSysPoint(system, (0, 50), 10)\n",
    "```"
   ]
  },
  {
   "cell_type": "markdown",
   "id": "0b2d9809-82e0-4066-b8c3-91f85d611648",
   "metadata": {},
   "source": [
    "4. The following code snippet defines two functions: `extract_tangent_line()` and `drawSysPointwTangentLine()`. The first function calculates the slope and intercept of the tangent line at a given point on a function. The second function plots the function and its tangent line at the given point.\n",
    "\n",
    "```\n",
    "import numpy as np\n",
    "import matplotlib.pyplot as plt\n",
    "\n",
    "def extract_tangent_line(func, p):\n",
    "    eps = 1e-6\n",
    "    x1 = p + eps\n",
    "    y1 = func(x1)\n",
    "    \n",
    "    x2 = p - eps\n",
    "    y2 = func(x2)\n",
    "    \n",
    "    slope = (y2 - y1) / (x2 - x1)\n",
    "    intercept = func(p) - slope * p\n",
    "    \n",
    "    return slope, intercept, lambda x: intercept + slope * x\n",
    "\n",
    "def drawSysPointwTangentLine(func, p):\n",
    "    xlim = (0, 50)\n",
    "    x = np.linspace(xlim[0], xlim[1], 50)\n",
    "    y = func(x)\n",
    "    \n",
    "    fig, ax = plt.subplots()\n",
    "    ax.plot(x, y, label='Function')\n",
    "    ax.scatter(p, func(p), marker='*', color='C1', \n",
    "           s=75, label=f'Point (x={p:.2f})')\n",
    "    ax.axvline(p, linestyle=':', linewidth=0.5, color='gray')\n",
    "    ax.annotate(text=f'x={p:.2f}',xy=(p,func(1)))\n",
    "    \n",
    "    slope, intercept, tangent_line_func = extract_tangent_line(func, p)\n",
    "    tangent_xlim = (p - 5, p + 5)\n",
    "    x_tangent = np.linspace(tangent_xlim[0], tangent_xlim[1], 50)\n",
    "    y_tangent = tangent_line_func(x_tangent)\n",
    "    ax.plot(x_tangent, y_tangent, linestyle=':',\n",
    "        color='gray', label='Tangent Line')\n",
    "    \n",
    "    ax.annotate(text =f'slope: {slope:.2f}',xy=(p+1,func(p)))\n",
    "    \n",
    "    ax.set_xlabel('x')\n",
    "    ax.set_ylabel('f(x)')\n",
    "    \n",
    "    plt.show()\n",
    "\n",
    "# Example usage\n",
    "drawSysPointwTangentLine(system, 10)\n",
    "```"
   ]
  },
  {
   "cell_type": "markdown",
   "id": "bf38d84b-a95b-4dba-94c5-8345e33d028c",
   "metadata": {},
   "source": [
    "5. We will use `drawSysPointwTangentLine()` extensively. Let's use it with various points between 0 and 50 to better understand its functionality.\n",
    "\n",
    "```\n",
    "# Example usage with different points between 0 and 50\n",
    "points = [8,22, 28, 41]\n",
    "\n",
    "for p in points:\n",
    "    print(drawSysPointwTangentLine(system, p))\n",
    "```\n",
    "\n",
    "You can run this code to visualize how `drawSysPointwTangentLine()` behaves with different points. This will help you understand how the function and its tangent line change as the point varies within the range."
   ]
  },
  {
   "cell_type": "code",
   "execution_count": null,
   "id": "3730db16-6544-449f-9c50-3263852e1bed",
   "metadata": {},
   "outputs": [],
   "source": []
  },
  {
   "cell_type": "markdown",
   "id": "bfac76ba-add1-4fe1-9c95-60c57eb8100c",
   "metadata": {},
   "source": [
    "6. Note that the `drawSysPointwTangentLine()` function also returns the slope of the tangent line to the input `func`. The following code uses this slope to iteratively move the input toward the extreme point of the `system()` function. Run the code a few times and observe the printouts. Notice how, regardless of the random starting point, the algorithm converges to the optimum answer, which is \\( x = 25 \\). Why does this work?\n",
    "\n",
    "```\n",
    "point = np.random.randint(50)\n",
    "\n",
    "for i in range(20):\n",
    "    slope = drawSysPointwTangentLine(system, point)  # Extract only the slope\n",
    "    point = point - slope * 0.1\n",
    "    print(f\"Iteration {i+1}: point = {point:.2f}, slope = {slope:.2f}\")\n",
    "\n",
    "print(f\"Converged to: x = {point:.2f}\")\n",
    "```"
   ]
  },
  {
   "cell_type": "code",
   "execution_count": null,
   "id": "be501058-d92c-433e-a3e5-ccfcb6e36ae1",
   "metadata": {},
   "outputs": [],
   "source": []
  },
  {
   "cell_type": "markdown",
   "id": "475c059d-f899-4ac1-a668-418b86e084b5",
   "metadata": {},
   "source": [
    "**Answer**: "
   ]
  },
  {
   "cell_type": "markdown",
   "id": "4d00170e-864d-44e1-9f80-b199bfb42420",
   "metadata": {},
   "source": [
    "7. What we observed in the previous steps demonstrates how Gradient Descent works. Based on your observation, come up with an algorithm for Gradient Descent in simple terms."
   ]
  },
  {
   "cell_type": "markdown",
   "id": "75a4075b-6e22-4eb4-8d1e-db186e719d98",
   "metadata": {},
   "source": [
    "**Answer**:\n",
    "\n",
    "Gradient Descent is an optimization algorithm used to find the minimum or maximum value of a function. Here’s how it works, step by step:\n",
    "\n",
    "1. **Initialize**: Start with a random point on the function. This point is often chosen randomly or based on some heuristic.\n",
    "\n",
    "2. **Calculate the Gradient**: Compute the slope (or gradient) of the function at the current point. The gradient indicates the direction of the steepest ascent (or descent).\n",
    "\n",
    "3. **Update the Point**: Move the point in the opposite direction of the gradient. The amount you move is controlled by a parameter called the learning rate. This step ensures you move towards the minimum value of the function.\n",
    "\n",
    "4. **Repeat**: Repeat the process of calculating the gradient and updating the point until the change in the function value between iterations is very small (or for a set number of iterations). This indicates that you have reached the minimum value (or are very close to it).\n",
    "\n",
    "5. **Convergence**: The algorithm converges when the updates to the point are very small, indicating that the minimum value has been reached.\n",
    "\n",
    "In summary, Gradient Descent works by iteratively moving towards the minimum value of a function by following the direction of the steepest descent, as indicated by the gradient."
   ]
  },
  {
   "cell_type": "code",
   "execution_count": null,
   "id": "dbcc04be-2772-4c39-830a-93ec8b2ab809",
   "metadata": {},
   "outputs": [],
   "source": []
  },
  {
   "cell_type": "markdown",
   "id": "86675dec-c66a-4397-9f18-024b70a8e9bc",
   "metadata": {},
   "source": [
    "8. The following code compares the performance of Gradient Descent with a 0.1 learning rate against a naive trial-and-error method with a 0.1 increment. Run the following code and summarize your observations.\n",
    "\n",
    "```\n",
    "import numpy as np\n",
    "import time\n",
    "\n",
    "## Naive method\n",
    "t0 = time.time()\n",
    "\n",
    "candidates = np.linspace(0, 50, 501)\n",
    "answers = []\n",
    "for c in candidates:\n",
    "    answers.append(system(c))\n",
    "\n",
    "answers = np.array(answers)\n",
    "optimum_naive = candidates[answers == answers.min()]\n",
    "time_naive = time.time() - t0\n",
    "print(f'Optimum answer found by Naive Method is {optimum_naive} and it took {time_naive:.2f} seconds.')\n",
    "\n",
    "## Gradient Descent\n",
    "t0 = time.time()\n",
    "point = np.random.randint(50)\n",
    "\n",
    "for i in range(20):\n",
    "    slope, intercept, tangent_line_func = extract_tangent_line(system, point)\n",
    "    point = point - slope * 0.1\n",
    "\n",
    "optimum_gd = point\n",
    "time_gd = time.time() - t0\n",
    "print(f'Optimum answer found by Gradient Descent is {optimum_gd:.2f} and it took {time_gd:.2f} seconds.')\n",
    "```"
   ]
  },
  {
   "cell_type": "code",
   "execution_count": null,
   "id": "75d437c7-7e92-42a6-ade4-81d67e9648f8",
   "metadata": {},
   "outputs": [],
   "source": []
  },
  {
   "cell_type": "markdown",
   "id": "1afefae7-aa94-46ed-8e19-c5676ad20470",
   "metadata": {},
   "source": [
    "**Answer**:\n"
   ]
  },
  {
   "cell_type": "markdown",
   "id": "7d4b9181-9cb0-4787-8d8d-d2f2918b4589",
   "metadata": {},
   "source": [
    "9. Write a conclusion for yourself so you'd always know when using Gradient Descent is a better optimization tool."
   ]
  },
  {
   "cell_type": "markdown",
   "id": "680cd629-2078-4d0b-a019-03306fe40378",
   "metadata": {},
   "source": [
    "**Answer**:"
   ]
  },
  {
   "cell_type": "markdown",
   "id": "8a57c402-4ae1-4bb0-8735-dca54abcbe87",
   "metadata": {},
   "source": []
  }
 ],
 "metadata": {
  "kernelspec": {
   "display_name": "Python 3 (ipykernel)",
   "language": "python",
   "name": "python3"
  },
  "language_info": {
   "codemirror_mode": {
    "name": "ipython",
    "version": 3
   },
   "file_extension": ".py",
   "mimetype": "text/x-python",
   "name": "python",
   "nbconvert_exporter": "python",
   "pygments_lexer": "ipython3",
   "version": "3.12.4"
  }
 },
 "nbformat": 4,
 "nbformat_minor": 5
}
