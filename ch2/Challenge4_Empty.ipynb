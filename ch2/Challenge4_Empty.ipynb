{
 "cells": [
  {
   "cell_type": "markdown",
   "id": "e5f4cae0",
   "metadata": {},
   "source": [
    "# Optimizing the Python Code for Big Data \n",
    "Balancing Coding Complexity against Computational Complexity \n",
    "    \n",
    "    AUTHOR: Dr. Roy Jafari \n",
    "\n",
    "\n",
    "# Chapter 2: Choosing the right data types \n",
    "\n",
    "\n",
    "## Challenge 4: string or datetime?"
   ]
  },
  {
   "cell_type": "markdown",
   "id": "ed43ff8f",
   "metadata": {},
   "source": [
    "After going through this challenge you will be able to intelligibly choose between string and DateTime when both are possible and will be able to elucidate the reasons for your choice from experience.  \n",
    "Let us get started. Answer the following questions or complete the following steps.\n",
    "1.\tUsing pandas read the file *orders.csv*, and study the ensuing DataFrame. The following code gets this done."
   ]
  },
  {
   "cell_type": "markdown",
   "id": "fb5b9b71",
   "metadata": {},
   "source": [
    "```\n",
    "import pandas as pd\n",
    "order_df = pd.read_csv('orders.csv')\n",
    "print(order_df)\n",
    "```"
   ]
  },
  {
   "cell_type": "markdown",
   "id": "852bc4d7",
   "metadata": {},
   "source": [
    "2.\tRun the following code to figure out the data type of the column `date` in `order_df`. What is its data type?"
   ]
  },
  {
   "cell_type": "markdown",
   "id": "d8c9023a",
   "metadata": {},
   "source": [
    "```\n",
    "order_df.info()\n",
    "```"
   ]
  },
  {
   "cell_type": "markdown",
   "id": "fbff6aef",
   "metadata": {},
   "source": [
    "**Answer**: \n"
   ]
  },
  {
   "cell_type": "code",
   "execution_count": null,
   "id": "91b89cd8",
   "metadata": {},
   "outputs": [],
   "source": []
  },
  {
   "cell_type": "markdown",
   "id": "6e4c0b6f",
   "metadata": {},
   "source": [
    "3.\tThe following code first changes the title of the column date into `date_str`. After that, the code uses `pd.to_datetime()` to create the new column `date_dt` that contains the same information but its data type is *DateTime*. Run the following code and study its output, specifically note the *Dtype* of `date_str` and `date_dt`. "
   ]
  },
  {
   "cell_type": "markdown",
   "id": "04b9fce6",
   "metadata": {},
   "source": [
    "```\n",
    "order_df  = order_df.rename(columns = {'date': 'date_str'})\n",
    "order_df['date_dt'] = pd.to_datetime(order_df.date_str)\n",
    "order_df.info()\n",
    "```"
   ]
  },
  {
   "cell_type": "markdown",
   "id": "1c8f7c36",
   "metadata": {},
   "source": [
    "**Answer**: \n"
   ]
  },
  {
   "cell_type": "code",
   "execution_count": null,
   "id": "f51ccd00",
   "metadata": {},
   "outputs": [],
   "source": []
  },
  {
   "cell_type": "markdown",
   "id": "954aa522",
   "metadata": {},
   "source": [
    "4.\tThe following code will print out the exact number of bytes of memory that the columns `date_str` and `date_dt` use. Is there any difference in the amount of memory that the date information takes up when encoded using string or DateTime?"
   ]
  },
  {
   "cell_type": "markdown",
   "id": "fe5a8664",
   "metadata": {},
   "source": [
    "```\n",
    "order_df.memory_usage()\n",
    "```"
   ]
  },
  {
   "cell_type": "markdown",
   "id": "624b1fa1",
   "metadata": {},
   "source": [
    "**Answer**: "
   ]
  },
  {
   "cell_type": "code",
   "execution_count": null,
   "id": "39781e36",
   "metadata": {},
   "outputs": [],
   "source": []
  },
  {
   "cell_type": "markdown",
   "id": "12069448",
   "metadata": {},
   "source": [
    "5.\tThe following code draws a line plot of the column `quantity`. Run the code and investigate the ensuing plot. There is a logical error in the line plot. Investigate to see if you can figure it out."
   ]
  },
  {
   "cell_type": "markdown",
   "id": "cf095faf",
   "metadata": {},
   "source": [
    "```\n",
    "import matplotlib.pyplot as plt\n",
    "(order_df\n",
    " .set_index('date_dt')\n",
    " .quantity\n",
    " .plot())\n",
    "\n",
    "(order_df\n",
    " .set_index('date_dt')\n",
    " .rolling(window=10)\n",
    " .quantity.mean()\n",
    "\n",
    " .plot())\n",
    "\n",
    "plt.xticks(rotation=90)\n",
    "plt.show()\n",
    "```"
   ]
  },
  {
   "cell_type": "markdown",
   "id": "cd56c11b",
   "metadata": {},
   "source": [
    "**Answer**: "
   ]
  },
  {
   "cell_type": "code",
   "execution_count": null,
   "id": "26058612",
   "metadata": {},
   "outputs": [],
   "source": []
  },
  {
   "cell_type": "markdown",
   "id": "cdf83833",
   "metadata": {},
   "source": [
    "6.\tRunning the following code will give you a hint to be able to answer the previous question. Carefully read the dates and their consecutive orders. Do you see anything out of ordinary? What do you think is causing the problem?"
   ]
  },
  {
   "cell_type": "markdown",
   "id": "630492ee",
   "metadata": {},
   "source": [
    "```\n",
    "print(order_df[:20])\n",
    "print(order_df[-20:])\n",
    "```"
   ]
  },
  {
   "cell_type": "markdown",
   "id": "668db292",
   "metadata": {},
   "source": [
    "**Answer**: \n"
   ]
  },
  {
   "cell_type": "code",
   "execution_count": null,
   "id": "aa9dcc5d",
   "metadata": {},
   "outputs": [],
   "source": []
  },
  {
   "cell_type": "markdown",
   "id": "f7d45b19",
   "metadata": {},
   "source": [
    "7.\tThe problem is that there are some dates whose value of quantity must have been zero, and because of that those dates are not included in `order_df`. To fix our analysis we need to add those rows to `order_df`. In this step, we will be fixing the problem using date_str. In the next step, we will do the same thing using `date_dt`. In the step after that, we will compare the two approaches.\n",
    "\n",
    "This is going to be a long step with multiple sub-steps.\n",
    "\n",
    "First, we get a copy of `order_df` and only keep `date_str` and `quantity` as columns. The name of the new DataFrame will be `order_str_df`. Run the following code to get this done."
   ]
  },
  {
   "cell_type": "markdown",
   "id": "2b308597",
   "metadata": {},
   "source": [
    "```\n",
    "order_str_df = order_df.reset_index()[['date_str','quantity']].copy()\n",
    "print(order_str_df)\n",
    "```"
   ]
  },
  {
   "cell_type": "markdown",
   "id": "480bb1f1",
   "metadata": {},
   "source": [
    "Next, we will create the function `get_next_date()` that given any date will output its next date. The reason that we need such a function is that our calendar does not follow a completely uniform pattern and the number of days in each month is different. This has been captured in the following code using the dictionary `end_months`. The function `get_next_date()` leverages `end_months` to work. Run the following code to generate this function. \n"
   ]
  },
  {
   "cell_type": "markdown",
   "id": "e18ef321",
   "metadata": {},
   "source": [
    "```\n",
    "end_months = {'01':31, '02':28, '03':31,\n",
    "              '04':30, '05':31, '06':30,\n",
    "              '07':31, '08':31, '09':30,\n",
    "              '10':31, '11':30, '12':31}\n",
    "\n",
    "def get_next_date(date):\n",
    "    \n",
    "    (year,month,day) = date.split('-')\n",
    "    max_day = end_months[month]\n",
    "    \n",
    "    if max_day > int(day):\n",
    "        new_date = f'0{int(day)+1}'[-2:]\n",
    "        return f'{year}-{month}-{new_date}'\n",
    "    else:\n",
    "        if int(month) < 12:\n",
    "            new_month = f'0{int(month)+1}'[-2:]\n",
    "            return f'{year}-{new_month}-01'\n",
    "        else:\n",
    "            return f'{int(year)+1}-01-01'\n",
    "    if max_day > int(day):\n",
    "        new_date = f'0{int(day)+1}'[-2:]\n",
    "        return f'{year}-{month}-{new_date}'\n",
    "    else:\n",
    "        if int(month) < 12:\n",
    "            new_month = f'0{int(month)+1}'[-2:]\n",
    "            return f'{year}-{new_month}-01'\n",
    "        else:\n",
    "            return f'{int(year)+1}-01-01'\n",
    "```"
   ]
  },
  {
   "cell_type": "markdown",
   "id": "3b5b98ed",
   "metadata": {},
   "source": [
    "After creating the function, give it a try by running it for a few dates, for instance, run `get_next_date('2022-12-31')`."
   ]
  },
  {
   "cell_type": "markdown",
   "id": "948bf047",
   "metadata": {},
   "source": [
    "```\n",
    "get_next_date('2022-12-31')\n",
    "```"
   ]
  },
  {
   "cell_type": "markdown",
   "id": "a77de0f1",
   "metadata": {},
   "source": [
    "Next, we define another function; the function `dates_between()` is created to output the dates that are between two given dates. This function takes in two dates and outputs the dates of the days between the two input dates. The function `dates_between()` leverages the function `get_next_date()` to work. Run the following code that defines the function `dates_between()`.\n"
   ]
  },
  {
   "cell_type": "markdown",
   "id": "4a352a5e",
   "metadata": {},
   "source": [
    "```\n",
    "def dates_between(date1,date2):\n",
    "    if(date1==date2):\n",
    "        return None\n",
    "    else:\n",
    "        output = []\n",
    "        next_date = date1\n",
    "        while get_next_date(next_date) != date2:\n",
    "            next_date = get_next_date(next_date)\n",
    "            output.append(next_date)\n",
    "        return output\n",
    "```"
   ]
  },
  {
   "cell_type": "markdown",
   "id": "4b0d60e9",
   "metadata": {},
   "source": [
    "After creating the function, give it a try by running it for a few couples of dates, for instance, run `dates_between('2022-10-31','2022-11-05')`.\n"
   ]
  },
  {
   "cell_type": "markdown",
   "id": "a153eb24",
   "metadata": {},
   "source": [
    "```\n",
    "dates_between('2022-10-31','2022-11-05')\n",
    "```"
   ]
  },
  {
   "cell_type": "markdown",
   "id": "bc35971e",
   "metadata": {},
   "source": [
    "Now that we are armed with `dates_between()` function, we can run the following code that will identify the dates that are missing in `order_str_df`."
   ]
  },
  {
   "cell_type": "markdown",
   "id": "087f56bc",
   "metadata": {},
   "source": [
    "```\n",
    "missing_dates = []\n",
    "for i,row in order_str_df.iterrows():\n",
    "    if i== 0:\n",
    "        continue\n",
    "    p_date = order_str_df.loc[i-1,'date_str']\n",
    "    the_date = row.date_str\n",
    "    missing_dates.extend(dates_between(p_date,the_date))\n",
    "print(missing_dates)\n",
    "```"
   ]
  },
  {
   "cell_type": "markdown",
   "id": "3bbe56c1",
   "metadata": {},
   "source": [
    "Next, we will use the list `missing_dates` to add the missing dates to `order_str_df`. The following code gets this done.\n"
   ]
  },
  {
   "cell_type": "markdown",
   "id": "7233217d",
   "metadata": {},
   "source": [
    "```\n",
    "my_index = pd.Series(missing_dates,name='date_str')\n",
    "to_be_adde_df = pd.DataFrame(\n",
    "    0.0,\n",
    "    index=my_index,\n",
    "    columns = ['quantity'])\n",
    "order_str_df = pd.concat(\n",
    "        [order_str_df,\n",
    "         to_be_adde_df.reset_index()]\n",
    ")\n",
    "order_str_df = (order_str_df\n",
    "    .sort_values('date_str')\n",
    "    .reset_index(drop=True)\n",
    ")\n",
    "print(order_str_df)\n",
    "```"
   ]
  },
  {
   "cell_type": "markdown",
   "id": "bd30047c",
   "metadata": {},
   "source": [
    "After running the preceding code, `order_str_df` will not have the missing-dates issue of `order_df`. You can check this by running the following code and studying its output."
   ]
  },
  {
   "cell_type": "markdown",
   "id": "0cb004ab",
   "metadata": {},
   "source": [
    "```\n",
    "print(order_str_df[:20])\n",
    "print(order_str_df[-20:])\n",
    "```"
   ]
  },
  {
   "cell_type": "markdown",
   "id": "e0c6d8c9",
   "metadata": {},
   "source": [
    "Lastly, we can use `order_str_df` to create the correct version of the plot that we drew under step 5. Run the following code and compare the ensuing plots with the plot from step 5."
   ]
  },
  {
   "cell_type": "markdown",
   "id": "1270e8d3",
   "metadata": {},
   "source": [
    "```\n",
    "(order_str_df\n",
    " .set_index('date_str')\n",
    " .quantity.plot()\n",
    ")\n",
    "(order_str_df\n",
    " .set_index('date_str')\n",
    " .rolling(window=10)\n",
    " .quantity.mean()\n",
    " .plot()\n",
    ")\n",
    "plt.xticks(rotation=90)\n",
    "plt.show()\n",
    "```"
   ]
  },
  {
   "cell_type": "markdown",
   "id": "d3b25d98",
   "metadata": {},
   "source": [
    "After running all of the codes, write out the tasks that we had to perform to remedy the issue we found in step 5."
   ]
  },
  {
   "cell_type": "markdown",
   "id": "777aba54",
   "metadata": {},
   "source": [
    "**Answer**: \n"
   ]
  },
  {
   "cell_type": "code",
   "execution_count": null,
   "id": "5234a000",
   "metadata": {},
   "outputs": [],
   "source": []
  },
  {
   "cell_type": "markdown",
   "id": "9700266f",
   "metadata": {},
   "source": [
    "8.\tIn this step, we will redo what we did in step 7; we will remedy the issue we found in step 5; however, we will do it this time using `date_dt`. In other words, instead of working with string to manipulate dates, we will use the data type DateTime. This is going to be another long step with multiple sub-steps.vFirst, we get a copy of `order_df` and only keep `date_dt` and `quantity` as columns. The name of the new DataFrame will be `order_dt_df`. Run the following code to get this done."
   ]
  },
  {
   "cell_type": "markdown",
   "id": "7b38373b",
   "metadata": {},
   "source": [
    "```\n",
    "order_dt_df = order_df.reset_index()[['date_dt','quantity']].copy()\n",
    "print(order_dt_df)\n",
    "```"
   ]
  },
  {
   "cell_type": "markdown",
   "id": "f3ba1c9a",
   "metadata": {},
   "source": [
    "Next, we will find the first and last date we see on `order_dt_df`. The following code gets this done."
   ]
  },
  {
   "cell_type": "markdown",
   "id": "4ebb49de",
   "metadata": {},
   "source": [
    "```\n",
    "first_date = order_dt_df.date_dt.min()\n",
    "last_date = order_dt_df.date_dt.max()\n",
    "print(first_date,last_date)\n",
    "```"
   ]
  },
  {
   "cell_type": "markdown",
   "id": "59f79c3a",
   "metadata": {},
   "source": [
    "Next, we will find the number of days between the `first_date` and `last_date`. The following code gets this done."
   ]
  },
  {
   "cell_type": "markdown",
   "id": "4b3d9dfb",
   "metadata": {},
   "source": [
    "```\n",
    "n_days = (last_date - first_date).days\n",
    "print(n_days)\n",
    "```"
   ]
  },
  {
   "cell_type": "markdown",
   "id": "8a188810",
   "metadata": {},
   "source": [
    "Next, we will create a list of all the dates between `first_date` and `last_date`. The following code takes advantage of the function `datetime.time_delta()` to easily get this done."
   ]
  },
  {
   "cell_type": "markdown",
   "id": "739ef719",
   "metadata": {},
   "source": [
    "```\n",
    "import datetime\n",
    "all_dates = [\n",
    "    first_date + datetime.timedelta(days=i) for i in range(n_days+1)\n",
    "]\n",
    "print(all_dates)\n",
    "```"
   ]
  },
  {
   "cell_type": "markdown",
   "id": "dbbbe2b5",
   "metadata": {},
   "source": [
    "Next, we will create `stage_df` which is a DataFrame with a row for all the dates in `all_dates`, and the column `quantity` with the value of zero."
   ]
  },
  {
   "cell_type": "markdown",
   "id": "2ec13b2f",
   "metadata": {},
   "source": [
    "```\n",
    "stage_df = pd.DataFrame(0.0,\n",
    "                        index = all_dates,\n",
    "                        columns =['quantity'])\n",
    "print(stage_df)\n",
    "```"
   ]
  },
  {
   "cell_type": "markdown",
   "id": "9741cb18",
   "metadata": {},
   "source": [
    "Next, we will use the `.update()` function which is a property of each pandas DataFrame to update `stage_df` using `order_dt_df`. Once `stage_df` is updated, we no longer need the old `order_dt_df`, so we equate `stage_df` to `order_dt_df`. \n"
   ]
  },
  {
   "cell_type": "markdown",
   "id": "d239b605",
   "metadata": {},
   "source": [
    "```\n",
    "stage_df.update(order_dt_df.set_index('date_dt'))\n",
    "order_dt_df = stage_df\n",
    "print(order_dt_df)\n",
    "```"
   ]
  },
  {
   "cell_type": "markdown",
   "id": "056248c8",
   "metadata": {},
   "source": [
    "After running the preceding code, `order_dt_df` will not have the missing-dates issue of `order_df`. You can check this by running the following code and studying its output."
   ]
  },
  {
   "cell_type": "markdown",
   "id": "a0ae2cea",
   "metadata": {},
   "source": [
    "```\n",
    "print(order_dt_df[:20])\n",
    "print(order_dt_df[-20:])\n",
    "```"
   ]
  },
  {
   "cell_type": "markdown",
   "id": "28efd09e",
   "metadata": {},
   "source": [
    "Lastly, we can use `order_dt_df` to create the correct version of the plot that we drew under step 5. Run the following code and compare the ensuing plot with the plot from step 5."
   ]
  },
  {
   "cell_type": "markdown",
   "id": "862d68a1",
   "metadata": {},
   "source": [
    "```\n",
    "order_dt_df.quantity.plot()\n",
    "(order_dt_df\n",
    " .rolling(window=10)\n",
    " .quantity.mean()\n",
    " .plot()\n",
    ")\n",
    "plt.xticks(rotation=90)\n",
    "plt.show()\n",
    "```"
   ]
  },
  {
   "cell_type": "markdown",
   "id": "44ff7d8b",
   "metadata": {},
   "source": [
    "After running all of the codes, write out the tasks that we had to perform to remedy the issue we found in step 5."
   ]
  },
  {
   "cell_type": "markdown",
   "id": "a90203a2",
   "metadata": {},
   "source": [
    "**Answer**: \n"
   ]
  },
  {
   "cell_type": "code",
   "execution_count": null,
   "id": "47a25559",
   "metadata": {},
   "outputs": [],
   "source": []
  },
  {
   "cell_type": "markdown",
   "id": "91bcb28d",
   "metadata": {},
   "source": [
    "9.\tThe plots that we created under steps 7 and 8 are both correct, but there is a difference between them. Compare them to find the difference. Which one is better? What’s causing the serendipitous improvement? "
   ]
  },
  {
   "cell_type": "markdown",
   "id": "b1afc5bb",
   "metadata": {},
   "source": [
    "**Answer**: \n"
   ]
  },
  {
   "cell_type": "code",
   "execution_count": null,
   "id": "cc4bc643",
   "metadata": {},
   "outputs": [],
   "source": []
  },
  {
   "cell_type": "markdown",
   "id": "2183f549",
   "metadata": {},
   "source": [
    "10.\tCompare what we did in steps 7 and steps 8. In both steps, we were trying to remedy the missing-dates issue in `order_df`. In step 7, the date information was encoded in the data type string, and in step 8, they were encoded in DateTime. In which of the two steps did we have to create new functions? Which of the two steps would have been easier to develop in a real project?"
   ]
  },
  {
   "cell_type": "markdown",
   "id": "c08f4ba8",
   "metadata": {},
   "source": [
    "**Answer**:\n",
    "- **In which of the two steps did we have to create new functions?**: \n",
    "\n",
    "- **Which of the two steps would have been easier to develop in a real project?**: \n"
   ]
  },
  {
   "cell_type": "code",
   "execution_count": null,
   "id": "dace01f3",
   "metadata": {},
   "outputs": [],
   "source": []
  },
  {
   "cell_type": "markdown",
   "id": "ddae8b38",
   "metadata": {},
   "source": [
    "11.\tAs an option to encode and manipulate date information compare string and DateTime using the following criterion: 1) RAM space, 2) CPU Performance, 3) run time, 4) coding time.  "
   ]
  },
  {
   "cell_type": "markdown",
   "id": "17731d5d",
   "metadata": {},
   "source": [
    "**Answer**: \n",
    "\n"
   ]
  },
  {
   "cell_type": "code",
   "execution_count": null,
   "id": "4ba887a9",
   "metadata": {},
   "outputs": [],
   "source": []
  }
 ],
 "metadata": {
  "kernelspec": {
   "display_name": "Python 3 (ipykernel)",
   "language": "python",
   "name": "python3"
  },
  "language_info": {
   "codemirror_mode": {
    "name": "ipython",
    "version": 3
   },
   "file_extension": ".py",
   "mimetype": "text/x-python",
   "name": "python",
   "nbconvert_exporter": "python",
   "pygments_lexer": "ipython3",
   "version": "3.9.13"
  }
 },
 "nbformat": 4,
 "nbformat_minor": 5
}
