{
 "cells": [
  {
   "cell_type": "markdown",
   "id": "7c5d5d22",
   "metadata": {},
   "source": [
    "# Optimizing the Python Code for Big Data \n",
    "Balancing Coding Complexity against Computational Complexity \n",
    "    \n",
    "    AUTHOR: Dr. Roy Jafari \n",
    "\n",
    "\n",
    "# Chapter 2: Choosing the right data types "
   ]
  },
  {
   "cell_type": "markdown",
   "id": "c9e7ba9d",
   "metadata": {},
   "source": [
    "## Challenge 1: String or Categories? "
   ]
  },
  {
   "cell_type": "markdown",
   "id": "7faebecd",
   "metadata": {},
   "source": [
    "At the end of this challenge, we will have gained experience on when and where we should use a category instead of a string, or vice versa. Furthermore, during this challenge, you will get to understand the difference between ordinal categories and non-ordinal ones.\n",
    "\n",
    "Use the following prompts to complete this challenge.\n",
    "\n",
    "1.\tUse the following code to create the pandas DataFrame `df_string`, and study the printout of `df_string.info()`. Note the Dtyoe of the column performance, and also note how much space `df_string` takes up. "
   ]
  },
  {
   "cell_type": "markdown",
   "id": "5da1f4e6",
   "metadata": {},
   "source": [
    "```\n",
    "import pandas as pd\n",
    "import numpy as np\n",
    "df_string = pd.DataFrame(\n",
    "    np.random.choice(\n",
    "    ['Underperforming', 'Meets Expectations', \n",
    "     'Exceeds Expectations'],\n",
    "    10**6),\n",
    "    columns = ['Performance']\n",
    ")\n",
    "df_string.info()\n",
    "```"
   ]
  },
  {
   "cell_type": "markdown",
   "id": "769e8c74",
   "metadata": {},
   "source": [
    "**Answer**:"
   ]
  },
  {
   "cell_type": "code",
   "execution_count": null,
   "id": "cd9baebe",
   "metadata": {},
   "outputs": [],
   "source": []
  },
  {
   "cell_type": "markdown",
   "id": "f5313501",
   "metadata": {},
   "source": [
    "2.\tUse the following code to create the pandas DataFrame `df_category`, and study the printout of `df_category.info()`. Note the Dtyoe of the column performance, and also note how much space `df_category` takes up. "
   ]
  },
  {
   "cell_type": "markdown",
   "id": "a2656d67",
   "metadata": {},
   "source": [
    "```\n",
    "df_category = pd.DataFrame(\n",
    "    np.random.choice(\n",
    "    ['Underperforming', 'Meets Expectations', \n",
    "     'Exceeds Expectations'],\n",
    "    10**6),\n",
    "    columns = ['Performance'],\n",
    "    dtype='category'\n",
    ")\n",
    "df_category.info()\n",
    "```"
   ]
  },
  {
   "cell_type": "markdown",
   "id": "84d49def",
   "metadata": {},
   "source": [
    "**Answer**: \n"
   ]
  },
  {
   "cell_type": "code",
   "execution_count": null,
   "id": "8fd983c2",
   "metadata": {},
   "outputs": [],
   "source": []
  },
  {
   "cell_type": "markdown",
   "id": "b199c820",
   "metadata": {},
   "source": [
    "3.\tWhat is the difference between the Dtype of `df_category` and `df_string`? Weren’t you expecting to see a string for `df_string`? What’s happening? Google to find an answer. \n",
    "\n",
    "**Answer**:"
   ]
  },
  {
   "cell_type": "code",
   "execution_count": null,
   "id": "f09031ce",
   "metadata": {},
   "outputs": [],
   "source": []
  },
  {
   "cell_type": "markdown",
   "id": "d6b542ee",
   "metadata": {},
   "source": [
    "4.\tWhat is the difference between the memory sizes that `df_category` and `df_string` use? Which one uses significantly more, and how can you explain the big difference between the two DataFrame while they are essentially containing the same data?\n",
    "\n",
    "**Answer**:\n"
   ]
  },
  {
   "cell_type": "code",
   "execution_count": null,
   "id": "925c3e99",
   "metadata": {},
   "outputs": [],
   "source": []
  },
  {
   "cell_type": "markdown",
   "id": "5639842a",
   "metadata": {},
   "source": [
    "5.\tRun the following code, and note how long it takes for your computer to perform a common analytic data manipulation – grouping by – for both `df_category` and `df_string`. Redo the run a few times to make sure you are seeing a pattern and not a noise."
   ]
  },
  {
   "cell_type": "markdown",
   "id": "d173b6a2",
   "metadata": {},
   "source": [
    "```\n",
    "import time\n",
    "t0 = time.time()\n",
    "df_string.groupby('Performance').size()\n",
    "print(f'''groupby time for df_string: {\n",
    "        time.time()-t0:.4f}s''')\n",
    "\n",
    "t0 = time.time()\n",
    "df_category.groupby('Performance').size()\n",
    "print(f'''groupby time for df_category: {\n",
    "        time.time()-t0:.4f}s''')\n",
    "```"
   ]
  },
  {
   "cell_type": "markdown",
   "id": "7bb2354f",
   "metadata": {},
   "source": [
    "**Answer**:"
   ]
  },
  {
   "cell_type": "code",
   "execution_count": null,
   "id": "6f8b2faf",
   "metadata": {},
   "outputs": [],
   "source": []
  },
  {
   "cell_type": "markdown",
   "id": "69709fb9",
   "metadata": {},
   "source": [
    "6.\tIs there a significant difference between the run time for `df_category` and `df_string`. If yes, what do you think is the reason for the significant difference? *Hint: when there is more computational complexity the reason is that the CPU has to work harder, and the question is to find the reason why the CPU has to work harder.* \n",
    "\n",
    "**Answer**: "
   ]
  },
  {
   "cell_type": "code",
   "execution_count": null,
   "id": "6278871d",
   "metadata": {},
   "outputs": [],
   "source": []
  },
  {
   "cell_type": "markdown",
   "id": "a35da755",
   "metadata": {},
   "source": [
    "7.\tStudy the following code. It attempts to filter `df_string`, using a boolean mask `BM`. Run the following code, and study its output. Does the code make logical sense? Does the output make logical sense?"
   ]
  },
  {
   "cell_type": "markdown",
   "id": "a40c6cb8",
   "metadata": {},
   "source": [
    "```\n",
    "BM = df_string.Performance >= 'Meets Expectations'\n",
    "print(df_string[BM].value_counts())\n",
    "```"
   ]
  },
  {
   "cell_type": "markdown",
   "id": "a4211669",
   "metadata": {},
   "source": [
    "**Answer**:  "
   ]
  },
  {
   "cell_type": "code",
   "execution_count": null,
   "id": "f1e33038",
   "metadata": {},
   "outputs": [],
   "source": []
  },
  {
   "cell_type": "markdown",
   "id": "7b014d92",
   "metadata": {},
   "source": [
    "8.\tThe following code tries to do the same filtering as done in the previous step, this time for `df_category`, but it returns an error. Run the code, study the error and figure out why the error happens. "
   ]
  },
  {
   "cell_type": "markdown",
   "id": "25fb6852",
   "metadata": {},
   "source": [
    "```\n",
    "BM = df_category.Performance >= 'Meets Expectations'\n",
    "print(df_category[BM].value_counts())\n",
    "```"
   ]
  },
  {
   "cell_type": "markdown",
   "id": "e74ce735",
   "metadata": {},
   "source": [
    "**Answer**: \n"
   ]
  },
  {
   "cell_type": "code",
   "execution_count": null,
   "id": "c8d03cbc",
   "metadata": {},
   "outputs": [],
   "source": []
  },
  {
   "cell_type": "markdown",
   "id": "0518bc36",
   "metadata": {},
   "source": [
    "9.\tThe error message from the previous step is *‘Unordered Categoricals can only compare equality or not’* The following code creates an ordered categorical attribute in pandas DataFrame, study, and then run the code."
   ]
  },
  {
   "cell_type": "markdown",
   "id": "e141cac5",
   "metadata": {},
   "source": [
    "```\n",
    "from pandas.api.types import CategoricalDtype\n",
    "categories = ['Underperforming', 'Meets Expectations',\n",
    "              'Exceeds Expectations']\n",
    "\n",
    "cat_type = CategoricalDtype(\n",
    "    categories=categories, ordered=True)\n",
    "\n",
    "df_o_category = pd.DataFrame(\n",
    "    np.random.choice(categories,10**6),\n",
    "    columns = ['Performance'],\n",
    "    dtype= cat_type\n",
    ")\n",
    "df_o_category.info()\n",
    "```"
   ]
  },
  {
   "cell_type": "markdown",
   "id": "d4424858",
   "metadata": {},
   "source": [
    "**Answer**:"
   ]
  },
  {
   "cell_type": "code",
   "execution_count": null,
   "id": "9cc5c536",
   "metadata": {},
   "outputs": [],
   "source": []
  },
  {
   "cell_type": "markdown",
   "id": "84ab9bd3",
   "metadata": {},
   "source": [
    "10.\tCompare the printout of `df_o_category.info()` from the preceding code, and that of `df_category.info()` from step 2. Is there any difference between the two?\n",
    "\n",
    "**Answer**: "
   ]
  },
  {
   "cell_type": "code",
   "execution_count": null,
   "id": "66107781",
   "metadata": {},
   "outputs": [],
   "source": []
  },
  {
   "cell_type": "markdown",
   "id": "bd00cd21",
   "metadata": {},
   "source": [
    "11.\tThe following code is the same as in step 8 but updated for `df_o_category` Run the following code and study its output. Does the code make logical sense? Does the output make logical sense?"
   ]
  },
  {
   "cell_type": "markdown",
   "id": "4edec9dd",
   "metadata": {},
   "source": [
    "```\n",
    "BM = df_o_category.Performance >= 'Meets Expectations'\n",
    "print(df_o_category[BM].value_counts())\n",
    "```"
   ]
  },
  {
   "cell_type": "markdown",
   "id": "c0d60168",
   "metadata": {},
   "source": [
    "**Answer**: "
   ]
  },
  {
   "cell_type": "code",
   "execution_count": null,
   "id": "3a4e183d",
   "metadata": {},
   "outputs": [],
   "source": []
  },
  {
   "cell_type": "markdown",
   "id": "21061926",
   "metadata": {},
   "source": [
    "12.\tFrom your experiences in steps 2 and 9, and also steps 8 and 11, in your own words explain the difference between pandas' unordered categorical Dtyoe and ordered categorical Dtype. What are the advantages and disadvantages of each? \n",
    "\n",
    "**Answer**:"
   ]
  },
  {
   "cell_type": "code",
   "execution_count": null,
   "id": "69c4e561",
   "metadata": {},
   "outputs": [],
   "source": []
  },
  {
   "cell_type": "markdown",
   "id": "f4d9371e",
   "metadata": {},
   "source": [
    "13.\tThe three datatypes that we worked with in this challenge are string, pandas unordered categorical and pandas ordered categorical. From your experience with this challenge, provide at least two situations for each that the data type is best to be used.\n",
    "\n",
    "**Answers**:\n",
    "\n"
   ]
  },
  {
   "cell_type": "code",
   "execution_count": null,
   "id": "329f9930",
   "metadata": {},
   "outputs": [],
   "source": []
  }
 ],
 "metadata": {
  "kernelspec": {
   "display_name": "Python 3 (ipykernel)",
   "language": "python",
   "name": "python3"
  },
  "language_info": {
   "codemirror_mode": {
    "name": "ipython",
    "version": 3
   },
   "file_extension": ".py",
   "mimetype": "text/x-python",
   "name": "python",
   "nbconvert_exporter": "python",
   "pygments_lexer": "ipython3",
   "version": "3.9.13"
  }
 },
 "nbformat": 4,
 "nbformat_minor": 5
}
