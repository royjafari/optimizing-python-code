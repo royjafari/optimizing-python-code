{
 "cells": [
  {
   "cell_type": "markdown",
   "id": "7c5d5d22",
   "metadata": {},
   "source": [
    "# Optimizing the Python Code for Big Data \n",
    "Balancing Coding Complexity against Computational Complexity \n",
    "    \n",
    "    AUTHOR: Dr. Roy Jafari \n",
    "\n",
    "\n",
    "# Chapter 2: Choosing the right data types "
   ]
  },
  {
   "cell_type": "markdown",
   "id": "c9e7ba9d",
   "metadata": {},
   "source": [
    "## Challenge 1: String or Categories? "
   ]
  },
  {
   "cell_type": "markdown",
   "id": "7faebecd",
   "metadata": {},
   "source": [
    "At the end of this challenge, we will have gained experience on when and where we should use a category instead of a string, or vice versa. Furthermore, during this challenge, you will get to understand the difference between ordinal categories and non-ordinal ones.\n",
    "\n",
    "Use the following prompts to complete this challenge.\n",
    "\n",
    "1.\tUse the following code to create the pandas DataFrame `df_string`, and study the printout of `df_string.info()`. Note the Dtyoe of the column performance, and also note how much space `df_string` takes up. "
   ]
  },
  {
   "cell_type": "code",
   "execution_count": 1,
   "id": "d1e951ce",
   "metadata": {},
   "outputs": [
    {
     "name": "stdout",
     "output_type": "stream",
     "text": [
      "<class 'pandas.core.frame.DataFrame'>\n",
      "RangeIndex: 1000000 entries, 0 to 999999\n",
      "Data columns (total 1 columns):\n",
      " #   Column       Non-Null Count    Dtype \n",
      "---  ------       --------------    ----- \n",
      " 0   Performance  1000000 non-null  object\n",
      "dtypes: object(1)\n",
      "memory usage: 7.6+ MB\n"
     ]
    }
   ],
   "source": [
    "import pandas as pd\n",
    "import numpy as np\n",
    "df_string = pd.DataFrame(\n",
    "    np.random.choice(\n",
    "    ['Underperforming', 'Meets Expectations', \n",
    "     'Exceeds Expectations'],\n",
    "    10**6),\n",
    "    columns = ['Performance']\n",
    ")\n",
    "df_string.info()"
   ]
  },
  {
   "cell_type": "markdown",
   "id": "769e8c74",
   "metadata": {},
   "source": [
    "**Answer**: Dtype of the column Performance is listed as object. \n",
    "\n",
    "The DataFrame `df_string` uses more than 7.6 MB which is more than 7600 KB."
   ]
  },
  {
   "cell_type": "markdown",
   "id": "f5313501",
   "metadata": {},
   "source": [
    "2.\tUse the following code to create the pandas DataFrame `df_category`, and study the printout of `df_category.info()`. Note the Dtyoe of the column performance, and also note how much space `df_category` takes up. "
   ]
  },
  {
   "cell_type": "code",
   "execution_count": 2,
   "id": "2c4b3943",
   "metadata": {},
   "outputs": [
    {
     "name": "stdout",
     "output_type": "stream",
     "text": [
      "<class 'pandas.core.frame.DataFrame'>\n",
      "RangeIndex: 1000000 entries, 0 to 999999\n",
      "Data columns (total 1 columns):\n",
      " #   Column       Non-Null Count    Dtype   \n",
      "---  ------       --------------    -----   \n",
      " 0   Performance  1000000 non-null  category\n",
      "dtypes: category(1)\n",
      "memory usage: 976.8 KB\n"
     ]
    }
   ],
   "source": [
    "df_category = pd.DataFrame(\n",
    "    np.random.choice(\n",
    "    ['Underperforming', 'Meets Expectations', \n",
    "     'Exceeds Expectations'],\n",
    "    10**6),\n",
    "    columns = ['Performance'],\n",
    "    dtype='category'\n",
    ")\n",
    "df_category.info()"
   ]
  },
  {
   "cell_type": "markdown",
   "id": "84d49def",
   "metadata": {},
   "source": [
    "**Answer**: Dtype of the column Performance is listed as category. \n",
    "\n",
    "The DataFrame `df_colum` uses 976.8 KB."
   ]
  },
  {
   "cell_type": "markdown",
   "id": "b199c820",
   "metadata": {},
   "source": [
    "3.\tWhat is the difference between the Dtype of `df_category` and `df_string`? Weren’t you expecting to see a string for `df_string`? What’s happening? Google to find an answer. \n",
    "\n",
    "**answer**:\n",
    "Yes. While `df_category`'s datatype is category, `df_string`'s datatype is listed as object.\n",
    "\n",
    "One would expect to see string to be listed for `df_string`, however, object is listed. After Googling **pandas distinction between str and object types** we will realize that object is a general name pandas uses for any datatype that is not defined by itself or by numpy. For string pandas uses the python string objects and that's why it is listed as object, otherwise, it is just string.\n"
   ]
  },
  {
   "cell_type": "markdown",
   "id": "d6b542ee",
   "metadata": {},
   "source": [
    "4.\tWhat is the difference between the memory sizes that `df_category` and `df_string` use? Which one uses significantly more, and how can you explain the big difference between the two DataFrame while they are essentially containing the same data?\n",
    "\n",
    "**Answer**:\n",
    "There is a significant difference. `df_string` uses more than 7600 KB and `df_category` uses 976.8 KB. In other words, `df_string` uses 7 to 8 times (7600 / 976.8) more than `df_category`. \n",
    "\n",
    "The reason is due to the way the data is being encoded. For encoding all of the performance records, one million values, as string, the CPU must allocate at least 20*4 bytes of RAM for each value. While to encode the same data as category, pandas will only need 3*20*4 bytes for the categories, then need one million int8 (one byte) to refer to one of these three categories."
   ]
  },
  {
   "cell_type": "markdown",
   "id": "5639842a",
   "metadata": {},
   "source": [
    "5.\tRun the following code, and note how long it takes for your computer to perform a common analytic data manipulation – grouping by – for both `df_category` and `df_string`. Redo the run a few times to make sure you are seeing a pattern and not a noise."
   ]
  },
  {
   "cell_type": "code",
   "execution_count": 3,
   "id": "2cbb2b0c",
   "metadata": {},
   "outputs": [
    {
     "name": "stdout",
     "output_type": "stream",
     "text": [
      "groupby time for df_string: 0.2508s\n",
      "groupby time for df_category: 0.0166s\n"
     ]
    }
   ],
   "source": [
    "import time\n",
    "t0 = time.time()\n",
    "df_string.groupby('Performance').size()\n",
    "print(f'''groupby time for df_string: {\n",
    "        time.time()-t0:.4f}s''')\n",
    "\n",
    "t0 = time.time()\n",
    "df_category.groupby('Performance').size()\n",
    "print(f'''groupby time for df_category: {\n",
    "        time.time()-t0:.4f}s''')"
   ]
  },
  {
   "cell_type": "markdown",
   "id": "69709fb9",
   "metadata": {},
   "source": [
    "6.\tIs there a significant difference between the run time for `df_category` and `df_string`. If yes, what do you think is the reason for the significant difference? *Hint: when there is more computational complexity the reason is that the CPU has to work harder, and the question is to find the reason why the CPU has to work harder.* \n",
    "\n",
    "**Answer**: Yes, there is a significant difference. The same code runs about 10 times faster for `df_category`.  \n",
    "\n",
    "At the core of what needs to be done for grouping by the rows is to compare the values of the performance. When doing this for `df_string` CPU must compare two larger items every time as each string take ups 20*4 bytes, while when doing this for `df_category` the comparison must be done for smaller items as each int8 takes up only 1 byte.  "
   ]
  },
  {
   "cell_type": "markdown",
   "id": "a35da755",
   "metadata": {},
   "source": [
    "7.\tStudy the following code. It attempts to filter `df_string`, using a boolean mask `BM`. Run the following code, and study its output. Does the code make logical sense? Does the output make logical sense?"
   ]
  },
  {
   "cell_type": "code",
   "execution_count": 4,
   "id": "1ed14a22",
   "metadata": {},
   "outputs": [
    {
     "name": "stdout",
     "output_type": "stream",
     "text": [
      "Performance       \n",
      "Underperforming       333747\n",
      "Meets Expectations    332532\n",
      "dtype: int64\n"
     ]
    }
   ],
   "source": [
    "BM = df_string.Performance >= 'Meets Expectations'\n",
    "print(df_string[BM].value_counts())"
   ]
  },
  {
   "cell_type": "markdown",
   "id": "a4211669",
   "metadata": {},
   "source": [
    "**Answer**:  The code may not make logical sense; it depends on what we wanted to get done. What does it mean for two different strings to be larger than one another? For python, it means what characters come first in regard to an agreed-on alphabetical order. For instance, if we run `'B' > 'A'` it will evaluate as true, but not `'B' < 'A'`. So if we are expecting for CPU to automatically understand we are looking for Performances that are either 'Meets Expectations' or 'Exceeds Expectations' the code does not make logical sense. \n",
    "\n",
    "However, the output makes logical sense, as based on alphabetical order we should only get 'Underperforming' and 'Meets Expectations’.\n"
   ]
  },
  {
   "cell_type": "code",
   "execution_count": 5,
   "id": "6bd42102",
   "metadata": {},
   "outputs": [
    {
     "data": {
      "text/plain": [
       "True"
      ]
     },
     "execution_count": 5,
     "metadata": {},
     "output_type": "execute_result"
    }
   ],
   "source": [
    "'B' > 'A'"
   ]
  },
  {
   "cell_type": "code",
   "execution_count": 6,
   "id": "e81877a9",
   "metadata": {},
   "outputs": [
    {
     "data": {
      "text/plain": [
       "False"
      ]
     },
     "execution_count": 6,
     "metadata": {},
     "output_type": "execute_result"
    }
   ],
   "source": [
    "'B' < 'A'"
   ]
  },
  {
   "cell_type": "markdown",
   "id": "7b014d92",
   "metadata": {},
   "source": [
    "8.\tThe following code tries to do the same filtering as done in the previous step, this time for `df_category`, but it returns an error. Run the code, study the error and figure out why the error happens. "
   ]
  },
  {
   "cell_type": "code",
   "execution_count": 7,
   "id": "d9ebb849",
   "metadata": {},
   "outputs": [
    {
     "ename": "TypeError",
     "evalue": "Unordered Categoricals can only compare equality or not",
     "output_type": "error",
     "traceback": [
      "\u001b[1;31m---------------------------------------------------------------------------\u001b[0m",
      "\u001b[1;31mTypeError\u001b[0m                                 Traceback (most recent call last)",
      "\u001b[1;32m~\\AppData\\Local\\Temp\\ipykernel_15092\\3596464775.py\u001b[0m in \u001b[0;36m<module>\u001b[1;34m\u001b[0m\n\u001b[1;32m----> 1\u001b[1;33m \u001b[0mBM\u001b[0m \u001b[1;33m=\u001b[0m \u001b[0mdf_category\u001b[0m\u001b[1;33m.\u001b[0m\u001b[0mPerformance\u001b[0m \u001b[1;33m>=\u001b[0m \u001b[1;34m'Meets Expectations'\u001b[0m\u001b[1;33m\u001b[0m\u001b[1;33m\u001b[0m\u001b[0m\n\u001b[0m\u001b[0;32m      2\u001b[0m \u001b[0mprint\u001b[0m\u001b[1;33m(\u001b[0m\u001b[0mdf_category\u001b[0m\u001b[1;33m[\u001b[0m\u001b[0mBM\u001b[0m\u001b[1;33m]\u001b[0m\u001b[1;33m.\u001b[0m\u001b[0mvalue_counts\u001b[0m\u001b[1;33m(\u001b[0m\u001b[1;33m)\u001b[0m\u001b[1;33m)\u001b[0m\u001b[1;33m\u001b[0m\u001b[1;33m\u001b[0m\u001b[0m\n",
      "\u001b[1;32m~\\Anaconda3\\lib\\site-packages\\pandas\\core\\ops\\common.py\u001b[0m in \u001b[0;36mnew_method\u001b[1;34m(self, other)\u001b[0m\n\u001b[0;32m     68\u001b[0m         \u001b[0mother\u001b[0m \u001b[1;33m=\u001b[0m \u001b[0mitem_from_zerodim\u001b[0m\u001b[1;33m(\u001b[0m\u001b[0mother\u001b[0m\u001b[1;33m)\u001b[0m\u001b[1;33m\u001b[0m\u001b[1;33m\u001b[0m\u001b[0m\n\u001b[0;32m     69\u001b[0m \u001b[1;33m\u001b[0m\u001b[0m\n\u001b[1;32m---> 70\u001b[1;33m         \u001b[1;32mreturn\u001b[0m \u001b[0mmethod\u001b[0m\u001b[1;33m(\u001b[0m\u001b[0mself\u001b[0m\u001b[1;33m,\u001b[0m \u001b[0mother\u001b[0m\u001b[1;33m)\u001b[0m\u001b[1;33m\u001b[0m\u001b[1;33m\u001b[0m\u001b[0m\n\u001b[0m\u001b[0;32m     71\u001b[0m \u001b[1;33m\u001b[0m\u001b[0m\n\u001b[0;32m     72\u001b[0m     \u001b[1;32mreturn\u001b[0m \u001b[0mnew_method\u001b[0m\u001b[1;33m\u001b[0m\u001b[1;33m\u001b[0m\u001b[0m\n",
      "\u001b[1;32m~\\Anaconda3\\lib\\site-packages\\pandas\\core\\arraylike.py\u001b[0m in \u001b[0;36m__ge__\u001b[1;34m(self, other)\u001b[0m\n\u001b[0;32m     58\u001b[0m     \u001b[1;33m@\u001b[0m\u001b[0munpack_zerodim_and_defer\u001b[0m\u001b[1;33m(\u001b[0m\u001b[1;34m\"__ge__\"\u001b[0m\u001b[1;33m)\u001b[0m\u001b[1;33m\u001b[0m\u001b[1;33m\u001b[0m\u001b[0m\n\u001b[0;32m     59\u001b[0m     \u001b[1;32mdef\u001b[0m \u001b[0m__ge__\u001b[0m\u001b[1;33m(\u001b[0m\u001b[0mself\u001b[0m\u001b[1;33m,\u001b[0m \u001b[0mother\u001b[0m\u001b[1;33m)\u001b[0m\u001b[1;33m:\u001b[0m\u001b[1;33m\u001b[0m\u001b[1;33m\u001b[0m\u001b[0m\n\u001b[1;32m---> 60\u001b[1;33m         \u001b[1;32mreturn\u001b[0m \u001b[0mself\u001b[0m\u001b[1;33m.\u001b[0m\u001b[0m_cmp_method\u001b[0m\u001b[1;33m(\u001b[0m\u001b[0mother\u001b[0m\u001b[1;33m,\u001b[0m \u001b[0moperator\u001b[0m\u001b[1;33m.\u001b[0m\u001b[0mge\u001b[0m\u001b[1;33m)\u001b[0m\u001b[1;33m\u001b[0m\u001b[1;33m\u001b[0m\u001b[0m\n\u001b[0m\u001b[0;32m     61\u001b[0m \u001b[1;33m\u001b[0m\u001b[0m\n\u001b[0;32m     62\u001b[0m     \u001b[1;31m# -------------------------------------------------------------\u001b[0m\u001b[1;33m\u001b[0m\u001b[1;33m\u001b[0m\u001b[0m\n",
      "\u001b[1;32m~\\Anaconda3\\lib\\site-packages\\pandas\\core\\series.py\u001b[0m in \u001b[0;36m_cmp_method\u001b[1;34m(self, other, op)\u001b[0m\n\u001b[0;32m   5621\u001b[0m \u001b[1;33m\u001b[0m\u001b[0m\n\u001b[0;32m   5622\u001b[0m         \u001b[1;32mwith\u001b[0m \u001b[0mnp\u001b[0m\u001b[1;33m.\u001b[0m\u001b[0merrstate\u001b[0m\u001b[1;33m(\u001b[0m\u001b[0mall\u001b[0m\u001b[1;33m=\u001b[0m\u001b[1;34m\"ignore\"\u001b[0m\u001b[1;33m)\u001b[0m\u001b[1;33m:\u001b[0m\u001b[1;33m\u001b[0m\u001b[1;33m\u001b[0m\u001b[0m\n\u001b[1;32m-> 5623\u001b[1;33m             \u001b[0mres_values\u001b[0m \u001b[1;33m=\u001b[0m \u001b[0mops\u001b[0m\u001b[1;33m.\u001b[0m\u001b[0mcomparison_op\u001b[0m\u001b[1;33m(\u001b[0m\u001b[0mlvalues\u001b[0m\u001b[1;33m,\u001b[0m \u001b[0mrvalues\u001b[0m\u001b[1;33m,\u001b[0m \u001b[0mop\u001b[0m\u001b[1;33m)\u001b[0m\u001b[1;33m\u001b[0m\u001b[1;33m\u001b[0m\u001b[0m\n\u001b[0m\u001b[0;32m   5624\u001b[0m \u001b[1;33m\u001b[0m\u001b[0m\n\u001b[0;32m   5625\u001b[0m         \u001b[1;32mreturn\u001b[0m \u001b[0mself\u001b[0m\u001b[1;33m.\u001b[0m\u001b[0m_construct_result\u001b[0m\u001b[1;33m(\u001b[0m\u001b[0mres_values\u001b[0m\u001b[1;33m,\u001b[0m \u001b[0mname\u001b[0m\u001b[1;33m=\u001b[0m\u001b[0mres_name\u001b[0m\u001b[1;33m)\u001b[0m\u001b[1;33m\u001b[0m\u001b[1;33m\u001b[0m\u001b[0m\n",
      "\u001b[1;32m~\\Anaconda3\\lib\\site-packages\\pandas\\core\\ops\\array_ops.py\u001b[0m in \u001b[0;36mcomparison_op\u001b[1;34m(left, right, op)\u001b[0m\n\u001b[0;32m    267\u001b[0m     ):\n\u001b[0;32m    268\u001b[0m         \u001b[1;31m# Call the method on lvalues\u001b[0m\u001b[1;33m\u001b[0m\u001b[1;33m\u001b[0m\u001b[0m\n\u001b[1;32m--> 269\u001b[1;33m         \u001b[0mres_values\u001b[0m \u001b[1;33m=\u001b[0m \u001b[0mop\u001b[0m\u001b[1;33m(\u001b[0m\u001b[0mlvalues\u001b[0m\u001b[1;33m,\u001b[0m \u001b[0mrvalues\u001b[0m\u001b[1;33m)\u001b[0m\u001b[1;33m\u001b[0m\u001b[1;33m\u001b[0m\u001b[0m\n\u001b[0m\u001b[0;32m    270\u001b[0m \u001b[1;33m\u001b[0m\u001b[0m\n\u001b[0;32m    271\u001b[0m     \u001b[1;32melif\u001b[0m \u001b[0mis_scalar\u001b[0m\u001b[1;33m(\u001b[0m\u001b[0mrvalues\u001b[0m\u001b[1;33m)\u001b[0m \u001b[1;32mand\u001b[0m \u001b[0misna\u001b[0m\u001b[1;33m(\u001b[0m\u001b[0mrvalues\u001b[0m\u001b[1;33m)\u001b[0m\u001b[1;33m:\u001b[0m  \u001b[1;31m# TODO: but not pd.NA?\u001b[0m\u001b[1;33m\u001b[0m\u001b[1;33m\u001b[0m\u001b[0m\n",
      "\u001b[1;32m~\\Anaconda3\\lib\\site-packages\\pandas\\core\\ops\\common.py\u001b[0m in \u001b[0;36mnew_method\u001b[1;34m(self, other)\u001b[0m\n\u001b[0;32m     68\u001b[0m         \u001b[0mother\u001b[0m \u001b[1;33m=\u001b[0m \u001b[0mitem_from_zerodim\u001b[0m\u001b[1;33m(\u001b[0m\u001b[0mother\u001b[0m\u001b[1;33m)\u001b[0m\u001b[1;33m\u001b[0m\u001b[1;33m\u001b[0m\u001b[0m\n\u001b[0;32m     69\u001b[0m \u001b[1;33m\u001b[0m\u001b[0m\n\u001b[1;32m---> 70\u001b[1;33m         \u001b[1;32mreturn\u001b[0m \u001b[0mmethod\u001b[0m\u001b[1;33m(\u001b[0m\u001b[0mself\u001b[0m\u001b[1;33m,\u001b[0m \u001b[0mother\u001b[0m\u001b[1;33m)\u001b[0m\u001b[1;33m\u001b[0m\u001b[1;33m\u001b[0m\u001b[0m\n\u001b[0m\u001b[0;32m     71\u001b[0m \u001b[1;33m\u001b[0m\u001b[0m\n\u001b[0;32m     72\u001b[0m     \u001b[1;32mreturn\u001b[0m \u001b[0mnew_method\u001b[0m\u001b[1;33m\u001b[0m\u001b[1;33m\u001b[0m\u001b[0m\n",
      "\u001b[1;32m~\\Anaconda3\\lib\\site-packages\\pandas\\core\\arrays\\categorical.py\u001b[0m in \u001b[0;36mfunc\u001b[1;34m(self, other)\u001b[0m\n\u001b[0;32m    139\u001b[0m         \u001b[1;32mif\u001b[0m \u001b[1;32mnot\u001b[0m \u001b[0mself\u001b[0m\u001b[1;33m.\u001b[0m\u001b[0mordered\u001b[0m\u001b[1;33m:\u001b[0m\u001b[1;33m\u001b[0m\u001b[1;33m\u001b[0m\u001b[0m\n\u001b[0;32m    140\u001b[0m             \u001b[1;32mif\u001b[0m \u001b[0mopname\u001b[0m \u001b[1;32min\u001b[0m \u001b[1;33m[\u001b[0m\u001b[1;34m\"__lt__\"\u001b[0m\u001b[1;33m,\u001b[0m \u001b[1;34m\"__gt__\"\u001b[0m\u001b[1;33m,\u001b[0m \u001b[1;34m\"__le__\"\u001b[0m\u001b[1;33m,\u001b[0m \u001b[1;34m\"__ge__\"\u001b[0m\u001b[1;33m]\u001b[0m\u001b[1;33m:\u001b[0m\u001b[1;33m\u001b[0m\u001b[1;33m\u001b[0m\u001b[0m\n\u001b[1;32m--> 141\u001b[1;33m                 raise TypeError(\n\u001b[0m\u001b[0;32m    142\u001b[0m                     \u001b[1;34m\"Unordered Categoricals can only compare equality or not\"\u001b[0m\u001b[1;33m\u001b[0m\u001b[1;33m\u001b[0m\u001b[0m\n\u001b[0;32m    143\u001b[0m                 )\n",
      "\u001b[1;31mTypeError\u001b[0m: Unordered Categoricals can only compare equality or not"
     ]
    }
   ],
   "source": [
    "BM = df_category.Performance >= 'Meets Expectations'\n",
    "print(df_category[BM].value_counts())"
   ]
  },
  {
   "cell_type": "markdown",
   "id": "e74ce735",
   "metadata": {},
   "source": [
    "**Answer**: The first line of the code, `BM = df_category.Performance >= 'Meets Expectations'`, generates this error because pandas does not accept < or > operators on unordered categorical Dtype."
   ]
  },
  {
   "cell_type": "markdown",
   "id": "0518bc36",
   "metadata": {},
   "source": [
    "9.\tThe error message from the previous step is *‘Unordered Categoricals can only compare equality or not’* The following code creates an ordered categorical attribute in pandas DataFrame, study, and then run the code."
   ]
  },
  {
   "cell_type": "code",
   "execution_count": 8,
   "id": "0f2ceb34",
   "metadata": {},
   "outputs": [
    {
     "name": "stdout",
     "output_type": "stream",
     "text": [
      "<class 'pandas.core.frame.DataFrame'>\n",
      "RangeIndex: 1000000 entries, 0 to 999999\n",
      "Data columns (total 1 columns):\n",
      " #   Column       Non-Null Count    Dtype   \n",
      "---  ------       --------------    -----   \n",
      " 0   Performance  1000000 non-null  category\n",
      "dtypes: category(1)\n",
      "memory usage: 976.8 KB\n"
     ]
    }
   ],
   "source": [
    "from pandas.api.types import CategoricalDtype\n",
    "categories = ['Underperforming', 'Meets Expectations',\n",
    "              'Exceeds Expectations']\n",
    "\n",
    "cat_type = CategoricalDtype(\n",
    "    categories=categories, ordered=True)\n",
    "\n",
    "df_o_category = pd.DataFrame(\n",
    "    np.random.choice(categories,10**6),\n",
    "    columns = ['Performance'],\n",
    "    dtype= cat_type\n",
    ")\n",
    "df_o_category.info()"
   ]
  },
  {
   "cell_type": "markdown",
   "id": "84ab9bd3",
   "metadata": {},
   "source": [
    "10.\tCompare the printout of `df_o_category.info()` from the preceding code, and that of `df_category.info()` from step 2. Is there any difference between the two?\n",
    "\n",
    "**Answer**: No, the printouts are the same, therefore, the memory that both `df_o_category` and `df_category` uses are the same."
   ]
  },
  {
   "cell_type": "markdown",
   "id": "bd00cd21",
   "metadata": {},
   "source": [
    "11.\tThe following code is the same as in step 8 but updated for `df_o_category` Run the following code and study its output. Does the code make logical sense? Does the output make logical sense?"
   ]
  },
  {
   "cell_type": "code",
   "execution_count": 9,
   "id": "249f18dd",
   "metadata": {},
   "outputs": [
    {
     "name": "stdout",
     "output_type": "stream",
     "text": [
      "Performance         \n",
      "Meets Expectations      333944\n",
      "Exceeds Expectations    333889\n",
      "Underperforming              0\n",
      "dtype: int64\n"
     ]
    }
   ],
   "source": [
    "BM = df_o_category.Performance >= 'Meets Expectations'\n",
    "print(df_o_category[BM].value_counts())"
   ]
  },
  {
   "cell_type": "markdown",
   "id": "c0d60168",
   "metadata": {},
   "source": [
    "**Answer**: Yes, both the code and the output make logical sense."
   ]
  },
  {
   "cell_type": "markdown",
   "id": "21061926",
   "metadata": {},
   "source": [
    "12.\tFrom your experiences in steps 2 and 9, and also steps 8 and 11, in your own words explain the difference between pandas' unordered categorical Dtyoe and ordered categorical Dtype. What are the advantages and disadvantages of each? \n",
    "\n",
    "**Answer**: They are essentially the same, and also take up the same amount of memory space, but there are two important differences between them. First, the operators < and > are not accepted for unordered categorical data. Second, to create an ordered categorical datatype we have to be more intentional by defining the categories and the order between them.\n",
    "\n",
    "*Advantages of unordered categorical Dtype*:\n",
    "- Easier to code\n",
    "\n",
    "*Disadvantages of unordered categorical Dtype*:\n",
    "- not possible to use < or > operator\n",
    "\n",
    "*Advantages of ordered categorical Dtype*:\n",
    "- Have to specify the order\n",
    "\n",
    "*Disdvantages of unordered categorical Dtype*:\n",
    "- possible to use < or > operators"
   ]
  },
  {
   "cell_type": "markdown",
   "id": "f4d9371e",
   "metadata": {},
   "source": [
    "13.\tThe three datatypes that we worked with in this challenge are string, pandas unordered categorical and pandas ordered categorical. From your experience with this challenge, provide at least two situations for each that the data type is best to be used.\n",
    "\n",
    "**Answers**:\n",
    "\n",
    "*Situations for string*:\n",
    "- The majority of the text values are unique.\n",
    "\n",
    "\n",
    "*Situations for unordered categorical Dtype*:\n",
    "- the majority of the text value is repeated, and there is no meaningful order between the possibilities.\n",
    "- the majority of the text value is repeated, and we will not need to be performing analytics that needs the logical order between the possibilities.\n",
    "\n",
    "*Situations for ordered categorical Dtype*:\n",
    "- the majority of the text value is repeated, and there is a meaningful order between the possibilities.\n",
    "- the majority of the text value is repeated, and we will need to be performing analytics that needs the logical order between the possibilities.\n"
   ]
  },
  {
   "cell_type": "code",
   "execution_count": null,
   "id": "94f54bc2",
   "metadata": {},
   "outputs": [],
   "source": []
  }
 ],
 "metadata": {
  "kernelspec": {
   "display_name": "Python 3 (ipykernel)",
   "language": "python",
   "name": "python3"
  },
  "language_info": {
   "codemirror_mode": {
    "name": "ipython",
    "version": 3
   },
   "file_extension": ".py",
   "mimetype": "text/x-python",
   "name": "python",
   "nbconvert_exporter": "python",
   "pygments_lexer": "ipython3",
   "version": "3.9.13"
  }
 },
 "nbformat": 4,
 "nbformat_minor": 5
}
