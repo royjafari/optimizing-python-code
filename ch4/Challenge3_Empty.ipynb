{
 "cells": [
  {
   "cell_type": "markdown",
   "id": "6275767f",
   "metadata": {},
   "source": [
    "## Optimizing the Python Code for Big Data \n",
    "Balancing Coding Complexity against Computational Complexity \n",
    "    \n",
    "    AUTHOR: Dr. Roy Jafari \n",
    "\n",
    "# Chapter 4: Taking Advantage of Vectorization and Broadcasting (V&B) \n",
    "\n",
    "## Challenge 3: Deeply nested loops or shallow loopless codes?"
   ]
  },
  {
   "cell_type": "markdown",
   "id": "86c8dfa1",
   "metadata": {},
   "source": [
    "When it comes to data manipulation using python a good rule of thumb is the less nested loop the better. Of course, this is just a rule of thumb and there are cases where having loops are unavoidable.\n",
    "\n",
    "In this challenge, we will work on a big data manipulation task. I will give you a solution that has lots of nested loops and your job will be to transform the solution into one that only has the necessary loops. Let’s get started. \n",
    "\n",
    "In this challenge, we will be using the United States Presidential elections historical dataset. You may access the data from its source which is [MIT Election Data Science Lab accessible](https://dataverse.harvard.edu/dataset.xhtml?persistentId=doi:10.7910/DVN/VOQCHQ). You may also download the file *countypres_2000-2020.csv* directly from the following link https://packt-data-prep-workshop.s3.eu-west-1.amazonaws.com/countypres_2000-2020.csv. \n",
    "\n",
    "Answer the following quesitons or complete the following steps.\n",
    "\n",
    "1.\tThe following code reads *countypres_2000-2020.csv* into the `election_df` pandas DataFrame. Run the following code and study the columns of `election_df`.\n"
   ]
  },
  {
   "cell_type": "code",
   "execution_count": null,
   "id": "0e1daba5",
   "metadata": {},
   "outputs": [],
   "source": [
    "import pandas as pd\n",
    "election_df = pd.read_csv('countypres_2000-2020.csv')\n",
    "election_df.head()"
   ]
  },
  {
   "cell_type": "markdown",
   "id": "a518db3a",
   "metadata": {},
   "source": [
    "2.\tThe following code counts the number of unique counties in the US from `election_df`. Run the code to realize how many counties are in the US."
   ]
  },
  {
   "cell_type": "code",
   "execution_count": null,
   "id": "4f9dace8",
   "metadata": {},
   "outputs": [],
   "source": [
    "us_counties = (\n",
    "    election_df.state_po +\n",
    "    ' - ' +\n",
    "    election_df.county_name\n",
    ").unique()\n",
    "print(us_counties)\n",
    "print(len(us_counties))"
   ]
  },
  {
   "cell_type": "markdown",
   "id": "f050ccb3",
   "metadata": {},
   "source": [
    "3.\tThe following code filters `election_df` to isolate the data of Yuma county in Arizona. Run the code and study its printout. Specifically, pay attention to the columns `party` and `mode`."
   ]
  },
  {
   "cell_type": "code",
   "execution_count": null,
   "id": "373cbadb",
   "metadata": {},
   "outputs": [],
   "source": [
    "yuma_df = (election_df\n",
    " .query('state_po == \"AZ\"')\n",
    " .query('county_name == \"YUMA\"')\n",
    ")\n",
    "yuma_df"
   ]
  },
  {
   "cell_type": "markdown",
   "id": "6851c248",
   "metadata": {},
   "source": [
    "4.\tThe following code only keeps the rows where the value of party is either **DEMOCRAT** or **REPUBLICAN**.  Study the code and its printout."
   ]
  },
  {
   "cell_type": "code",
   "execution_count": null,
   "id": "99737a00",
   "metadata": {},
   "outputs": [],
   "source": [
    "BM = yuma_df['party'].isin(['DEMOCRAT','REPUBLICAN'])\n",
    "yuma_df = (\n",
    "    yuma_df[BM]\n",
    "    .copy()\n",
    ")\n",
    "yuma_df"
   ]
  },
  {
   "cell_type": "markdown",
   "id": "b8c8b94d",
   "metadata": {},
   "source": [
    "5.\tThe following code uses `.groupby()` function to make sure that all of the different modes of elections have been summed up for every election and every party in each county. Run the code and study the reduced version of `yuma_df`. \n",
    "\n"
   ]
  },
  {
   "cell_type": "code",
   "execution_count": null,
   "id": "5f05c07c",
   "metadata": {},
   "outputs": [],
   "source": [
    "yuma_df = (\n",
    "    yuma_df\n",
    "    .groupby(\n",
    "        ['year','state_po','county_name','party']\n",
    "    ).candidatevotes\n",
    "    .sum()\n",
    "    .reset_index()\n",
    ")\n",
    "print(yuma_df)"
   ]
  },
  {
   "cell_type": "markdown",
   "id": "49c35a35",
   "metadata": {},
   "source": [
    "6.\tThe following code first calculates the total number of votes in Yuma county in every election year and then uses it to calculate `percentvotes` for every party in every election year. Study the code, run it, and study its printouts. "
   ]
  },
  {
   "cell_type": "code",
   "execution_count": null,
   "id": "b5c82860",
   "metadata": {},
   "outputs": [],
   "source": [
    "total_df = yuma_df.groupby('year').candidatevotes.sum()\n",
    "print(total_df)\n",
    "yuma_df['percentvotes'] = None\n",
    "for i, row in yuma_df.iterrows():\n",
    "    yuma_df.at[i, 'percentvotes'] = (\n",
    "        row.candidatevotes / total_df.loc[row.year]\n",
    "    )\n",
    "yuma_df"
   ]
  },
  {
   "cell_type": "markdown",
   "id": "014fe4f5",
   "metadata": {},
   "source": [
    "7.\tThe following code creates two line plots that show **DEMOCRAT** and **REPUBLICAN** trends of the two parties in the past 6 US presidential elections. Run the code and study the line plots. "
   ]
  },
  {
   "cell_type": "code",
   "execution_count": null,
   "id": "407bfd4f",
   "metadata": {},
   "outputs": [],
   "source": [
    "import matplotlib.pyplot as plt\n",
    "import numpy as np\n",
    "rep_BM = yuma_df.party == 'REPUBLICAN'\n",
    "dem_BM = yuma_df.party == 'DEMOCRAT'\n",
    "rep_sr = yuma_df[rep_BM].reset_index()\n",
    "dem_sr = yuma_df[dem_BM].reset_index()\n",
    "x = np.arange(6)\n",
    "f,axes = plt.subplots(1,2,figsize=(15,4))\n",
    "rep_sr.percentvotes.plot(ax = axes[0], label='REPUBLICAN',c='gray')\n",
    "axes[0].set_ylabel('Percent Vote')\n",
    "axes[0].set_xticks(x)\n",
    "axes[0].set_xticklabels([2000,2004,2008,2012,2016,2020])\n",
    "axes[0].legend()\n",
    "dem_sr.percentvotes.plot(ax = axes[1], label='DEMOCRAT',c='gray')\n",
    "axes[1].set_xticks(x)\n",
    "axes[1].set_xticklabels([2000,2004,2008,2012,2016,2020])\n",
    "axes[1].legend()\n",
    "plt.legend()\n",
    "plt.show()"
   ]
  },
  {
   "cell_type": "markdown",
   "id": "81a1b4ac",
   "metadata": {},
   "source": [
    "8.\tDescribe the trend that you see in the two line plots that you created in Step 7. "
   ]
  },
  {
   "cell_type": "markdown",
   "id": "7e626c83",
   "metadata": {},
   "source": [
    "**Answer**: "
   ]
  },
  {
   "cell_type": "code",
   "execution_count": null,
   "id": "2393d84b-8613-4fde-9dc5-9d70d7672152",
   "metadata": {},
   "outputs": [],
   "source": []
  },
  {
   "cell_type": "markdown",
   "id": "b4ed5779",
   "metadata": {},
   "source": [
    "9.\tThe following code recreates the preceding figure some addition. The code fits two linear lines to the line plots and draws them on top of the plots. Moreover, it also adds the regression equation of the fitted lines to the plots. Study and run the following code, and then study the code’s output. Study the code and the visualization it creates. "
   ]
  },
  {
   "cell_type": "code",
   "execution_count": null,
   "id": "f650f0af",
   "metadata": {},
   "outputs": [],
   "source": [
    "from scipy.optimize import curve_fit\n",
    "def linear_function(x,a,b):\n",
    "    return a*x+b\n",
    "x = np.arange(6)\n",
    "f,axes = plt.subplots(1,2,figsize=(15,4))\n",
    "rep_sr.percentvotes.plot(ax = axes[0], label='REPUBLICAN',c='gray')\n",
    "p,_ = curve_fit(linear_function,x,rep_sr.percentvotes.values)\n",
    "axes[0].plot(x,linear_function(x,p[0],p[1]),label='Fitted Line')\n",
    "axes[0].annotate(xy=(0,0.51),\n",
    "                text = f'reg equation: y= {p[0]:.4f}x + {p[1]:.4f}')\n",
    "axes[0].set_ylabel('Percent Vote')\n",
    "axes[0].set_xticks(x)\n",
    "axes[0].set_xticklabels([2000,2004,2008,2012,2016,2020])\n",
    "axes[0].legend()\n",
    "dem_sr.percentvotes.plot(ax = axes[1], label='DEMOCRAT',c='gray')\n",
    "p,_ = curve_fit(linear_function,x,dem_sr.percentvotes.values)\n",
    "axes[1].plot(x,linear_function(x,p[0],p[1]),label='Fitted Line')\n",
    "axes[1].annotate(xy=(0,0.47),\n",
    "                text = f'reg equation: y= {p[0]:.4f}x + {p[1]:.4f}')\n",
    "axes[1].set_xticks(x)\n",
    "axes[1].set_xticklabels([2000,2004,2008,2012,2016,2020])\n",
    "axes[1].legend()\n",
    "plt.legend()\n",
    "plt.tight_layout()\n",
    "plt.savefig('images/challenge3_8.png',dpi=500)"
   ]
  },
  {
   "cell_type": "markdown",
   "id": "36e2e85d",
   "metadata": {},
   "source": [
    "10.\tEach line has two parameters, an intercept, and a slope. For instance, the slope of the line that fits the republication vote percent in yuma_df is **-0.0115** and the intercept of the same line is **0.5816**.  With these two parameters, you can redraw the line. Compare the slope and intercept of the two lines shown in the preceding figure. What can we learn?"
   ]
  },
  {
   "cell_type": "markdown",
   "id": "5d642212",
   "metadata": {},
   "source": [
    "**Answer**: "
   ]
  },
  {
   "cell_type": "code",
   "execution_count": null,
   "id": "5a8ae0bb-d3a9-4703-b3e4-42c995fb5d9e",
   "metadata": {},
   "outputs": [],
   "source": []
  },
  {
   "cell_type": "markdown",
   "id": "8b4cd655",
   "metadata": {},
   "source": [
    "11.\tSo far in this challenge, we were getting to know `election_df` and the four parameters we want to extract for each US county.  These four parameters are listed as follows.\n",
    "\n",
    "- **Slope DEMOCRAT**: The slope of a line that fits the trend of DEMOCRAT from percentvotes 2000 to 2020.\n",
    "- **Intercept DEMOCRAT**: The intercept of a line that fits the trend of DEMOCRAT from percentvotes 2000 to 2020.\n",
    "- **Slope REPUBLICAN**: The slope of a line that fits the trend of REPUBLICAN from percentvotes 2000 to 2020.\n",
    "- **Intercept REPUBLICAN**: The intercept of a line that fits the trend of REPUBLICAN from percentvotes 2000 to 2020.\n",
    "\n",
    " In this challenge, the task is to capture these parameters for each county in the best possible way we can. \n",
    "The following code creates `param_df` which is a placeholder we will use to insert the value of the parameters we calculate during the data manipulation task in the next step. "
   ]
  },
  {
   "cell_type": "code",
   "execution_count": null,
   "id": "0642533a",
   "metadata": {},
   "outputs": [],
   "source": [
    "BM = election_df.party.isin(['DEMOCRAT','REPUBLICAN'])\n",
    "\n",
    "param_df = pd.DataFrame(\n",
    "    election_df[['state_po','county_name','party']][BM].copy()\n",
    "    .drop_duplicates()\n",
    "    .reset_index(drop=True)\n",
    "\n",
    "    .assign(slope=None)\n",
    "    .assign(intercept=None)\n",
    "    .set_index(['state_po','county_name','party'])\n",
    "    .unstack()\n",
    ")\n",
    "print(param_df)"
   ]
  },
  {
   "cell_type": "markdown",
   "id": "06eb8f7b",
   "metadata": {},
   "source": [
    "12.\tThe following code uses three-level nested loops to fill `param_df` and captures the four parameters for each county in the US. Study the code, and describe how the code gets the task done.\n",
    "\n",
    "```\n",
    "parties = ['DEMOCRAT','REPUBLICAN']\n",
    "\n",
    "for state, county in param_df.index:\n",
    "    BM = election_df.state_po == state\n",
    "    BM = BM & (election_df.county_name ==county)\n",
    "    \n",
    "    county_df = (\n",
    "        election_df[BM]\n",
    "        .groupby(['year','party'])\n",
    "        .candidatevotes\n",
    "        .sum()\n",
    "        .reset_index()\n",
    "    )\n",
    "    \n",
    "    total_df = (\n",
    "        county_df\n",
    "        .groupby('year')\n",
    "        .candidatevotes\n",
    "        .sum()\n",
    "    )\n",
    "    \n",
    "    if len(total_df)<2 or total_df.sum()==0:\n",
    "        continue\n",
    "    \n",
    "    for party in parties:\n",
    "        BM = county_df.party == party\n",
    "        party_df = county_df[BM].copy()\n",
    "        \n",
    "        if party_df.empty:\n",
    "            continue\n",
    "            \n",
    "        party_df['percentvotes'] = None\n",
    "        \n",
    "        for i, row in party_df.iterrows():\n",
    "            party_df.at[i, 'percentvotes'] = (\n",
    "                row.candidatevotes / total_df.loc[row.year]\n",
    "            )\n",
    "            \n",
    "        \n",
    "        \n",
    "        party_df.percentvotes = (\n",
    "            party_df.percentvotes.fillna(\n",
    "                party_df.percentvotes.median()\n",
    "            )\n",
    "        )\n",
    "        \n",
    "        p,_ = curve_fit(linear_function,\n",
    "                        np.arange(len(party_df)),\n",
    "                        party_df.percentvotes.values)\n",
    "        \n",
    "        param_df.loc[(state,county),('slope',party)] = p[0]\n",
    "        param_df.loc[(state,county),('intercept',party)] = p[1]\n",
    "```"
   ]
  },
  {
   "cell_type": "markdown",
   "id": "b0d78613",
   "metadata": {},
   "source": [
    "**Answer**: \n",
    "\n"
   ]
  },
  {
   "cell_type": "code",
   "execution_count": null,
   "id": "99833035-92a5-42ba-9357-2c13dc0da7cc",
   "metadata": {},
   "outputs": [],
   "source": []
  },
  {
   "cell_type": "markdown",
   "id": "6222d575",
   "metadata": {},
   "source": [
    "13.\tRun the code in the previous step, and time how long it takes to complete. Please pay attention that the code throws out some warnings that you can just ignore."
   ]
  },
  {
   "cell_type": "markdown",
   "id": "fca9160e-b98c-4555-bddc-4f975a91ec4e",
   "metadata": {},
   "source": [
    "**Answer**: "
   ]
  },
  {
   "cell_type": "code",
   "execution_count": null,
   "id": "1cd2c6c6-2951-425c-9962-cd3d7ee984dd",
   "metadata": {},
   "outputs": [],
   "source": []
  },
  {
   "cell_type": "markdown",
   "id": "f9ae5c89",
   "metadata": {},
   "source": [
    "14.\tYour challenge is to redo what the code in Step 11 does, but use as few loos as possible. Challenge yourself, and see if you can do it with no loops. Hint: in my solution with a few loops (perhaps none), I ended up using the following functions: pandas DataFrame `.groupby()`, `.merge()`, `.unstack()`, and `.apply()` functions. You won’t have to use these, whatever you can make it work is great. "
   ]
  },
  {
   "cell_type": "markdown",
   "id": "dafcc585",
   "metadata": {},
   "source": [
    "**Answer**: "
   ]
  },
  {
   "cell_type": "code",
   "execution_count": null,
   "id": "b572a4ff-0455-4756-a09a-434f10dd834b",
   "metadata": {},
   "outputs": [],
   "source": []
  },
  {
   "cell_type": "markdown",
   "id": "1d9db607",
   "metadata": {},
   "source": [
    "15.\tCompare the runtime performance of the solution with multiple loops and the one you created that had fewer loops (ideally none). Which one ends faster? What are your conclusions?"
   ]
  },
  {
   "cell_type": "markdown",
   "id": "a2cf0235",
   "metadata": {},
   "source": [
    "**Answer**: "
   ]
  },
  {
   "cell_type": "code",
   "execution_count": null,
   "id": "0fa1d93c-74c2-4147-a7ba-29a6c7900c87",
   "metadata": {},
   "outputs": [],
   "source": []
  }
 ],
 "metadata": {
  "kernelspec": {
   "display_name": "Python 3 (ipykernel)",
   "language": "python",
   "name": "python3"
  },
  "language_info": {
   "codemirror_mode": {
    "name": "ipython",
    "version": 3
   },
   "file_extension": ".py",
   "mimetype": "text/x-python",
   "name": "python",
   "nbconvert_exporter": "python",
   "pygments_lexer": "ipython3",
   "version": "3.12.4"
  }
 },
 "nbformat": 4,
 "nbformat_minor": 5
}
