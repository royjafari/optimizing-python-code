{
 "cells": [
  {
   "cell_type": "markdown",
   "id": "6275767f",
   "metadata": {},
   "source": [
    "## Optimizing the Python Code for Big Data \n",
    "Balancing Coding Complexity against Computational Complexity \n",
    "\n",
    "    \n",
    "    AUTHOR: Dr. Roy Jafari \n",
    "\n",
    "# Chapter 4: Taking Advantage of Vectorization and Broadcasting (V&B) \n",
    "\n",
    "## Challenge 4: Matrix Multiplication or Loops?"
   ]
  },
  {
   "cell_type": "markdown",
   "id": "86c8dfa1",
   "metadata": {},
   "source": [
    "Matrix multiplication is not used very often in everyday data preparation, however, it can be used time and again in the optimization sphere of machine learning. So in this challenge, the task we will focus on is a Quadratic Assignment Problem (QAP). \n",
    "\n",
    "QAP is an optimization problem, and we will see how the knowledge and experience of using matrix multiplication can help our big data task.\n",
    "\n",
    "First, let us understand the QAP problem.\n",
    "\n",
    "### Quadratic Assignment Problem (QAP)\n",
    "\n",
    "In QAP, we have n machines and n locations. We denote *w_ij* as the flow between machine *i* and machine *j*, and the *n×n* matrix *W* as the flow matrix that shows the flow between every n machine. We notate *d_lk* as the distance between location *l* and location *k*, and the *n×n* matrix *D* as the distance matrix that shows the distance between every n location. The problem is to assign the *n* machines to the *n* locations such that the distance traveled between the machines is minimized after the assignment.\n",
    "\n",
    "To solve QAP, the problem is encoded in a mathematical model. In the model, we define the decision variable *x_ik* as a binary variable whose value is 1 if the machine i is assigned to location *k*, and otherwise zero.\n",
    "\n",
    "With this decision variable, we can put forth the following as the objective function of the mathematical model.\n",
    "\n",
    "$Z =  \\sum \\limits _{i=1} ^{n} \\sum \\limits _{j=1} ^{n} w_{ij}d_{f(i)f(j)} $\n",
    "\n",
    "In this formulation *f(i)* is the location where machine *i* is assigned and can be calculated using the following formula.\n",
    "\n",
    "$f(i)=  \\sum \\limits _{k=1} ^{n} k x_{ik}$\n",
    "\n",
    "Alternatively, the objective function of the QAP can be calculated using the following matrix multiplication.\n",
    "\n",
    "$Z=trace(WXDX^T)$\n",
    "\n",
    "In the preceding formula, *X* is an *n×n* matrix whose values are QAP’s decision variables *x_ik*. We had also defined *W* and *D*, previously.\n",
    "\n",
    "Now, that we know about the QAP problem, let us roll up our sleeves and get into a more hands-on mode.\n",
    "\n",
    "\n",
    "Before we get into the steps that you’d be taking let me share the good news with you: during this learn-by-doing opportunity, you will get to learn a bit about **Genetic Algorithms (GA)** as well. I am glad you are even more pumped now, so let’s get going. \n",
    "\n",
    "\n",
    "1.\tVisit this webpage: https://coral.ise.lehigh.edu/data-sets/qaplib/qaplib-problem-instances-and-solutions. The page is called QAPLIB and has various examples of how the QAP problem be applied to the various aspects of business and industry. Please makes sure to scroll down to get to the sample data. For instance, when you scroll down about %25 of the page you will see **A.N. Elshafei**. Read the way this scholar took advantage of the QAP. Answer the following question, what is the problem they are solving? How does QAP contribute to this problem?"
   ]
  },
  {
   "cell_type": "markdown",
   "id": "a47677fe",
   "metadata": {},
   "source": [
    "**Answer**:\n",
    "\n",
    "This particular case study is about finding the best locations of various medical facilities given the usual movements of patients and staff between them. The goal is to assign the medical facilities in such way that the needed movements of patients and medical professionals will be minimized. \n",
    "\n",
    "QAP problem solves essentially the same problem. In QAP we talk about machines, but here we have medical facilities. In QAP products and raw materials will move between the machines, in here patients and medical staff move. Therefore, we can simply use QAP to model and solve this problem."
   ]
  },
  {
   "cell_type": "markdown",
   "id": "e0ec5187",
   "metadata": {},
   "source": [
    "2.\tOn the same webpage, click on the problem instance *Els19*. The page that opens reveals the parameters of a QAP problem. The number *19*, in the beginning, is *n*, the first matrix is *D*, and the second matrix is *W* of the QAP problem. Introduce these three parameters to your computer python environment as *n*, *D*, and *W*. You may copy, and format the matrices, or you may find the chunks of codes that are prepared for you to copy, paste and run in the GitHub Repository of the book. Navigate to ch9 and then the *Chapter9.ipynb* file."
   ]
  },
  {
   "cell_type": "code",
   "execution_count": 1,
   "id": "a9f9306e",
   "metadata": {},
   "outputs": [],
   "source": [
    "import numpy as np\n",
    "import pandas as pd\n",
    "n = 19"
   ]
  },
  {
   "cell_type": "markdown",
   "id": "c76bd26d",
   "metadata": {},
   "source": [
    "**Answer**:"
   ]
  },
  {
   "cell_type": "code",
   "execution_count": 2,
   "id": "1cc0a1a5",
   "metadata": {},
   "outputs": [],
   "source": [
    "W = np.array([\n",
    "    [0 ,12,36,28,52,44,110,126,94, 63,130,102, 65,98,132,132,126,120,126],\n",
    "    [12,0 ,24,75,82,75,108, 70,124, 86,93,106, 58,124,161,161,70 ,64, 70],\n",
    "    [36,24,0 ,47 ,71 ,47 ,110,73,126,71, 95,110, 46,127,163,163,73,67,73],\n",
    "    [28,75,47,0, 42,34,148,111,160, 52,94,148,49,117,104,109,111,105,111],\n",
    "    [52,82,71,42,0 ,42,125,136,102,22,73,125, 32, 94,130,130,136,130,136],\n",
    "    [44,75,47,34,42,0,148,111,162, 52, 96,148,49,117,152,152,111,105,111],\n",
    "    [110,108,110,148,125,148,0 ,46,46 ,136,47,30,108,51,79,79,46, 47, 41],\n",
    "    [126,70,73,111,136,111,46,0 ,69,141,63 ,46,119,68,121,121,27, 24, 36],\n",
    "    [94,124,126,160,102,162,46 ,69,0 ,102,34 ,45 ,84 ,23 ,80,80,69,64,51],\n",
    "    [63,86,71,52,22,52,136,141,102,0 ,64,118,29 ,95 ,131,131,141,135,141],\n",
    "    [130,93 ,95,94,73,96,47 ,63 ,34,64,0 ,47 ,56 ,54 ,94 ,94 ,63 ,46 ,24],\n",
    "    [102,106,110,148,125,148,30 ,46 ,45,118,47,0 ,100,51 ,89,89,46,40,36],\n",
    "    [65,58,46,49 ,32 ,49,108,119,84,29,56,100,0 ,77 ,113,113,119,113,119],\n",
    "    [98,124,127,117,94 ,117,51 ,68,23,95,54 ,51,77,0 ,79 ,79 ,68 ,62 ,51],\n",
    "    [132,161,163,104,130,152,79,121,80,131,94,89,113,79,0,10,113,107,119],\n",
    "    [132,161,163,109,130,152,79,121,80,131,94,89,113,79,10,0,113,107,119],\n",
    "    [126,70,73,111,136,111,46, 27,69,141, 63, 46,119,68,113,113,0 ,6 ,24],\n",
    "    [120,64,67,105,130,105,47, 24,64,135,46, 40,113, 62,107,107, 6,0 ,12],\n",
    "    [126,70,73,111,136,111,41,36,51,141,24, 36,119, 51,119,119, 24, 12,0]\n",
    "])"
   ]
  },
  {
   "cell_type": "code",
   "execution_count": 3,
   "id": "0f805de7",
   "metadata": {},
   "outputs": [],
   "source": [
    "D = np.array([\n",
    "    [0,76687,0,415,545,819,135,1368,819,5630,0,3432,9082,1503,0,0,13732,1368,1783],\n",
    "    [76687, 0,40951,4118,5767,2055,1917,2746,1097,5712, 0, 0,0,268,0,1373,268,0,0],\n",
    "    [0,40951, 0,3848,2524,3213,2072,4225,566, 0, 0,404,9372,0,972, 0,13538,1368,0],\n",
    "    [415,4118,3848,  0,256,  0,  0,  0,  0,829,128,  0,  0,  0,  0,  0,  0,  0, 0],\n",
    "    [545,5767,2524,256,  0,  0,  0,  0, 47,1655,287,  0, 42,  0,  0,  0,226, 0, 0],\n",
    "    [819,2055,3213,  0,  0,  0,  0,  0,  0,926,161,  0,  0,  0,  0,  0,  0,  0, 0],\n",
    "    [135,1917,2072,  0,  0,  0,  0,  0,196,1538,196, 0,  0,  0,  0,  0,  0,  0, 0],\n",
    "    [1368,2746,4225, 0,  0,  0,  0,  0,  0,  0,301,  0,  0,  0,  0,  0,  0,  0, 0],\n",
    "    [819,1097,566,   0, 47,  0,196,  0,  0,1954,418, 0,  0,  0,  0,  0,  0,  0, 0],\n",
    "    [5630,5712,  0,829,1655,926,1538,  0,1954,  0,  0,282,0, 0,  0,  0,  0,  0, 0],\n",
    "    [0,  0,  0,128,287,161, 196, 301, 418,  0,  0,1686,  0,  0,  0,  0, 226, 0, 0],\n",
    "    [3432,  0,404,  0,  0,  0,  0,  0,  0,282,1686,  0,  0,  0,  0,  0,  0,  0, 0],\n",
    "    [9082,  0,9372,  0, 42, 0,  0,  0,  0,  0,  0,   0,  0,  0,  0,  0,  0,  0, 0],\n",
    "    [1503,268,  0,  0,  0,  0,  0,  0,  0,  0,  0,   0,  0,  0,  0,  0,  0,  0, 0],\n",
    "    [0,  0, 972, 0,  0,  0,  0,  0,  0,  0,  0,  0,   0,  0,  0,99999,   0,  0, 0],\n",
    "    [0,1373,  0,  0,  0,  0,  0,  0,  0,  0,  0,  0,  0,  0,99999,  0,   0,  0, 0],\n",
    "    [13732,268,13538,0,226,  0,  0,  0,  0,  0,226,  0,  0,  0,  0,  0,  0,  0, 0],\n",
    "    [1368,  0,1368,  0,  0,  0,  0,  0,  0,  0,  0,  0,  0,  0,  0,  0,  0,  0, 0],\n",
    "    [1783,  0,  0,   0,  0,  0,  0,  0,  0,  0,  0,  0,  0,  0,  0,  0,  0,  0, 0]\n",
    "])"
   ]
  },
  {
   "cell_type": "markdown",
   "id": "f4265b70",
   "metadata": {},
   "source": [
    "3.\tThe webpage also gives the optimal solution for the problem as well. Try to locate it on the page, and the optimal solution is given as the following sequence of numbers: \n",
    "\n",
    "**(9,10,7,18,14,19,13,17,6,11,4,5,12,8,15,16,1,2,3)**\n",
    "\n",
    "This means in the optimal solution to the problem hospital facility 9 should be located at location 1, hospital facility 10 should be located at location 2, and so on. \n",
    "\n",
    "Now, pay attention to the following code. The code randomly generates a possible solution to the problem. The code uses the `numpy.random.permuation()` function. Run the code, a few times and describe what the function does."
   ]
  },
  {
   "cell_type": "markdown",
   "id": "e67adb35",
   "metadata": {},
   "source": [
    "**Answer**:"
   ]
  },
  {
   "cell_type": "code",
   "execution_count": 4,
   "id": "11be5877",
   "metadata": {},
   "outputs": [
    {
     "data": {
      "text/plain": [
       "array([18,  3,  6, 10, 16, 17, 15,  4, 14, 13,  8,  9,  1,  7,  5, 12, 11,\n",
       "        2,  0])"
      ]
     },
     "execution_count": 4,
     "metadata": {},
     "output_type": "execute_result"
    }
   ],
   "source": [
    "np.random.permutation(n)"
   ]
  },
  {
   "cell_type": "markdown",
   "id": "ea9e546b",
   "metadata": {},
   "source": [
    "The function randomly reorder all the numbers between 0 to 18. That is called the permutation of 19. "
   ]
  },
  {
   "cell_type": "markdown",
   "id": "d37ce3c8",
   "metadata": {},
   "source": [
    "4.\tWhen we run the code in the preceding code, what is the probability that we chance upon the optimal solution? The correct answer is *8.2e-18*, but try to find it yourself. "
   ]
  },
  {
   "cell_type": "markdown",
   "id": "50baf0c1",
   "metadata": {},
   "source": [
    "**Answer**:"
   ]
  },
  {
   "cell_type": "markdown",
   "id": "38849227",
   "metadata": {},
   "source": [
    "The answer is $\\frac{1}{19!}$ and the following chunk of code computes it."
   ]
  },
  {
   "cell_type": "code",
   "execution_count": 5,
   "id": "6e3108fa",
   "metadata": {},
   "outputs": [
    {
     "data": {
      "text/plain": [
       "8.22063524662433e-18"
      ]
     },
     "execution_count": 5,
     "metadata": {},
     "output_type": "execute_result"
    }
   ],
   "source": [
    "import math\n",
    "1/math.factorial(n)"
   ]
  },
  {
   "cell_type": "markdown",
   "id": "e5e70cec",
   "metadata": {},
   "source": [
    "5.\tThe number of possible solutions for this problem is *19!* which is *121645100408832000*. Every time we run np. `random.permutation(n)`, we randomly get one of these possible solutions. That is a very convenient way of finding a feasible solution to an optimization problem. \n",
    "\n",
    "In Genetic Algorithm, we call each of these sequences of numbers a chromosome. We have different types of chromosomes, this specific one is called permutation encoding. \n",
    "\n",
    "Each chromosome is a special encoding of a possible solution to the problem. Each chromosome also has a matrix representation. The following code creates the function `get_matrix()` that outputs the matrix representation of the chromosome."
   ]
  },
  {
   "cell_type": "markdown",
   "id": "17cec5ef",
   "metadata": {},
   "source": [
    "```\n",
    "def get_matrix(choro):\n",
    "    n = len(choro)\n",
    "    X = np.zeros((n,n))\n",
    "    X[np.arange(n),choro] = np.ones(n)\n",
    "    return X.astype(int)\n",
    "```"
   ]
  },
  {
   "cell_type": "markdown",
   "id": "ead6d296",
   "metadata": {},
   "source": [
    "For example, run the following code that gets the matrix representation of the optimal solution chromosome of the problem. "
   ]
  },
  {
   "cell_type": "markdown",
   "id": "37252105",
   "metadata": {},
   "source": [
    "```\n",
    "opt_seq = (9,10,7,18,14,19,13,17,6,11,4,5,12,8,15,16,1,2,3)\n",
    "opt_choro = np.array(opt_seq)-1\n",
    "X = get_matrix(opt_choro)\n",
    "print(X)\n",
    "```"
   ]
  },
  {
   "cell_type": "markdown",
   "id": "bb2172e5",
   "metadata": {},
   "source": [
    "Before running the code, let us go over the reason we had to take one away in the second line of the code. The reason is that python and numpy indexing starts from 0, but the indexing of chromosomes presented on QAPLIB starts from 1. To make sure that our codes will not run into errors we have to take one away so the indexing of the chromosome also starts from zero. \n",
    "Now run the code, and study its output. Check a few *x_ik* that you’d expect to be one. For instance, *x_08* must be 1, because as we established in the optimal solution to the problem hospital facility 9 should be located at location 1."
   ]
  },
  {
   "cell_type": "markdown",
   "id": "879abfdb",
   "metadata": {},
   "source": [
    "**Answer**:"
   ]
  },
  {
   "cell_type": "code",
   "execution_count": 6,
   "id": "f62154ca",
   "metadata": {},
   "outputs": [],
   "source": [
    "def get_matrix(choro):\n",
    "    n = len(choro)\n",
    "    X = np.zeros((n,n))\n",
    "    X[np.arange(n),choro] = np.ones(n)\n",
    "    return X.astype(int)"
   ]
  },
  {
   "cell_type": "code",
   "execution_count": 7,
   "id": "0ec5ccca",
   "metadata": {},
   "outputs": [
    {
     "name": "stdout",
     "output_type": "stream",
     "text": [
      "[[0 0 0 0 0 0 0 0 1 0 0 0 0 0 0 0 0 0 0]\n",
      " [0 0 0 0 0 0 0 0 0 1 0 0 0 0 0 0 0 0 0]\n",
      " [0 0 0 0 0 0 1 0 0 0 0 0 0 0 0 0 0 0 0]\n",
      " [0 0 0 0 0 0 0 0 0 0 0 0 0 0 0 0 0 1 0]\n",
      " [0 0 0 0 0 0 0 0 0 0 0 0 0 1 0 0 0 0 0]\n",
      " [0 0 0 0 0 0 0 0 0 0 0 0 0 0 0 0 0 0 1]\n",
      " [0 0 0 0 0 0 0 0 0 0 0 0 1 0 0 0 0 0 0]\n",
      " [0 0 0 0 0 0 0 0 0 0 0 0 0 0 0 0 1 0 0]\n",
      " [0 0 0 0 0 1 0 0 0 0 0 0 0 0 0 0 0 0 0]\n",
      " [0 0 0 0 0 0 0 0 0 0 1 0 0 0 0 0 0 0 0]\n",
      " [0 0 0 1 0 0 0 0 0 0 0 0 0 0 0 0 0 0 0]\n",
      " [0 0 0 0 1 0 0 0 0 0 0 0 0 0 0 0 0 0 0]\n",
      " [0 0 0 0 0 0 0 0 0 0 0 1 0 0 0 0 0 0 0]\n",
      " [0 0 0 0 0 0 0 1 0 0 0 0 0 0 0 0 0 0 0]\n",
      " [0 0 0 0 0 0 0 0 0 0 0 0 0 0 1 0 0 0 0]\n",
      " [0 0 0 0 0 0 0 0 0 0 0 0 0 0 0 1 0 0 0]\n",
      " [1 0 0 0 0 0 0 0 0 0 0 0 0 0 0 0 0 0 0]\n",
      " [0 1 0 0 0 0 0 0 0 0 0 0 0 0 0 0 0 0 0]\n",
      " [0 0 1 0 0 0 0 0 0 0 0 0 0 0 0 0 0 0 0]]\n"
     ]
    }
   ],
   "source": [
    "opt_seq = (9,10,7,18,14,19,13,17,6,11,4,5,12,8,15,16,1,2,3)\n",
    "opt_choro = np.array(opt_seq)-1\n",
    "X = get_matrix(opt_choro)\n",
    "print(X)"
   ]
  },
  {
   "cell_type": "markdown",
   "id": "163e2f1b",
   "metadata": {},
   "source": [
    "6.\tIn this step, we will create a function that calculates the objective function, and we will test it.\n",
    "\n",
    "First, we need to define *f(i)* which we defined, under the subchapter *Quadratic Assignment Problem (QAP)*, as a function that gives the location where machine i is assigned. The function `f()` takes both `i` and `X`; in this function, `i` is the facility that we want to know its location in the matrix-represented solution `X`.\n",
    "\n",
    "```\n",
    "def f(i,m):\n",
    "    out= 0 \n",
    "    for k in range(n):\n",
    "        out += k*m[i,k]\n",
    "    return int(out)\n",
    "```\n",
    "\n",
    "Now, we can use `f()` to create the objective function `Z_loop()` as the following. The reason we are adding `_loop` to the function name is that we will be creating `Z_vb()` later in the challenge.\n",
    "```\n",
    "def Z_loop(X):\n",
    "    Z,n = 0,len(X)\n",
    "    for i in range(n):\n",
    "        for j in range(n):\n",
    "            Z += W[i,j]*D[f(i,X),f(j,X)]\n",
    "    return Z\n",
    "```\n",
    "Now that we have a function that can calculate objective function, let’s give it a try and test it out. The following code calculates the objective function for the optimal solution from the QAPLIB, based on the source the answer should be 17212548. Run the following code, and confirm that our function is finding the right answer. \n",
    "```\n",
    "opt_seq = (9,10,7,18,14,19,13,17,6,11,4,5,12,8,15,16,1,2,3)\n",
    "opt_choro = np.array(opt_seq)-1\n",
    "opt_X = get_matrix(opt_choro)\n",
    "print(Z_loop(opt_X))\n",
    "```"
   ]
  },
  {
   "cell_type": "markdown",
   "id": "396b97e8",
   "metadata": {},
   "source": [
    "**Answer**:"
   ]
  },
  {
   "cell_type": "code",
   "execution_count": 8,
   "id": "5e73af9e",
   "metadata": {},
   "outputs": [],
   "source": [
    "def f(i,m):\n",
    "    out= 0 \n",
    "    for k in range(n):\n",
    "        out += k*m[i,k]\n",
    "    return int(out)"
   ]
  },
  {
   "cell_type": "code",
   "execution_count": 9,
   "id": "a696256f",
   "metadata": {},
   "outputs": [],
   "source": [
    "def Z_loop(X):\n",
    "    Z,n = 0,len(X)\n",
    "    for i in range(n):\n",
    "        for j in range(n):\n",
    "            Z += W[i,j]*D[f(i,X),f(j,X)]\n",
    "    return Z"
   ]
  },
  {
   "cell_type": "code",
   "execution_count": 10,
   "id": "1d7d1215",
   "metadata": {},
   "outputs": [
    {
     "name": "stdout",
     "output_type": "stream",
     "text": [
      "17212548\n"
     ]
    }
   ],
   "source": [
    "opt_seq = (9,10,7,18,14,19,13,17,6,11,4,5,12,8,15,16,1,2,3)\n",
    "opt_choro = np.array(opt_seq)-1\n",
    "opt_X = get_matrix(opt_choro)\n",
    "print(Z_loop(opt_X))"
   ]
  },
  {
   "cell_type": "markdown",
   "id": "930e4d31",
   "metadata": {},
   "source": [
    "The function `Z_loop()` does find the correct answer."
   ]
  },
  {
   "cell_type": "markdown",
   "id": "9f5e6b5c",
   "metadata": {},
   "source": [
    "7.\tIn this step, we will create the function `Z_vb()` that uses matrix multiplication to find the value of the objective function for a matrix-represented solution.\n",
    "\n",
    "```\n",
    "def z_vb(X):\n",
    "    return np.trace(W@X@D@X.T)\n",
    "```\n",
    "\n",
    "After defining the function, run `print(z_vb(opt_X))` and confirm that both `z_vb()` and `z_loop()` reach the same correct value. \n"
   ]
  },
  {
   "cell_type": "markdown",
   "id": "e2b28a58",
   "metadata": {},
   "source": [
    "**Answer**:"
   ]
  },
  {
   "cell_type": "code",
   "execution_count": 11,
   "id": "b9fccf39",
   "metadata": {},
   "outputs": [],
   "source": [
    "def z_vb(X):\n",
    "    return np.trace(W@X@D@X.T)"
   ]
  },
  {
   "cell_type": "code",
   "execution_count": 12,
   "id": "abde53da",
   "metadata": {},
   "outputs": [
    {
     "name": "stdout",
     "output_type": "stream",
     "text": [
      "17212548\n"
     ]
    }
   ],
   "source": [
    "print(z_vb(opt_X))"
   ]
  },
  {
   "cell_type": "markdown",
   "id": "a6dc431b",
   "metadata": {},
   "source": [
    "The function `Z_vb()` does find the correct answer."
   ]
  },
  {
   "cell_type": "markdown",
   "id": "0edc39df",
   "metadata": {},
   "source": [
    "8.\tStudy the following code, explain what it does, run it, and finally use its output to answer the following question. \n",
    "What is a brute-force method?\n",
    "\n",
    "```\n",
    "import time\n",
    "functions = {'loop':Z_loop,'vb':z_vb}\n",
    "n_repeat = 1000\n",
    "for method,Z in functions.items():\n",
    "    t0 = time.time()\n",
    "    for _ in range(n_repeat):\n",
    "        Z(opt_X)\n",
    "    ave_runtime = (time.time()-t0)/n_repeat\n",
    "    print(f'{method} average runtime: {ave_runtime:.6f}')\n",
    "```\n",
    "\n",
    "If we were to use the brute-force method to find the optimal solution to the problem, how long it would take if we were using `z_loop()` vs. `z_vb()`?\n",
    "\n",
    "You will see that even though the `Z_vb()` will be 122 times faster, however, finding the solution using the brute-force approach is not possible even by using `Z_vb()`.\n",
    "\n",
    "That’s where an approach such as Genetic Algorithm (GA) comes into the picture. Before, continuing with our hands-on learning, let’s skip a beat and learn a bit about GA first."
   ]
  },
  {
   "cell_type": "markdown",
   "id": "0142bd01",
   "metadata": {},
   "source": [
    "**Answer**:"
   ]
  },
  {
   "cell_type": "code",
   "execution_count": 13,
   "id": "a1e0b5dd",
   "metadata": {},
   "outputs": [
    {
     "name": "stdout",
     "output_type": "stream",
     "text": [
      "loop average runtime: 0.004333\n",
      "vb average runtime: 0.000032\n"
     ]
    }
   ],
   "source": [
    "import time\n",
    "functions = {'loop':Z_loop,'vb':z_vb}\n",
    "n_repeat = 1000\n",
    "for method,Z in functions.items():\n",
    "    t0 = time.time()\n",
    "    for _ in range(n_repeat):\n",
    "        Z(opt_X)\n",
    "    ave_runtime = (time.time()-t0)/n_repeat\n",
    "    print(f'{method} average runtime: {ave_runtime:.6f}')"
   ]
  },
  {
   "cell_type": "code",
   "execution_count": 14,
   "id": "17110a8e",
   "metadata": {},
   "outputs": [
    {
     "data": {
      "text/plain": [
       "'The number of years the brute-force will take when we use Z_loop() will be 26453643.41082477.'"
      ]
     },
     "execution_count": 14,
     "metadata": {},
     "output_type": "execute_result"
    }
   ],
   "source": [
    "f'The number of years the brute-force will take when we use Z_loop() will be {0.006858*math.factorial(n)/60/60/24/365}.'"
   ]
  },
  {
   "cell_type": "code",
   "execution_count": 15,
   "id": "0c2941c0",
   "metadata": {},
   "outputs": [
    {
     "data": {
      "text/plain": [
       "'The number of years the brute-force will take when we use Z_vb() will be 196724.38232021916.'"
      ]
     },
     "execution_count": 15,
     "metadata": {},
     "output_type": "execute_result"
    }
   ],
   "source": [
    "f'The number of years the brute-force will take when we use Z_vb() will be {0.000051*math.factorial(n)/60/60/24/365}.'"
   ]
  },
  {
   "cell_type": "code",
   "execution_count": 16,
   "id": "1c9f028e",
   "metadata": {},
   "outputs": [
    {
     "data": {
      "text/plain": [
       "'Z_loop() takes 134.47058823529412 times than Z_vb().'"
      ]
     },
     "execution_count": 16,
     "metadata": {},
     "output_type": "execute_result"
    }
   ],
   "source": [
    "f'Z_loop() takes {0.006858/0.000051} times than Z_vb().'"
   ]
  },
  {
   "cell_type": "markdown",
   "id": "93e50650",
   "metadata": {},
   "source": [
    "### Genetic Algorithm (GA)\n",
    "\n",
    "GA is similar to the brute-force approach as it also relies on trying different possible solutions to find a better solution(s). It is also different as GA does not have to use all of the possible solutions to terminate. It uses a smart and unique way to put itself on the path of improvement. GA starts with a population of random chromosomes, let’s say 100 chromosomes. These possible solutions to the problem are tired and are ranked based on their goodness. GA uses the current population to evolve into the next population, and the better chromosomes are more likely to have a role in evolution. This evolution happens multiple times, let’s say 1000 times. That’s a genetic algorithm in a nutshell; the only part we need to discuss is how the better chromosomes are selected to contribute to evolution and how they do contribute.\n",
    "\n",
    "We will first talk about the types of contributions. There are three ways that a chromosome can have a role in generating the next population of chromosomes. These are elitism, crossover, and mutation. We will go over these, one by one. \n",
    "\n",
    "#### Eliticims\n",
    "This is the simplest way a chromosome can contribute to the generation of the next population of chromosomes. When a handful of chromosomes are selected to be a part of the next population without any change, that is what literature calls elitism. Simply put, when a chromosome is selected as an elite of its population it will get the chance to carry over to the next population.\n",
    "Next, we will talk about the crossover.\n",
    "\n",
    "#### Crossover\n",
    "In this way, two chromosomes get to co-contribute to the next population. Another simple way to think of crossover is to imagine the chromosomes getting married and having two children. The way they contribute to the next population is by having their children be included in the next population. Depending on the type of chromosomes there are various ways of marrying two chromosomes. The most famous types of chromosomes are binary encoding, permutation encoding, and tree encoding. \n",
    "As the problem we are solving here engages permutation encoding, let us go over the applicable crossover for permutation encoding, which is called **Ordered Crossover**.\n",
    "\n",
    "The ordered crossover of two chromosomes generates two offspring. Each offspring gets half of its cells directly from a parent, the rest are filled from the second parent based on the order of those indices in the chromosome of the second parent. I am sure this hasn’t made sense yet, and I am sure it will once we go over the following example.\n",
    "\n",
    "The following figure shows an example of an ordered crossover. We can see each offspring is influenced by both parents. There are two types of influences: direct, and order. The cells that are randomly picked for direct influence are exactly copied in the offspring. Then the cells that are remaining will be filled using the order influence from the other parent. For instance, in the case of offspring 1, the cells that are marked with 10, 2, 4, 8, and 6 are the result of the direct influence of parent 1; once those are filled, 5 empty cells remain, and the numbers 7, 3, 1, 9 and 5 have not been used yet. The order of these numbers in parent 2 is 1, 7, 3, 9 5, and that’s why the empty cells in offspring 1 are filled with these numbers and in that order. The same logic applies to offspring 2, however, it takes its direct influence from parent 2, and its order influence from parent 1.\n",
    " \n",
    " \n",
    "![Figure 9.4 – Example of ordered crossover](ordered_crossover.png)\n",
    "\n",
    "We will implement the code to perform ordered crossover later on in this challenge. Now, let’s see the last way a chromosome can play a role in the evolution of the next population; next, we will go over mutation. \n",
    "\n",
    "#### Mutation\n",
    "\n",
    "When a chromosome undergoes mutation, a small change is applied to its chromosome. Again, the implementation of mutation will look different based on the type of chromosome. As in this challenge, we have permutation-encoding chromosomes we will see an example of this type of chromosome mutation.\n",
    "\n",
    "Assume the following sequence of numbers is a permutation-encoding chromosome. \n",
    "\n",
    "**(9, 3, 1, 5, 10, 2, 4, 8, 6, 7)**.\n",
    "\n",
    "When this chromosome undergoes a mutation, it could look something like this. We randomly select two indexes from 0 to 9; let’s say we happen upon 2 and 5. Then, we switch the numbers residing in those indices. For instance, the preceding chromosome when the indices 2 and 5 are chosen will be transformed into the following. Don’t forget we are starting our indexing from zero.\n",
    "\n",
    "**(9, 3, 2, 5, 10, 1, 4, 8, 6, 7)**.\n",
    "\n",
    "Next, let us briefly talk about how we go about randomly selecting chromosomes that will put GA on the path of improvement.\n",
    "\n",
    "#### Random Selection\n",
    "For every way we discussed that chromosomes in the current population can contribute to the next population, we need a methodology to choose which chromosomes will get to contribute. There can be various methods to go about this, however, the simplest and most effective one is called **Roulette Wheel Selection (RWS)** in the literature. \n",
    "\n",
    "I think the name is kind of confusing because it gives the impression that all the chromosomes have an equal chance of being selected, however, that’s not the case. Under RWS, chromosomes that have better goodness will have more chance of being selected. Essentially, RWS calculates a probability for each chromosome in the population and the better chromosomes will have a higher probability of being selected.\n",
    "\n",
    "In this challenge, we will implement RWS, and you will see how those probabilities are calculated. I promise it is very easy and intuitive.\n",
    "\n",
    "Now that we have a better understanding of what is GA. It is time that we get back to our hands-on learning steps and implement the Genetic algorithm on the problem we were trying to solve. "
   ]
  },
  {
   "cell_type": "markdown",
   "id": "842e1953",
   "metadata": {},
   "source": [
    "### Hands-on Learning Continues\n",
    "We will pick up our steps from where we left them. We completed step eight and now step nine.\n",
    "\n",
    "9.\tThe following code creates the python class of objects chromosome. As we learned under GA, each chromosome is essentially a solution to the problem. Study the code. Especially pay attention to the usages of the functions `get_matrix()` and `z_vb()` that we developed earlier. Also, pay attention to the reserved function names __init__() and __repr__()."
   ]
  },
  {
   "cell_type": "markdown",
   "id": "0adb5413",
   "metadata": {},
   "source": [
    "**Answer**:"
   ]
  },
  {
   "cell_type": "code",
   "execution_count": 17,
   "id": "2488e921",
   "metadata": {},
   "outputs": [],
   "source": [
    "class chromosome(object):\n",
    "    def __init__(self,perm = [],n=19):\n",
    "        self.n = n\n",
    "        if perm:\n",
    "            self.perm = np.array(perm)\n",
    "        else:\n",
    "            self.perm = np.random.permutation(self.n)\n",
    "\n",
    "            \n",
    "        self.X = get_matrix(self.perm)\n",
    "        self.obj = z_vb(self.X)\n",
    "        \n",
    "    def __repr__(self):\n",
    "        rep = f'''permutation:{self.perm}\n",
    "        Objective value = {self.obj}'''\n",
    "        return rep"
   ]
  },
  {
   "cell_type": "markdown",
   "id": "cd6f462f",
   "metadata": {},
   "source": [
    "10.\tThe following code creates one object of the class `chromosome` that we just created and also prints it. Run the code a few times and describe your observations."
   ]
  },
  {
   "cell_type": "markdown",
   "id": "7c4638b8",
   "metadata": {},
   "source": [
    "**Answer**:"
   ]
  },
  {
   "cell_type": "code",
   "execution_count": 18,
   "id": "611c91a8",
   "metadata": {},
   "outputs": [
    {
     "name": "stdout",
     "output_type": "stream",
     "text": [
      "permutation:[ 5 11 16  0  2 10  6  1 12 18  9 15  8 13  7  4 14  3 17]\n",
      "        Objective value = 58771244\n"
     ]
    }
   ],
   "source": [
    "c1 = chromosome(n=19)\n",
    "print(c1)"
   ]
  },
  {
   "cell_type": "markdown",
   "id": "a8eca25a",
   "metadata": {},
   "source": [
    "11.\tNext, we create a second python class of objects. This one is called `population` and its only properties are `n_members`, and `n_cells`. The former variable is the number of chromosome objects that the population has; whereas, the latter is the number of cells that each chromosome object has. Study and run its definition as the following code. "
   ]
  },
  {
   "cell_type": "markdown",
   "id": "8922c325",
   "metadata": {},
   "source": [
    "**Answer**:"
   ]
  },
  {
   "cell_type": "code",
   "execution_count": 19,
   "id": "a422b4e4",
   "metadata": {},
   "outputs": [],
   "source": [
    "class population(object):\n",
    "    def __init__(self,n_cells=10,n_members=100):\n",
    "        self.n_pop = n_members     \n",
    "        self.members = [\n",
    "            chromosome(n=n_cells) for i in range(100)]\n",
    "        self.probs = None\n",
    "        self.best = None"
   ]
  },
  {
   "cell_type": "markdown",
   "id": "fa7d3044",
   "metadata": {},
   "source": [
    "12.\tRun the following code to create a `population` of 100 `chromosome` objects with 19 cells, and then print out its first member. Study and run the following code. "
   ]
  },
  {
   "cell_type": "markdown",
   "id": "b7f6bf37",
   "metadata": {},
   "source": [
    "**Answer**:"
   ]
  },
  {
   "cell_type": "code",
   "execution_count": 20,
   "id": "fd418c4a",
   "metadata": {},
   "outputs": [
    {
     "name": "stdout",
     "output_type": "stream",
     "text": [
      "permutation:[ 3 10 13 14  9 12  7  2  4  1  0  5 17  6  8 11 15 18 16]\n",
      "        Objective value = 61582674\n"
     ]
    }
   ],
   "source": [
    "pop = population(n_cells=19)\n",
    "print(pop.members[0])"
   ]
  },
  {
   "cell_type": "markdown",
   "id": "3ac15153",
   "metadata": {},
   "source": [
    "13.\tPay attention to the definition of `population` in step 11. Each object of `population` has two more properties that we have not completed yet, and they are just `None` for now. The first one is probs; which is short for probabilities. The second one is best which will hold the best `chromosome` in each object of the `population`.\n",
    "\n",
    "The following code creates the function `get_probs()` which takes in a population and returns the probability of its members being selected.\n",
    "```\n",
    "def get_probs(population):\n",
    "    work_df = pd.DataFrame(\n",
    "        {'obj': [chro.obj for chro in population]}\n",
    "    )\n",
    "    work_df['normalized'] = (\n",
    "        (work_df.obj - work_df.obj.min())\n",
    "        /\n",
    "        (work_df.obj.max() - work_df.obj.min())\n",
    "    )\n",
    "    work_df['score'] = 1 - work_df.normalized\n",
    "    total_score = work_df.score.sum()\n",
    "    work_df['prob'] = work_df.score/total_score\n",
    "    work_df = work_df.sort_values('prob',ascending=False)\n",
    "    work_df['cumalative'] = work_df.prob.cumsum()\n",
    "    return work_df[['prob','cumalative']]\n",
    "```\n",
    "After creating the function, running `get_probs(pop.members)` will use it to calculate the probability of selection for each of the chromosomes in `pop`. "
   ]
  },
  {
   "cell_type": "markdown",
   "id": "3a8c63d3",
   "metadata": {},
   "source": [
    "**Answer**:"
   ]
  },
  {
   "cell_type": "code",
   "execution_count": 21,
   "id": "e237d6cd",
   "metadata": {},
   "outputs": [],
   "source": [
    "def get_probs(population):\n",
    "    work_df = pd.DataFrame(\n",
    "        {'obj': [chro.obj for chro in population]}\n",
    "    )\n",
    "    work_df['normalized'] = (\n",
    "        (work_df.obj - work_df.obj.min())\n",
    "        /\n",
    "        (work_df.obj.max() - work_df.obj.min())\n",
    "    )\n",
    "    work_df['score'] = 1 - work_df.normalized\n",
    "    total_score = work_df.score.sum()\n",
    "    work_df['prob'] = work_df.score/total_score\n",
    "    work_df = work_df.sort_values('prob',ascending=False)\n",
    "    work_df['cumalative'] = work_df.prob.cumsum()\n",
    "    return work_df[['prob','cumalative']]"
   ]
  },
  {
   "cell_type": "code",
   "execution_count": 22,
   "id": "36bd2f25",
   "metadata": {},
   "outputs": [
    {
     "data": {
      "text/html": [
       "<div>\n",
       "<style scoped>\n",
       "    .dataframe tbody tr th:only-of-type {\n",
       "        vertical-align: middle;\n",
       "    }\n",
       "\n",
       "    .dataframe tbody tr th {\n",
       "        vertical-align: top;\n",
       "    }\n",
       "\n",
       "    .dataframe thead th {\n",
       "        text-align: right;\n",
       "    }\n",
       "</style>\n",
       "<table border=\"1\" class=\"dataframe\">\n",
       "  <thead>\n",
       "    <tr style=\"text-align: right;\">\n",
       "      <th></th>\n",
       "      <th>prob</th>\n",
       "      <th>cumalative</th>\n",
       "    </tr>\n",
       "  </thead>\n",
       "  <tbody>\n",
       "    <tr>\n",
       "      <th>75</th>\n",
       "      <td>0.020128</td>\n",
       "      <td>0.020128</td>\n",
       "    </tr>\n",
       "    <tr>\n",
       "      <th>23</th>\n",
       "      <td>0.018949</td>\n",
       "      <td>0.039077</td>\n",
       "    </tr>\n",
       "    <tr>\n",
       "      <th>36</th>\n",
       "      <td>0.018405</td>\n",
       "      <td>0.057482</td>\n",
       "    </tr>\n",
       "    <tr>\n",
       "      <th>64</th>\n",
       "      <td>0.018239</td>\n",
       "      <td>0.075721</td>\n",
       "    </tr>\n",
       "    <tr>\n",
       "      <th>47</th>\n",
       "      <td>0.017590</td>\n",
       "      <td>0.093312</td>\n",
       "    </tr>\n",
       "    <tr>\n",
       "      <th>...</th>\n",
       "      <td>...</td>\n",
       "      <td>...</td>\n",
       "    </tr>\n",
       "    <tr>\n",
       "      <th>51</th>\n",
       "      <td>0.003834</td>\n",
       "      <td>0.992071</td>\n",
       "    </tr>\n",
       "    <tr>\n",
       "      <th>12</th>\n",
       "      <td>0.003566</td>\n",
       "      <td>0.995638</td>\n",
       "    </tr>\n",
       "    <tr>\n",
       "      <th>10</th>\n",
       "      <td>0.003137</td>\n",
       "      <td>0.998775</td>\n",
       "    </tr>\n",
       "    <tr>\n",
       "      <th>17</th>\n",
       "      <td>0.001225</td>\n",
       "      <td>1.000000</td>\n",
       "    </tr>\n",
       "    <tr>\n",
       "      <th>97</th>\n",
       "      <td>0.000000</td>\n",
       "      <td>1.000000</td>\n",
       "    </tr>\n",
       "  </tbody>\n",
       "</table>\n",
       "<p>100 rows × 2 columns</p>\n",
       "</div>"
      ],
      "text/plain": [
       "        prob  cumalative\n",
       "75  0.020128    0.020128\n",
       "23  0.018949    0.039077\n",
       "36  0.018405    0.057482\n",
       "64  0.018239    0.075721\n",
       "47  0.017590    0.093312\n",
       "..       ...         ...\n",
       "51  0.003834    0.992071\n",
       "12  0.003566    0.995638\n",
       "10  0.003137    0.998775\n",
       "17  0.001225    1.000000\n",
       "97  0.000000    1.000000\n",
       "\n",
       "[100 rows x 2 columns]"
      ]
     },
     "execution_count": 22,
     "metadata": {},
     "output_type": "execute_result"
    }
   ],
   "source": [
    "get_probs(pop.members)"
   ]
  },
  {
   "cell_type": "markdown",
   "id": "38d598bb",
   "metadata": {},
   "source": [
    "14.\tNow that we have the function `get_probs()` working for us, let us complete the definition of the class of objects population. The following code is the complete version of populaiton. \n",
    "\n",
    "```\n",
    "class population(object):\n",
    "    def __init__(self,n_cells=19,n_members=100):\n",
    "        self.n_pop = n_members     \n",
    "        self.members = [\n",
    "            chromosome(n=n_cells) for i in range(100)]        \n",
    "        self.probs = get_probs(self.members)\n",
    "        self.best = self.members[self.probs.iloc[0].name]\n",
    "```\n",
    "Pay attention, how the code uses the calculated probablities to also find the best chromosome out of all the members. Now if you run the following code, you will have a populaiton and for all of its members we have a probablity value, and also we know what is the best chromosome among all members. Run the following code to give this a try.\n",
    "```\n",
    "pop = population()\n",
    "print(pop.best)\n",
    "```"
   ]
  },
  {
   "cell_type": "markdown",
   "id": "3ba64108",
   "metadata": {},
   "source": [
    "**Answer**:"
   ]
  },
  {
   "cell_type": "code",
   "execution_count": 23,
   "id": "11547d16",
   "metadata": {},
   "outputs": [],
   "source": [
    "class population(object):\n",
    "    def __init__(self,n_cells=19,n_members=100):\n",
    "        self.n_pop = n_members     \n",
    "        self.members = [\n",
    "            chromosome(n=n_cells) for i in range(n_members)]\n",
    "        \n",
    "        self.probs = get_probs(self.members)\n",
    "        self.best = self.members[self.probs.iloc[0].name]"
   ]
  },
  {
   "cell_type": "code",
   "execution_count": 24,
   "id": "8e197165",
   "metadata": {},
   "outputs": [
    {
     "name": "stdout",
     "output_type": "stream",
     "text": [
      "permutation:[18 16 13 12  3 10  7  4  2  8  1  0 17  9 15 14  6  5 11]\n",
      "        Objective value = 34116334\n"
     ]
    }
   ],
   "source": [
    "pop = population()\n",
    "print(pop.best)"
   ]
  },
  {
   "cell_type": "markdown",
   "id": "83c488ce",
   "metadata": {},
   "source": [
    "15.\tOne last time, we will improve the definition of the class `population`. We will add two capabilities. First, at its current state, the `population` can only create new populations randomly, but what if we need to create a population using members of chromosomes that we already have? This will be important when we want to create a future population from an existing one with some changes. \n",
    "\n",
    "Secondly, the new definition also has a function `pick_members()` that can randomly select members from the population using the probabilities we calculated in the previous step. Pay attention that `pick_members()` takes in n as the number of random members you’d like to pick.\n",
    "\n",
    "Study and then run the following code to create the improved population class.\n",
    "\n",
    "```\n",
    "class population(object):\n",
    "    def __init__(self,members = [],\n",
    "                 n_members=100, n_cells=19):               \n",
    "        if members:\n",
    "            self.n_cells = members[0].n\n",
    "            self.n_pop = len(members)\n",
    "            self.members = members\n",
    "        else:\n",
    "            self.n_cells = n_cells\n",
    "            self.n_pop = n_members\n",
    "            self.members = [chromosome(n=self.n_cells)\n",
    "                            for i in range(self.n_pop)]         \n",
    "        self.probs = get_probs(self.members)\n",
    "        self.best = self.members[self.probs.iloc[0].name]\n",
    "    def pick_members(self, n=1):\n",
    "        members = []\n",
    "        for random_num in np.random.random(n):\n",
    "            BM = (self.probs.cumalative>=random_num)\n",
    "            index = self.probs[BM].iloc[0].name\n",
    "            members.append(self.members[index])\n",
    "        return members    \n",
    "```\n",
    "\n",
    "Once you introduced the final version of population class to your local python environment, run the following code to give the new function `pick_members()` a try. Run it a few times to experience the randomness.\n",
    "```\n",
    "one_chro = pop.pick_members(n=1)[0]\n",
    "print(one_chro)\n",
    "```"
   ]
  },
  {
   "cell_type": "markdown",
   "id": "537e0f5c",
   "metadata": {},
   "source": [
    "**Answer**:"
   ]
  },
  {
   "cell_type": "code",
   "execution_count": 25,
   "id": "53d70b59",
   "metadata": {},
   "outputs": [],
   "source": [
    "class population(object):\n",
    "    def __init__(self,members = [],\n",
    "                 n_members=100, n_cells=19):               \n",
    "        if members:\n",
    "            self.n_cells = members[0].n\n",
    "            self.n_pop = len(members)\n",
    "            self.members = members\n",
    "        else:\n",
    "            self.n_cells = n_cells\n",
    "            self.n_pop = n_members\n",
    "            self.members = [chromosome(n=self.n_cells)\n",
    "                            for i in range(self.n_pop)]         \n",
    "        self.probs = get_probs(self.members)\n",
    "        self.best = self.members[self.probs.iloc[0].name]\n",
    "    def pick_members(self, n=1):\n",
    "        members = []\n",
    "        for random_num in np.random.random(n):\n",
    "            BM = (self.probs.cumalative>=random_num)\n",
    "            index = self.probs[BM].iloc[0].name\n",
    "            members.append(self.members[index])\n",
    "        return members    "
   ]
  },
  {
   "cell_type": "code",
   "execution_count": 26,
   "id": "056f130f",
   "metadata": {},
   "outputs": [],
   "source": [
    "pop = population()"
   ]
  },
  {
   "cell_type": "code",
   "execution_count": 27,
   "id": "a23fcf64",
   "metadata": {},
   "outputs": [
    {
     "name": "stdout",
     "output_type": "stream",
     "text": [
      "permutation:[13  6 16  3  9  2 12 10  5 15 14  4 17  0  7 11 18  8  1]\n",
      "        Objective value = 52107324\n"
     ]
    }
   ],
   "source": [
    "one_chro = pop.pick_members(n=1)[0]\n",
    "print(one_chro)"
   ]
  },
  {
   "cell_type": "markdown",
   "id": "212fc675",
   "metadata": {},
   "source": [
    "16.\tThe following code creates the function `mutate()` to perform the mutation operation that we discussed earlier. In this function, the input severity, which has a default value of 0.25, is the ratio of the cells that will be affected. As the number of cells of our chromosomes in this problem is 19, when the severity value is 0.25, the `n_changes` will be round(0.25*19) which is 5.\n",
    "\n",
    "```\n",
    "def mutate(chro,severity=0.25):\n",
    "    n_changes = int(np.round(severity*chro.n))\n",
    "    new_chro = chro.perm.copy()\n",
    "    for _ in range(n_changes):\n",
    "        random_cells = np.random.randint(0,n,2)\n",
    "        if random_cells[0] == random_cells[1]:\n",
    "            continue\n",
    "        keep = new_chro[random_cells[0]]\n",
    "        new_chro[random_cells[0]\n",
    "                ] = new_chro[random_cells[1]]\n",
    "        new_chro[random_cells[1]] = keep\n",
    "    return chromosome(new_chro.tolist())\n",
    "```\n",
    "\n",
    "After creating the function, run the following code to test it and experience the changes the function inflicts on the inputted chromosome. Run it a few times to also experience the randomness that is involved.\n",
    "```\n",
    "one_chro =pop.pick_members(n=1)[0]\n",
    "print(one_chro)\n",
    "print(mutate(one_chro))\n",
    "```\n"
   ]
  },
  {
   "cell_type": "markdown",
   "id": "08a3731b",
   "metadata": {},
   "source": [
    "**Answer**:"
   ]
  },
  {
   "cell_type": "code",
   "execution_count": 28,
   "id": "9167b086",
   "metadata": {},
   "outputs": [],
   "source": [
    "def mutate(chro,severity=0.25):\n",
    "    n_changes = int(np.round(severity*chro.n))\n",
    "    new_chro = chro.perm.copy()\n",
    "    for _ in range(n_changes):\n",
    "        random_cells = np.random.randint(0,n,2)\n",
    "        if random_cells[0] == random_cells[1]:\n",
    "            continue\n",
    "        keep = new_chro[random_cells[0]]\n",
    "        new_chro[random_cells[0]\n",
    "                ] = new_chro[random_cells[1]]\n",
    "        new_chro[random_cells[1]] = keep\n",
    "    return chromosome(new_chro.tolist())"
   ]
  },
  {
   "cell_type": "code",
   "execution_count": 29,
   "id": "299e24a3",
   "metadata": {},
   "outputs": [
    {
     "name": "stdout",
     "output_type": "stream",
     "text": [
      "permutation:[18 17 14  6  0  4  9  8 12  2  5 13  7 10  3  1 11 15 16]\n",
      "        Objective value = 68800120\n",
      "permutation:[18  1 13  6 17  4  9  8 15  2  5 14  7 10 12  0 11  3 16]\n",
      "        Objective value = 63269932\n"
     ]
    }
   ],
   "source": [
    "one_chro =pop.pick_members(n=1)[0]\n",
    "print(one_chro)\n",
    "print(mutate(one_chro))"
   ]
  },
  {
   "cell_type": "markdown",
   "id": "ed6c0c19",
   "metadata": {},
   "source": [
    "17.\tThe following code is the definition of the function `cross_over()` which takes in two chromosomes and applies ordered crossover on them as explained earlier. Run the following code to define the function in your local python environment.\n",
    "\n",
    "```\n",
    "def cross_over(chro1,chro2):\n",
    "    n_cells = chro1.n\n",
    "    n_change = int(np.round(n_cells/2))\n",
    "    randm_index = np.random.permutation(n_cells)\n",
    "    stay_chro1 = randm_index[:n_change]\n",
    "    stay_chro2 = randm_index[n_change:]\n",
    "    child1 = chro1.perm.copy()\n",
    "    child2 = chro2.perm.copy()\n",
    "    child1[stay_chro2] = -1\n",
    "    child2[stay_chro1] = -1\n",
    "    exist1 = [i for i in child1 if i!=-1]\n",
    "    exist2 = [i for i in child2 if i!=-1]\n",
    "    not_filled1 = chro1.perm[stay_chro2].tolist()\n",
    "    not_filled2 = chro2.perm[stay_chro1].tolist()\n",
    "    order1 = [i for i in chro2.perm if i in not_filled1]\n",
    "    order2 = [i for i in chro1.perm if i in not_filled2]\n",
    "    child1[sorted(stay_chro2)] = order1\n",
    "    child2[sorted(stay_chro1)] = order2\n",
    "    return (\n",
    "        chromosome(perm=child1.tolist()),\n",
    "        chromosome(perm=child2.tolist())\n",
    "    )\n",
    "```\n",
    "\n",
    "After creating the function, run the following code to experience how the function will impact the inputted chromosomes. Try running it a few times and studying the printout to also experience all the randomness that is involved.\n",
    "```\n",
    "chros = pop.pick_members(n=2)\n",
    "print(chros)\n",
    "print(cross_over(chros[0],chros[1]))\n",
    "```"
   ]
  },
  {
   "cell_type": "markdown",
   "id": "f977b3d3",
   "metadata": {},
   "source": [
    "**Answer**:"
   ]
  },
  {
   "cell_type": "code",
   "execution_count": 30,
   "id": "c5d20369",
   "metadata": {},
   "outputs": [],
   "source": [
    "def cross_over(chro1,chro2):\n",
    "    n_cells = chro1.n\n",
    "    n_change = int(np.round(n_cells/2))\n",
    "    randm_index = np.random.permutation(n_cells)\n",
    "    stay_chro1 = randm_index[:n_change]\n",
    "    stay_chro2 = randm_index[n_change:]\n",
    "    child1 = chro1.perm.copy()\n",
    "    child2 = chro2.perm.copy()\n",
    "    child1[stay_chro2] = -1\n",
    "    child2[stay_chro1] = -1\n",
    "    exist1 = [i for i in child1 if i!=-1]\n",
    "    exist2 = [i for i in child2 if i!=-1]\n",
    "    not_filled1 = chro1.perm[stay_chro2].tolist()\n",
    "    not_filled2 = chro2.perm[stay_chro1].tolist()\n",
    "    order1 = [i for i in chro2.perm if i in not_filled1]\n",
    "    order2 = [i for i in chro1.perm if i in not_filled2]\n",
    "    child1[sorted(stay_chro2)] = order1\n",
    "    child2[sorted(stay_chro1)] = order2\n",
    "    return (\n",
    "        chromosome(perm=child1.tolist()),\n",
    "        chromosome(perm=child2.tolist())\n",
    "    )"
   ]
  },
  {
   "cell_type": "code",
   "execution_count": 31,
   "id": "5f19ee88",
   "metadata": {},
   "outputs": [
    {
     "name": "stdout",
     "output_type": "stream",
     "text": [
      "[permutation:[ 3  8 13  4 11 15 18  0 17  5  2 10 12 14  7  1  9  6 16]\n",
      "        Objective value = 68070716, permutation:[18 17  1  7 15 13  8  5 16 12 14  4 11  2  3  6  9  0 10]\n",
      "        Objective value = 54285842]\n",
      "(permutation:[18  8  1  7 15 13  4  0 17  5  2 11 12 14  3 10  9  6 16]\n",
      "        Objective value = 53994580, permutation:[18 11  1  7 15 13  8  0 17  5  2  4 10 12  3  6 14  9 16]\n",
      "        Objective value = 62247800)\n"
     ]
    }
   ],
   "source": [
    "chros = pop.pick_members(n=2)\n",
    "print(chros)\n",
    "print(cross_over(chros[0],chros[1]))"
   ]
  },
  {
   "cell_type": "markdown",
   "id": "07a9bfc5",
   "metadata": {},
   "source": [
    "18.\tFinally, we are ready to run the main loop of GA algorithm. The following code uses a for-loop code for the GA’s evolution process. Running the code will randomly, but smartly (because of GA), create and test 10,000 different possible solutions, and will show you the best among them. Run the code and time how long it takes to run. If you’d like to see the best solution in each iteration of the GA’s main, make sure to uncomment `#print(pop.best)` before running the code.\n",
    "\n",
    "```\n",
    "n_pop =  100\n",
    "n_elit = np.round(0.05*n_pop).astype(int)\n",
    "n_new = np.round(0.1*n_pop).astype(int)\n",
    "n_mutate = np.round(0.2*n_pop).astype(int)\n",
    "n_cross = np.round(0.65*n_pop).astype(int)\n",
    "pop = population(n_members=n_pop, n_cells=19)\n",
    "for _ in range(100):\n",
    "    next_pop = pop.pick_members(n_elit-1)\n",
    "    next_pop.append(pop.best)\n",
    "    next_pop.extend(\n",
    "        [chromosome(n=19) for i in range(n_new)])\n",
    "    for _ in range(n_mutate):\n",
    "        next_pop.append(mutate(pop.pick_members()[0],\n",
    "                               severity=0.5))\n",
    "    for _ in range(n_cross//2+1):\n",
    "        chros = pop.pick_members(2)\n",
    "        next_pop.extend(\n",
    "            cross_over(chros[0],chros[1]))\n",
    "    while len(next_pop)>100:\n",
    "        next_pop.pop()\n",
    "    pop = population(members = next_pop)\n",
    "    #print(pop.best)\n",
    "print(pop.best)\n",
    "```"
   ]
  },
  {
   "cell_type": "markdown",
   "id": "ebcb2620",
   "metadata": {},
   "source": [
    "**Answer**:"
   ]
  },
  {
   "cell_type": "code",
   "execution_count": 32,
   "id": "ca0f2e28",
   "metadata": {},
   "outputs": [
    {
     "name": "stdout",
     "output_type": "stream",
     "text": [
      "permutation:[ 4  8  9  6 18 13 16  2  5 11 10  3 17  7 15 14  1  0 12]\n",
      "        Objective value = 20858590\n",
      "Wall time: 3.63 s\n"
     ]
    }
   ],
   "source": [
    "%%time\n",
    "n_pop =  100\n",
    "n_elit = np.round(0.05*n_pop).astype(int)\n",
    "n_new = np.round(0.1*n_pop).astype(int)\n",
    "n_mutate = np.round(0.2*n_pop).astype(int)\n",
    "n_cross = np.round(0.65*n_pop).astype(int)\n",
    "pop = population(n_members=n_pop, n_cells=19)\n",
    "\n",
    "for _ in range(100):\n",
    "    next_pop = pop.pick_members(n_elit-1)\n",
    "    next_pop.append(pop.best)\n",
    "    next_pop.extend(\n",
    "        [chromosome(n=19) for i in range(n_new)])\n",
    "    for _ in range(n_mutate):\n",
    "        next_pop.append(mutate(pop.pick_members()[0],\n",
    "                               severity=0.5))\n",
    "    for _ in range(n_cross//2+1):\n",
    "        chros = pop.pick_members(2)\n",
    "        next_pop.extend(\n",
    "            cross_over(chros[0],chros[1]))\n",
    "    while len(next_pop)>100:\n",
    "        next_pop.pop()\n",
    "    pop = population(members = next_pop)\n",
    "    #print(pop.best)\n",
    "print(pop.best)"
   ]
  },
  {
   "cell_type": "markdown",
   "id": "0fb5c9b9",
   "metadata": {},
   "source": [
    "The loop takes about a 3 and half seconds to complete."
   ]
  },
  {
   "cell_type": "markdown",
   "id": "da01ff4a",
   "metadata": {},
   "source": [
    "19.\tWhen I ran the above code on my computer the best solution found was **[15,14,7,6,18,13,16,4,8,17,9,12,5,3,11,10,2,0,1]** and its objective value was **20,876,894**. It took my computer **3.55** seconds to complete it. Pay attention as GA is a random algorithm you may get a completely different solution, maybe even better or worse. \n",
    "\n",
    "Even though we were not able to find the optimal solution whose objective value is 17,212,548, we are still doing much better than just a random search. It is very simple to confirm that GA is making a difference. Run the code in the previous step a few times, and note the range of best solutions you will find. After that, run the following code a few times, and again note the range of different best solutions you will find. Pay attention to the following code blindly generate 10,000 possible random solutions and test them.\n",
    "```\n",
    "pop = population(n_members=10000, n_cells=19)\n",
    "pop.best\n",
    "```\n",
    "What is your conclusion?\n"
   ]
  },
  {
   "cell_type": "markdown",
   "id": "c6336688",
   "metadata": {},
   "source": [
    "**Answer**:"
   ]
  },
  {
   "cell_type": "code",
   "execution_count": 46,
   "id": "2d19232a",
   "metadata": {},
   "outputs": [
    {
     "name": "stdout",
     "output_type": "stream",
     "text": [
      "Wall time: 551 ms\n"
     ]
    },
    {
     "data": {
      "text/plain": [
       "permutation:[15 14  8 11  4 10  9 13 12  6 18  2 16 17  3  5  7  0  1]\n",
       "        Objective value = 27475244"
      ]
     },
     "execution_count": 46,
     "metadata": {},
     "output_type": "execute_result"
    }
   ],
   "source": [
    "%%time\n",
    "pop = population(n_members=10000, n_cells=19)\n",
    "pop.best"
   ]
  },
  {
   "cell_type": "markdown",
   "id": "72f26129",
   "metadata": {},
   "source": [
    "The conclusion is with the same number of randomly testing out possible solutions GA directs the randomness toward finding better solutions than just blindly testing out random solutions."
   ]
  },
  {
   "cell_type": "markdown",
   "id": "d4c67229",
   "metadata": {},
   "source": [
    "20.\tSo far we were able to experience the positive impact of the Genetic Algorithm in this challenge, however, learning Genetic Algorithm is our second priority, in this challenge we want to learn about the impact of V&B, specifically the matrix multiplication. This can be done by a simple change in the definition of the class chromosome. In the following code you can see, `Z_vb()` has been replaced with `Z_loop()`. This change essentially forces python to use a looping paradigm instead of matrix multiplication to calculate the objective value for each possible solution.\n",
    "\n",
    "```\n",
    "class chromosome(object):\n",
    "    def __init__(self,perm = [],n=19):\n",
    "        self.n = n\n",
    "        if perm:\n",
    "            self.perm = np.array(perm)\n",
    "        else:\n",
    "            self.perm = np.random.permutation(self.n)\n",
    "        self.X = get_matrix(self.perm)\n",
    "        self.obj = Z_loop(self.X)\n",
    "    def __repr__(self):\n",
    "        rep = f'''permutation:{self.perm}\n",
    "        Objective value = {self.obj}'''\n",
    "        return rep\n",
    "```\n",
    "\n",
    "Run the preceding code, and then run the main GA loop in step 18. Note how long your code takes to run. What is your conclusion?\n"
   ]
  },
  {
   "cell_type": "markdown",
   "id": "471b4441",
   "metadata": {},
   "source": [
    "**Answer**:"
   ]
  },
  {
   "cell_type": "code",
   "execution_count": 47,
   "id": "17556891",
   "metadata": {},
   "outputs": [],
   "source": [
    "class chromosome(object):\n",
    "    def __init__(self,perm = [],n=19):\n",
    "        self.n = n\n",
    "        if perm:\n",
    "            self.perm = np.array(perm)\n",
    "        else:\n",
    "            self.perm = np.random.permutation(self.n)\n",
    "        self.X = get_matrix(self.perm)\n",
    "        self.obj = Z_loop(self.X)\n",
    "    def __repr__(self):\n",
    "        rep = f'''permutation:{self.perm}\n",
    "        Objective value = {self.obj}'''\n",
    "        return rep"
   ]
  },
  {
   "cell_type": "code",
   "execution_count": 48,
   "id": "5bceca23",
   "metadata": {},
   "outputs": [
    {
     "name": "stdout",
     "output_type": "stream",
     "text": [
      "permutation:[13 18  8  6 11  7  3  5 16 17  0  2 10 12  9  4 14 15  1]\n",
      "        Objective value = 24981292\n",
      "Wall time: 46.1 s\n"
     ]
    }
   ],
   "source": [
    "%%time\n",
    "n_pop =  100\n",
    "n_elit = np.round(0.05*n_pop).astype(int)\n",
    "n_new = np.round(0.1*n_pop).astype(int)\n",
    "n_mutate = np.round(0.2*n_pop).astype(int)\n",
    "n_cross = np.round(0.65*n_pop).astype(int)\n",
    "pop = population(n_members=n_pop, n_cells=19)\n",
    "\n",
    "for _ in range(100):\n",
    "    next_pop = pop.pick_members(n_elit-1)\n",
    "    next_pop.append(pop.best)\n",
    "    next_pop.extend(\n",
    "        [chromosome(n=19) for i in range(n_new)])\n",
    "    for _ in range(n_mutate):\n",
    "        next_pop.append(mutate(pop.pick_members()[0],\n",
    "                               severity=0.5))\n",
    "    for _ in range(n_cross//2+1):\n",
    "        chros = pop.pick_members(2)\n",
    "        next_pop.extend(\n",
    "            cross_over(chros[0],chros[1]))\n",
    "    while len(next_pop)>100:\n",
    "        next_pop.pop()\n",
    "    pop = population(members = next_pop)\n",
    "    #print(pop.best)\n",
    "print(pop.best)"
   ]
  },
  {
   "cell_type": "markdown",
   "id": "41bf90f3",
   "metadata": {},
   "source": [
    "The conclusion is that the very same analytic performance we got before took about 12 times more to run. This shows the extent to which we can gain performance improvement when we can take advantage of matrix multiplication."
   ]
  },
  {
   "cell_type": "code",
   "execution_count": null,
   "id": "63c7a1bb",
   "metadata": {},
   "outputs": [],
   "source": []
  }
 ],
 "metadata": {
  "kernelspec": {
   "display_name": "Python 3 (ipykernel)",
   "language": "python",
   "name": "python3"
  },
  "language_info": {
   "codemirror_mode": {
    "name": "ipython",
    "version": 3
   },
   "file_extension": ".py",
   "mimetype": "text/x-python",
   "name": "python",
   "nbconvert_exporter": "python",
   "pygments_lexer": "ipython3",
   "version": "3.12.4"
  }
 },
 "nbformat": 4,
 "nbformat_minor": 5
}
