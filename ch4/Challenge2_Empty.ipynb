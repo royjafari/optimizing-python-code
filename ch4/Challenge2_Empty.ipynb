{
 "cells": [
  {
   "cell_type": "markdown",
   "id": "ce388ff2",
   "metadata": {},
   "source": [
    "## Optimizing the Python Code for Big Data \n",
    "Balancing Coding Complexity against Computational Complexity \n",
    "    \n",
    "    AUTHOR: Dr. Roy Jafari \n",
    "\n",
    "# Chapter 4: Taking Advantage of Vectorization and Broadcasting (V&B) \n",
    "\n",
    "## Challenge 2: V&B or Boolean Masking?"
   ]
  },
  {
   "cell_type": "markdown",
   "id": "d1d85dc3",
   "metadata": {},
   "source": [
    "In this challenge, we will experience the performance difference between V&B and Boolean masking. We will, also, get to practice what we learned in Challenge 1. So, let’s go! Answer the following questions and do the following tasks.\n",
    "\n",
    "1.\tThe following piece of code creates `person_df` which is a pandas DataFrame filled with random values of `Height` in centimeters and `Weight` in kilograms. "
   ]
  },
  {
   "cell_type": "code",
   "execution_count": null,
   "id": "9d1151a3",
   "metadata": {},
   "outputs": [],
   "source": [
    "import pandas as pd\n",
    "import numpy as np\n",
    "n_rows = 10**7\n",
    "person_df = pd.DataFrame(index=range(n_rows), \n",
    "                         columns=['Height','Weight'])\n",
    "person_df.Height = np.random.normal(178,10,n_rows)\n",
    "person_df.Weight = np.random.normal(83,7,n_rows)\n",
    "print(person_df)"
   ]
  },
  {
   "cell_type": "markdown",
   "id": "da226c94",
   "metadata": {},
   "source": [
    "2. We want to add a third column to `person_df`. The third column will be titled `BMI` which is Body Mass Index (BMI) and is calculated from the `Height` and `Weight` of an individual. `BMI` is calculated from the following formula. In this formula, weight must be in kilograms, and height must in meters. \n",
    "\n",
    "$\\frac{Weight}{Height^2}$\n",
    "\n",
    "The calculation that is needed to add BMI can be done using any of the four methods that we studied in Challenge 1. Which one should we use it? Calculate the BMI and add it as the third column to `person_df`. \n"
   ]
  },
  {
   "cell_type": "markdown",
   "id": "1933f9cd",
   "metadata": {},
   "source": [
    "**Answer**: "
   ]
  },
  {
   "cell_type": "code",
   "execution_count": null,
   "id": "d2d4c449-85d4-4f92-ae47-11acd7225127",
   "metadata": {},
   "outputs": [],
   "source": []
  },
  {
   "cell_type": "markdown",
   "id": "15e586a2",
   "metadata": {},
   "source": [
    "3.\tThe following code adds a fourth column to `person_df` and that is `Gender`. Run the following code to get this done. \n",
    "\n",
    "```\n",
    "person_df['Gender'] = np.random.binomial(1,0.5,n_rows)\n",
    "print(person_df)\n",
    "```"
   ]
  },
  {
   "cell_type": "markdown",
   "id": "1a5a9b37-31ef-4f87-9471-ca00b907247c",
   "metadata": {},
   "source": [
    "**Answer**: "
   ]
  },
  {
   "cell_type": "code",
   "execution_count": null,
   "id": "65dcc4da-ac11-49fd-8ab8-d0c80dc9baa1",
   "metadata": {},
   "outputs": [],
   "source": []
  },
  {
   "cell_type": "markdown",
   "id": "1e7d6b07",
   "metadata": {},
   "source": [
    "4.\tThe fifth column we will add to `person_df` is `Gender_Letter`. In this new column, we will either have the character `F` or `M` when the value of `Gender` is `1` or `0`, respectively. This can be done in many different ways, but some of them are much more performant than other. The following five pieces of code do this task. Study them, and reason which ones should be the fastest and mention why.\n",
    "\n",
    "The following code uses the mapping a function method.\n",
    "```\n",
    "person_df['Gender_Letter'] = (\n",
    "    list(map(\n",
    "        lambda v: 'M' if v==0 else 'F',\n",
    "        person_df.Gender))\n",
    ")\n",
    "```\n",
    "\n",
    "The following code uses Boolean Masking.\n",
    "```\n",
    "BM = person_df.Gender == 0\n",
    "person_df['Gender_Letter'] = None\n",
    "person_df.loc[person_df[BM].index,'Gender_Letter'] ='M'\n",
    "person_df.loc[person_df[~BM].index,'Gender_Letter'] ='F'\n",
    "```\n",
    "\n",
    "The following code uses the `.replace()` function of the pandas Series `persond_df.Gender`.\n",
    "```\n",
    "person_df['Gender_Letter'] = person_df.Gender.replace({0:'M',1:'F'})\n",
    "```\n",
    "\n",
    "The following code uses the `.where()` function from the numpy module.\n",
    "```\n",
    "person_df['Gender_Letter'] = np.where(person_df.Gender==0,'M','F')\n",
    "```"
   ]
  },
  {
   "cell_type": "markdown",
   "id": "c51da565",
   "metadata": {},
   "source": [
    "**Answer**: \n",
    "\n"
   ]
  },
  {
   "cell_type": "code",
   "execution_count": null,
   "id": "37244666-5f37-493a-b317-54bbeb2f6896",
   "metadata": {},
   "outputs": [],
   "source": []
  },
  {
   "cell_type": "markdown",
   "id": "53e77042",
   "metadata": {},
   "source": [
    "5.\tRun the four pieces of code in Step 4 to see if you were right. Report your findings.\n",
    "\n",
    "To record how much each piece of code takes to run you may use the module `time`. Even better, if you are using Jupyter Notebook you may just use its `%%time` magic command. All you need is to add the magic command at the first line of the chunk of code. For instance, the following chunk of code shows how Jupyter Notebook timed the first piece of the code from Step 4 for me. \n"
   ]
  },
  {
   "cell_type": "markdown",
   "id": "4e198086",
   "metadata": {},
   "source": [
    "**Answer**: "
   ]
  },
  {
   "cell_type": "code",
   "execution_count": null,
   "id": "f62e2602-bdaf-4add-b28a-280fb3a45234",
   "metadata": {},
   "outputs": [],
   "source": []
  },
  {
   "cell_type": "markdown",
   "id": "fcbe5941",
   "metadata": {},
   "source": [
    "6.\tWe will add a sixth column to `person_df` in this step, and we will call it `Status`. This column will specify if a person is *Healthy*, *Overweight*, or *Underweight* based on their `BMI` and `Gender`. If a female’s `BMI` is lower than 19 they are underweight and if over 24 they are overweight, otherwise they are healthy. On the other hand, if a male’s `BMI` is between 20 and 25, they are healthy, if lower than 20 they are underweight, and if over 25 they are overweight. To save space, we will use `H` for *Healthy*, `O` for *Overweight*, and `U` for *Underweight* in the column `Status`.\n",
    "\n",
    "You will get to create this new column with the following three different methods: mapping a function, Boolean Masking, and `np.where()`. Before actually implementing these methods, which one do you think will end up performing the fastest? Which one will be the slowest? What are your reasons?"
   ]
  },
  {
   "cell_type": "markdown",
   "id": "702ff4d9",
   "metadata": {},
   "source": [
    "**Answer**: \n"
   ]
  },
  {
   "cell_type": "code",
   "execution_count": null,
   "id": "c56b8685-6731-48cb-b41c-dea06e3daf35",
   "metadata": {},
   "outputs": [],
   "source": []
  },
  {
   "cell_type": "markdown",
   "id": "13c0cee8",
   "metadata": {},
   "source": [
    "7.\tImplement the three methods in Step 6 and time how long do they take to complete? Were you right about which one was the fastest and slowest? "
   ]
  },
  {
   "cell_type": "markdown",
   "id": "8c4d0fee-c950-4757-9131-f996ec702521",
   "metadata": {},
   "source": [
    "**Answer**: "
   ]
  },
  {
   "cell_type": "code",
   "execution_count": null,
   "id": "38e34901-594e-4bd8-84e6-ca853c238272",
   "metadata": {},
   "outputs": [],
   "source": []
  },
  {
   "cell_type": "markdown",
   "id": "d11dc14c",
   "metadata": {},
   "source": [
    "8.\tAmong the methods we used in this challenge, which one of them should be regarded as V&B, and how come?"
   ]
  },
  {
   "cell_type": "markdown",
   "id": "3d2bd25a",
   "metadata": {},
   "source": [
    "**Answer**: "
   ]
  },
  {
   "cell_type": "code",
   "execution_count": null,
   "id": "ea42690d-5605-450a-b201-c3e090a926a3",
   "metadata": {},
   "outputs": [],
   "source": []
  },
  {
   "cell_type": "markdown",
   "id": "038d6cab",
   "metadata": {},
   "source": [
    "9.\tFrom your experience in this challenge, If you were to come up with a guideline for your future self to help in deciding between V&B and Boolean masking what that guidline would be?"
   ]
  },
  {
   "cell_type": "markdown",
   "id": "1fbe3462",
   "metadata": {},
   "source": [
    "**Answer**:"
   ]
  },
  {
   "cell_type": "code",
   "execution_count": null,
   "id": "276943fa",
   "metadata": {},
   "outputs": [],
   "source": []
  }
 ],
 "metadata": {
  "kernelspec": {
   "display_name": "Python 3 (ipykernel)",
   "language": "python",
   "name": "python3"
  },
  "language_info": {
   "codemirror_mode": {
    "name": "ipython",
    "version": 3
   },
   "file_extension": ".py",
   "mimetype": "text/x-python",
   "name": "python",
   "nbconvert_exporter": "python",
   "pygments_lexer": "ipython3",
   "version": "3.12.4"
  }
 },
 "nbformat": 4,
 "nbformat_minor": 5
}
