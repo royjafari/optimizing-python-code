{
 "cells": [
  {
   "cell_type": "markdown",
   "id": "ce388ff2",
   "metadata": {},
   "source": [
    "## Optimizing the Python Code for Big Data \n",
    "Balancing Coding Complexity against Computational Complexity \n",
    "    \n",
    "    AUTHOR: Dr. Roy Jafari \n",
    "\n",
    "# Chapter 4: Taking Advantage of Vectorization and Broadcasting (V&B) \n",
    "\n",
    "## Challenge 2: V&B or Boolean Masking?"
   ]
  },
  {
   "cell_type": "markdown",
   "id": "d1d85dc3",
   "metadata": {},
   "source": [
    "In this challenge, we will experience the performance difference between V&B and Boolean masking. We will, also, get to practice what we learned in Challenge 1. So, let’s go! Answer the following questions and do the following tasks.\n",
    "\n",
    "1.\tThe following piece of code creates `person_df` which is a pandas DataFrame filled with random values of `Height` in centimeters and `Weight` in kilograms. "
   ]
  },
  {
   "cell_type": "code",
   "execution_count": 1,
   "id": "9d1151a3",
   "metadata": {},
   "outputs": [
    {
     "name": "stdout",
     "output_type": "stream",
     "text": [
      "             Height     Weight\n",
      "0        172.235367  91.573935\n",
      "1        186.842833  89.136227\n",
      "2        167.911872  69.420926\n",
      "3        169.689645  89.714543\n",
      "4        162.223785  96.863881\n",
      "...             ...        ...\n",
      "9999995  175.528332  81.675227\n",
      "9999996  182.814207  79.911403\n",
      "9999997  182.241537  88.957153\n",
      "9999998  180.586609  82.469872\n",
      "9999999  178.056192  77.360083\n",
      "\n",
      "[10000000 rows x 2 columns]\n"
     ]
    }
   ],
   "source": [
    "import pandas as pd\n",
    "import numpy as np\n",
    "n_rows = 10**7\n",
    "person_df = pd.DataFrame(index=range(n_rows), \n",
    "                         columns=['Height','Weight'])\n",
    "person_df.Height = np.random.normal(178,10,n_rows)\n",
    "person_df.Weight = np.random.normal(83,7,n_rows)\n",
    "print(person_df)"
   ]
  },
  {
   "cell_type": "markdown",
   "id": "da226c94",
   "metadata": {},
   "source": [
    "2. We want to add a third column to `person_df`. The third column will be titled `BMI` which is Body Mass Index (BMI) and is calculated from the `Height` and `Weight` of an individual. `BMI` is calculated from the following formula. In this formula, weight must be in kilograms, and height must in meters. \n",
    "\n",
    "$\\frac{Weight}{Height^2}$\n",
    "\n",
    "The calculation that is needed to add BMI can be done using any of the four methods that we studied in Challenge 1. Which one should we use it? Calculate the BMI and add it as the third column to `person_df`. \n"
   ]
  },
  {
   "cell_type": "markdown",
   "id": "1933f9cd",
   "metadata": {},
   "source": [
    "**Answer**: Obviously, from what we learned from Challenge 1, it is obvious that V&B will lead to the best performance. "
   ]
  },
  {
   "cell_type": "code",
   "execution_count": 2,
   "id": "446755e1",
   "metadata": {},
   "outputs": [
    {
     "name": "stdout",
     "output_type": "stream",
     "text": [
      "             Height     Weight        BMI\n",
      "0        172.235367  91.573935  30.869330\n",
      "1        186.842833  89.136227  25.532971\n",
      "2        167.911872  69.420926  24.622242\n",
      "3        169.689645  89.714543  31.156751\n",
      "4        162.223785  96.863881  36.807202\n",
      "...             ...        ...        ...\n",
      "9999995  175.528332  81.675227  26.509156\n",
      "9999996  182.814207  79.911403  23.910511\n",
      "9999997  182.241537  88.957153  26.784660\n",
      "9999998  180.586609  82.469872  25.288568\n",
      "9999999  178.056192  77.360083  24.400727\n",
      "\n",
      "[10000000 rows x 3 columns]\n"
     ]
    }
   ],
   "source": [
    "person_df['BMI'] =(\n",
    "    person_df.Weight / \n",
    "    (person_df.Height/100)**2\n",
    ")  \n",
    "print(person_df)"
   ]
  },
  {
   "cell_type": "markdown",
   "id": "15e586a2",
   "metadata": {},
   "source": [
    "3.\tThe following code adds a fourth column to `person_df` and that is `Gender`. Run the following code to get this done. \n",
    "\n",
    "```\n",
    "person_df['Gender'] = np.random.binomial(1,0.5,n_rows)\n",
    "print(person_df)\n",
    "```"
   ]
  },
  {
   "cell_type": "code",
   "execution_count": 3,
   "id": "e84bf7ec",
   "metadata": {},
   "outputs": [
    {
     "name": "stdout",
     "output_type": "stream",
     "text": [
      "             Height     Weight        BMI  Gender\n",
      "0        172.235367  91.573935  30.869330       1\n",
      "1        186.842833  89.136227  25.532971       1\n",
      "2        167.911872  69.420926  24.622242       1\n",
      "3        169.689645  89.714543  31.156751       0\n",
      "4        162.223785  96.863881  36.807202       0\n",
      "...             ...        ...        ...     ...\n",
      "9999995  175.528332  81.675227  26.509156       1\n",
      "9999996  182.814207  79.911403  23.910511       0\n",
      "9999997  182.241537  88.957153  26.784660       0\n",
      "9999998  180.586609  82.469872  25.288568       0\n",
      "9999999  178.056192  77.360083  24.400727       1\n",
      "\n",
      "[10000000 rows x 4 columns]\n"
     ]
    }
   ],
   "source": [
    "person_df['Gender'] = np.random.binomial(1,0.5,n_rows)\n",
    "print(person_df)"
   ]
  },
  {
   "cell_type": "markdown",
   "id": "1e7d6b07",
   "metadata": {},
   "source": [
    "4.\tThe fifth column we will add to `person_df` is `Gender_Letter`. In this new column, we will either have the character `F` or `M` when the value of `Gender` is `1` or `0`, respectively. This can be done in many different ways, but some of them are much more performant than other. The following five pieces of code do this task. Study them, and reason which ones should be the fastest and mention why.\n",
    "\n",
    "The following code uses the mapping a function method.\n",
    "```\n",
    "person_df['Gender_Letter'] = (\n",
    "    list(map(\n",
    "        lambda v: 'M' if v==0 else 'F',\n",
    "        person_df.Gender))\n",
    ")\n",
    "```\n",
    "\n",
    "The following code uses Boolean Masking.\n",
    "```\n",
    "BM = person_df.Gender == 0\n",
    "person_df['Gender_Letter'] = None\n",
    "person_df.loc[person_df[BM].index,'Gender_Letter'] ='M'\n",
    "person_df.loc[person_df[~BM].index,'Gender_Letter'] ='F'\n",
    "```\n",
    "\n",
    "The following code uses the `.replace()` function of the pandas Series `persond_df.Gender`.\n",
    "```\n",
    "person_df['Gender_Letter'] = person_df.Gender.replace({0:'M',1:'F'})\n",
    "```\n",
    "\n",
    "The following code uses the `.where()` function from the numpy module.\n",
    "```\n",
    "person_df['Gender_Letter'] = np.where(person_df.Gender==0,'M','F')\n",
    "```"
   ]
  },
  {
   "cell_type": "markdown",
   "id": "c51da565",
   "metadata": {},
   "source": [
    "**Answer**: \n",
    "\n",
    "One of the following two methods or both should be the fastest. \n",
    "- using the `.replace()` function of the pandas Series `persond_df.Gender`.\n",
    "- using the `.where()` function from the NumPy module.\n",
    "\n",
    "The reason these two methods will be more performant is that they outsource the task to the pandas or NumPy module, and they can access lower-level computer programing and also use V&B.  \n"
   ]
  },
  {
   "cell_type": "markdown",
   "id": "53e77042",
   "metadata": {},
   "source": [
    "5.\tRun the four pieces of code in Step 4 to see if you were right. Report your findings.\n",
    "\n",
    "To record how much each piece of code takes to run you may use the module `time`. Even better, if you are using Jupyter Notebook you may just use its `%%time` magic command. All you need is to add the magic command at the first line of the chunk of code. For instance, the following chunk of code shows how Jupyter Notebook timed the first piece of the code from Step 4 for me. \n"
   ]
  },
  {
   "cell_type": "code",
   "execution_count": 4,
   "id": "7f3da3d7",
   "metadata": {},
   "outputs": [
    {
     "name": "stdout",
     "output_type": "stream",
     "text": [
      "Wall time: 5.5 s\n"
     ]
    }
   ],
   "source": [
    "%%time\n",
    "person_df['Gender_Letter'] = (\n",
    "    list(map(\n",
    "        lambda v: 'M' if v==0 else 'F',\n",
    "        person_df.Gender))\n",
    ")"
   ]
  },
  {
   "cell_type": "code",
   "execution_count": 5,
   "id": "84515adc",
   "metadata": {},
   "outputs": [
    {
     "name": "stdout",
     "output_type": "stream",
     "text": [
      "Wall time: 4.56 s\n"
     ]
    }
   ],
   "source": [
    "%%time\n",
    "BM = person_df.Gender == 0\n",
    "person_df['Gender_Letter'] = None\n",
    "person_df.loc[person_df[BM].index,'Gender_Letter'] ='M'\n",
    "person_df.loc[person_df[~BM].index,'Gender_Letter'] ='F'"
   ]
  },
  {
   "cell_type": "code",
   "execution_count": 6,
   "id": "22825f65",
   "metadata": {},
   "outputs": [
    {
     "name": "stdout",
     "output_type": "stream",
     "text": [
      "Wall time: 1.21 s\n"
     ]
    }
   ],
   "source": [
    "%%time\n",
    "person_df['Gender_Letter'] = person_df.Gender.replace({0:'M',1:'F'})"
   ]
  },
  {
   "cell_type": "code",
   "execution_count": 7,
   "id": "3ae298a1",
   "metadata": {},
   "outputs": [
    {
     "name": "stdout",
     "output_type": "stream",
     "text": [
      "Wall time: 509 ms\n"
     ]
    }
   ],
   "source": [
    "%%time\n",
    "person_df['Gender_Letter'] = np.where(person_df.Gender==0,'M','F')"
   ]
  },
  {
   "cell_type": "markdown",
   "id": "4e198086",
   "metadata": {},
   "source": [
    "**Answer**: As expected `.replace()` and `np.where()` were the most performant methods. We even learned that `np.where()` was twice better than `.replace()`. The reason is probably that panda does not use the underlying numpy methods for this function."
   ]
  },
  {
   "cell_type": "markdown",
   "id": "fcbe5941",
   "metadata": {},
   "source": [
    "6.\tWe will add a sixth column to `person_df` in this step, and we will call it `Status`. This column will specify if a person is *Healthy*, *Overweight*, or *Underweight* based on their `BMI` and `Gender`. If a female’s `BMI` is lower than 19 they are underweight and if over 24 they are overweight, otherwise they are healthy. On the other hand, if a male’s `BMI` is between 20 and 25, they are healthy, if lower than 20 they are underweight, and if over 25 they are overweight. To save space, we will use `H` for *Healthy*, `O` for *Overweight*, and `U` for *Underweight* in the column `Status`.\n",
    "\n",
    "You will get to create this new column with the following three different methods: mapping a function, Boolean Masking, and `np.where()`. Before actually implementing these methods, which one do you think will end up performing the fastest? Which one will be the slowest? What are your reasons?"
   ]
  },
  {
   "cell_type": "markdown",
   "id": "702ff4d9",
   "metadata": {},
   "source": [
    "**Answer**: `np.where()` will be the fastest and mapping a function will be the slowest based on what we experienced in step 5."
   ]
  },
  {
   "cell_type": "markdown",
   "id": "13c0cee8",
   "metadata": {},
   "source": [
    "7.\tImplement the three methods in Step 6 and time how long do they take to complete? Were you right about which one was the fastest and slowest? "
   ]
  },
  {
   "cell_type": "code",
   "execution_count": 8,
   "id": "3b7e576f",
   "metadata": {},
   "outputs": [
    {
     "name": "stdout",
     "output_type": "stream",
     "text": [
      "Wall time: 11 s\n"
     ]
    }
   ],
   "source": [
    "%%time\n",
    "def specify_status(g,bmi):\n",
    "    if g=='F':\n",
    "        if bmi<19:\n",
    "            return 'U'\n",
    "        elif bmi>24:\n",
    "            return 'O'\n",
    "        else:\n",
    "            return 'H'\n",
    "    else:\n",
    "        if bmi<20:\n",
    "            return 'U'\n",
    "        elif bmi>25:\n",
    "            return 'O'\n",
    "        else:\n",
    "            return 'H'\n",
    "\n",
    "person_df['Status'] = (\n",
    "    list(\n",
    "        map(        \n",
    "            specify_status,\n",
    "            person_df.Gender_Letter,\n",
    "            person_df.BMI\n",
    "        )\n",
    "    )\n",
    ")"
   ]
  },
  {
   "cell_type": "code",
   "execution_count": 9,
   "id": "6bcc9331",
   "metadata": {},
   "outputs": [
    {
     "name": "stdout",
     "output_type": "stream",
     "text": [
      "Wall time: 17.5 s\n"
     ]
    }
   ],
   "source": [
    "%%time\n",
    "g = person_df.Gender_Letter\n",
    "bmi = person_df.BMI\n",
    "\n",
    "BM_H = (( (g=='F') & ((bmi>=19) | (bmi<=24)))\n",
    "        |\n",
    "         ((g=='M') & ((bmi>=20) | (bmi<=25)))\n",
    "       )\n",
    "BM_O = (((g=='F') & (bmi>24))\n",
    "        |\n",
    "        ((g=='M') & (bmi>25))\n",
    "       )\n",
    "BM_U = (((g=='F') & (bmi<19))\n",
    "        |\n",
    "        ((g=='M') & (bmi<20))\n",
    "       )\n",
    "\n",
    "person_df['Status'] = None\n",
    "person_df.loc[person_df[BM_H].index,'Status'] ='H'\n",
    "person_df.loc[person_df[BM_O].index,'Status'] ='O'\n",
    "person_df.loc[person_df[BM_U].index,'Status'] ='U'"
   ]
  },
  {
   "cell_type": "code",
   "execution_count": 10,
   "id": "febe322f",
   "metadata": {},
   "outputs": [
    {
     "name": "stdout",
     "output_type": "stream",
     "text": [
      "Wall time: 2.6 s\n"
     ]
    }
   ],
   "source": [
    "%%time\n",
    "g = person_df.Gender_Letter\n",
    "bmi = person_df.BMI\n",
    "person_df['Status'] =(\n",
    "    np.where(\n",
    "        g=='F',\n",
    "        np.where(bmi<19,'U',np.where(bmi<=24,'H','O')),\n",
    "        np.where(bmi<20,'U',np.where(bmi<=25,'H','O'))\n",
    "    )\n",
    ") "
   ]
  },
  {
   "cell_type": "markdown",
   "id": "5496477d",
   "metadata": {},
   "source": [
    "**Answer**: I was right about `np.where()` being the fastest, but mapping the function was not the slowest, boolean masking was. The reason that I was mistaken is that I didn't pay attention to two things. First, to calculate boolean masks we need 7 to 11 V&B tasks. Even though one V&B is fast but multiple ones will lead to higher times. Second, updating person_df using boolean masks will also take some time. The following two chunks of code show this."
   ]
  },
  {
   "cell_type": "code",
   "execution_count": 11,
   "id": "435c2c5d",
   "metadata": {},
   "outputs": [
    {
     "name": "stdout",
     "output_type": "stream",
     "text": [
      "Wall time: 11 s\n"
     ]
    }
   ],
   "source": [
    "%%time\n",
    "g = person_df.Gender_Letter\n",
    "bmi = person_df.BMI\n",
    "\n",
    "BM_H = (( (g=='F') & ((bmi>=19) | (bmi<=24)))\n",
    "        |\n",
    "         ((g=='M') & ((bmi>=20) | (bmi<=25)))\n",
    "       )\n",
    "BM_O = (((g=='F') & (bmi>24))\n",
    "        |\n",
    "        ((g=='M') & (bmi>25))\n",
    "       )\n",
    "BM_U = (((g=='F') & (bmi<19))\n",
    "        |\n",
    "        ((g=='M') & (bmi<20))\n",
    "       )"
   ]
  },
  {
   "cell_type": "code",
   "execution_count": 12,
   "id": "9202a316",
   "metadata": {},
   "outputs": [
    {
     "name": "stdout",
     "output_type": "stream",
     "text": [
      "Wall time: 6.23 s\n"
     ]
    }
   ],
   "source": [
    "%%time\n",
    "person_df['Status'] = None\n",
    "person_df.loc[person_df[BM_H].index,'Status'] ='H'\n",
    "person_df.loc[person_df[BM_O].index,'Status'] ='O'\n",
    "person_df.loc[person_df[BM_U].index,'Status'] ='U'"
   ]
  },
  {
   "cell_type": "markdown",
   "id": "d11dc14c",
   "metadata": {},
   "source": [
    "8.\tAmong the methods we used in this challenge, which one of them should be regarded as V&B, and how come?"
   ]
  },
  {
   "cell_type": "markdown",
   "id": "3d2bd25a",
   "metadata": {},
   "source": [
    "**Answer**: `np.where()` is the fastest and is the one that outsource the task to numpy module, therefore, `np.where()` is V&B. "
   ]
  },
  {
   "cell_type": "markdown",
   "id": "038d6cab",
   "metadata": {},
   "source": [
    "9.\tFrom your experience in this challenge, If you were to come up with a guideline for your future self to help in deciding between V&B and Boolean masking what that guidline would be?"
   ]
  },
  {
   "cell_type": "markdown",
   "id": "1fbe3462",
   "metadata": {},
   "source": [
    "**Answer**: If you can find a numpy function that will help you get the task done, it is best to use V&B, otherwise we will have no choice but to use approaches such as boolean masking, or mapping a function."
   ]
  },
  {
   "cell_type": "code",
   "execution_count": null,
   "id": "276943fa",
   "metadata": {},
   "outputs": [],
   "source": []
  }
 ],
 "metadata": {
  "kernelspec": {
   "display_name": "Python 3 (ipykernel)",
   "language": "python",
   "name": "python3"
  },
  "language_info": {
   "codemirror_mode": {
    "name": "ipython",
    "version": 3
   },
   "file_extension": ".py",
   "mimetype": "text/x-python",
   "name": "python",
   "nbconvert_exporter": "python",
   "pygments_lexer": "ipython3",
   "version": "3.12.4"
  }
 },
 "nbformat": 4,
 "nbformat_minor": 5
}
